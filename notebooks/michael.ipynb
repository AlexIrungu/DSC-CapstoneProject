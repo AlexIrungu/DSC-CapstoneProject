{
 "cells": [
  {
   "cell_type": "markdown",
   "metadata": {},
   "source": [
    "<h1>1. Business Understanding</h1>\n",
    "\n",
    "<h2>Objective:</h2>\n",
    "\n",
    "The primary goal is to predict whether a borrower will default on their loan. This will help financial institutions in Kenya make better lending decisions and reduce the risk of bad loans.\n",
    "\n",
    "<h2>Key Questions:</h2>\n",
    "\n",
    "What factors contribute to loan defaults?\n",
    "\n",
    "Can we predict which borrowers are likely to default based on their profile and loan details?\n",
    "\n",
    "How can the model be used to improve loan approval processes?\n",
    "\n",
    "<h1>2. Data Understanding</h1>\n",
    "\n",
    "<h2>Dataset Overview:</h2>\n",
    "\n",
    "The dataset contains information about borrowers, including their demographics, employment status, credit score, loan details, and whether they defaulted on their loan.\n",
    "\n",
    "<h2>Key Variables:</h2>\n",
    "ID: Unique identifier for each borrower.\n",
    "\n",
    "GENDER: Gender of the borrower.\n",
    "\n",
    "AGE: Age of the borrower.\n",
    "\n",
    "NO_DEFAULT_LOAN: Number of previous loans without default.\n",
    "\n",
    "EMPLOYMENT_STATUS: Employment status of the borrower.\n",
    "\n",
    ": Sector in which the borrower works.\n",
    "\n",
    "MARITAL_STATUS: Marital status of the borrower.\n",
    "\n",
    "CREDIT_SCORE: Credit score of the borrower.\n",
    "\n",
    "SCOREGRADE: Credit score grade.\n",
    "\n",
    "CRR: Credit risk rating.\n",
    "\n",
    "CURRENCY: Currency of the loan (KES in this case).\n",
    "\n",
    "NET INCOME: Net income of the borrower.\n",
    "\n",
    "PRINCIPAL_AMOUNT: Loan amount.\n",
    "\n",
    "EMI: Equated Monthly Installment (monthly payment).\n",
    "\n",
    "OD_DAYS: Number of days the loan is overdue.\n",
    "\n",
    "PRUDENTIAL_CLASSIFICATION: Classification of the loan (e.g., Normal, Doubtful).\n",
    "\n",
    "RISK_GRADE: Risk grade of the borrower.\n",
    "\n",
    "AREARS: Amount in arrears.\n",
    "\n",
    "LOAN_STATUS: Current status of the loan (e.g., Current, Expired).\n",
    "\n",
    "\n",
    "<h2>Data Exploration:</h2>\n",
    "\n",
    "Missing Values: Some columns like GENDER, AGE, CREDIT_SCORE, and SCOREGRADE have missing values.\n",
    "\n",
    "Data Types: Most columns are numerical, but some like GENDER, EMPLOYMENT_STATUS, and LOAN_STATUS are categorical.\n",
    "\n",
    "Target Variable: LOAN_STATUS will be our target variable. We will classify loans as \"Default\" (Expired) or \"Non-Default\" (Current).\n",
    "\n",
    "<h1>3. Data Preparation</h1> \n",
    "\n",
    "<h2>Data Cleaning:</h2>\n",
    "\n",
    "<h3>Handling Missing Values:</h3>\n",
    "\n",
    "For numerical columns like AGE we can fill missing values with the median or mean.\n",
    "\n",
    "Removing Irrelevant Columns: Columns like CURRENCY (since all loans are in KES) can be dropped.\n",
    "\n",
    "Encoding Categorical Variables: Convert categorical variables like GENDER, EMPLOYMENT_STATUS, and LOAN_STATUS into numerical values using one-hot encoding or label encoding.\n",
    "\n",
    "<h2>Feature Engineering:</h2>\n",
    "\n",
    "Loan-to-Income Ratio: Create a new feature by dividing the PRINCIPAL_AMOUNT by NET INCOME. This can help assess the borrower's ability to repay the loan.\n",
    "\n",
    "Debt-to-Income Ratio: Calculate the ratio of EMI to NET INCOME.\n",
    "\n",
    "Overdue Ratio: Calculate the ratio of OD_DAYS to the loan tenure.\n",
    "\n",
    "*** Data Splitting:\n",
    "Split the data into training (80%) and testing (20%) sets to evaluate the model's performance.\n",
    "\n",
    "<h1>4. Modeling</h1>\n",
    "\n",
    "<h2>Model Selection:</h2>\n",
    "We will use classification algorithms to predict whether a borrower will default. Some common algorithms include:\n",
    "\n",
    "Logistic Regression\n",
    "\n",
    "Decision Trees\n",
    "\n",
    "Random Forest\n",
    "\n",
    "Gradient Boosting (e.g., XGBoost, LightGBM)\n",
    "\n",
    "Support Vector Machines (SVM)\n",
    "\n",
    "*** Model Training:\n",
    "Train each model on the training dataset.\n",
    "\n",
    "Use cross-validation to ensure the model generalizes well to unseen data.\n",
    "\n",
    "*** Hyperparameter Tuning:\n",
    "\n",
    "Use techniques like Grid Search or Random Search to find the best hyperparameters for each model.\n",
    "\n",
    "* 5. Evaluation\n",
    "\n",
    "Model Evaluation Metrics:\n",
    "\n",
    "Accuracy: Percentage of correctly predicted defaults and non-defaults.\n",
    "\n",
    "Precision: Percentage of predicted defaults that are actual defaults.\n",
    "\n",
    "Recall: Percentage of actual defaults that are correctly predicted.\n",
    "\n",
    "F1-Score: Balance between precision and recall.\n",
    "\n",
    "ROC-AUC: Area under the ROC curve, which measures the model's ability to distinguish between default and non-default classes.\n",
    "\n",
    "*** Model Comparison:\n",
    "\n",
    "Compare the performance of different models based on the above metrics.\n",
    "\n",
    "Select the best-performing model for deployment.\n",
    "\n",
    "Confusion Matrix:\n",
    "\n",
    "Visualize the number of true positives, true negatives, false positives, and false negatives.\n",
    "\n",
    "* 6. Deployment\n",
    "\n",
    "Model Deployment:\n",
    "\n",
    "Deploy the best model as a web service or API that financial institutions can use to predict loan defaults in real-time.\n",
    "\n",
    "Use tools like Flask or FastAPI to create the API.\n",
    "\n",
    "Monitoring:\n",
    "\n",
    "Continuously monitor the model's performance in production.\n",
    "\n",
    "Retrain the model periodically with new data to ensure it remains accurate.\n",
    "\n",
    "User Interface:\n",
    "Create a simple dashboard where loan officers can input borrower details and get a prediction on whether the borrower is likely to default.\n",
    "\n",
    "* Conclusion\n",
    "By following the CRISP-DM framework, we have built a Loan Default Detection System that can help financial institutions in Kenya make better lending decisions. The model predicts whether a borrower is likely to default based on their profile and loan details, reducing the risk of bad loans and improving the overall health of the financial sector.\n",
    "\n",
    "\n",
    "\n"
   ]
  },
  {
   "cell_type": "code",
   "execution_count": 38,
   "metadata": {},
   "outputs": [],
   "source": [
    "#Import libraries\n",
    "#import neccessary libraries\n",
    "import pandas as pd\n",
    "import numpy as np\n",
    "import matplotlib.pyplot as plt\n",
    "import seaborn as sns\n",
    "from sklearn.linear_model import LogisticRegression\n",
    "from sklearn.tree import DecisionTreeClassifier\n",
    "from sklearn.metrics import accuracy_score, classification_report, confusion_matrix\n",
    "from sklearn.feature_selection import RFE\n",
    "from sklearn.metrics import roc_curve, auc\n",
    "from sklearn.preprocessing import label_binarize\n",
    "from sklearn.multiclass import OneVsRestClassifier\n",
    "from sklearn.linear_model import LogisticRegression\n",
    "from imblearn.over_sampling import SMOTE\n",
    "from sklearn.model_selection import train_test_split, GridSearchCV\n",
    "from sklearn.preprocessing import StandardScaler, LabelEncoder\n",
    "from sklearn.ensemble import RandomForestClassifier\n",
    "from xgboost import XGBClassifier\n",
    "\n"
   ]
  },
  {
   "cell_type": "code",
   "execution_count": 39,
   "metadata": {},
   "outputs": [
    {
     "data": {
      "text/html": [
       "<div>\n",
       "<style scoped>\n",
       "    .dataframe tbody tr th:only-of-type {\n",
       "        vertical-align: middle;\n",
       "    }\n",
       "\n",
       "    .dataframe tbody tr th {\n",
       "        vertical-align: top;\n",
       "    }\n",
       "\n",
       "    .dataframe thead th {\n",
       "        text-align: right;\n",
       "    }\n",
       "</style>\n",
       "<table border=\"1\" class=\"dataframe\">\n",
       "  <thead>\n",
       "    <tr style=\"text-align: right;\">\n",
       "      <th></th>\n",
       "      <th>ID</th>\n",
       "      <th>GENDER</th>\n",
       "      <th>AGE</th>\n",
       "      <th>MARITAL_STATUS</th>\n",
       "      <th>EMPLOYMENT_STATUS</th>\n",
       "      <th>CREDIT_SCORE</th>\n",
       "      <th>SCORE_GRADE</th>\n",
       "      <th>NO_DEFAULT_LOAN</th>\n",
       "      <th>RISK_GRADE</th>\n",
       "      <th>PRODUCT</th>\n",
       "      <th>CURRENCY</th>\n",
       "      <th>NET INCOME</th>\n",
       "      <th>PRINCIPAL_DISBURSED</th>\n",
       "      <th>EMI</th>\n",
       "      <th>OD_DAYS</th>\n",
       "      <th>PRUDENTIAL_CLASSIFICATION</th>\n",
       "      <th>OD_AMOUNT</th>\n",
       "      <th>LOAN_STATUS</th>\n",
       "    </tr>\n",
       "  </thead>\n",
       "  <tbody>\n",
       "    <tr>\n",
       "      <th>0</th>\n",
       "      <td>104465</td>\n",
       "      <td>MALE</td>\n",
       "      <td>NaN</td>\n",
       "      <td>NaN</td>\n",
       "      <td>NaN</td>\n",
       "      <td>480.0</td>\n",
       "      <td>JJ</td>\n",
       "      <td>1.0</td>\n",
       "      <td>B20</td>\n",
       "      <td>Premium Finance - Consumer</td>\n",
       "      <td>KES</td>\n",
       "      <td>0.00</td>\n",
       "      <td>235,203.00</td>\n",
       "      <td>40,637.03</td>\n",
       "      <td>2995</td>\n",
       "      <td>LOSS</td>\n",
       "      <td>45,011.10</td>\n",
       "      <td>EXPIRED</td>\n",
       "    </tr>\n",
       "    <tr>\n",
       "      <th>1</th>\n",
       "      <td>138046</td>\n",
       "      <td>MALE</td>\n",
       "      <td>55.0</td>\n",
       "      <td>NaN</td>\n",
       "      <td>NaN</td>\n",
       "      <td>537.0</td>\n",
       "      <td>JJ</td>\n",
       "      <td>2.0</td>\n",
       "      <td>B20</td>\n",
       "      <td>Consumer Unsecured Loan</td>\n",
       "      <td>KES</td>\n",
       "      <td>0.00</td>\n",
       "      <td>215,000.00</td>\n",
       "      <td>7,186.79</td>\n",
       "      <td>2582</td>\n",
       "      <td>LOSS</td>\n",
       "      <td>115,674.06</td>\n",
       "      <td>EXPIRED</td>\n",
       "    </tr>\n",
       "    <tr>\n",
       "      <th>2</th>\n",
       "      <td>173501</td>\n",
       "      <td>MALE</td>\n",
       "      <td>NaN</td>\n",
       "      <td>NaN</td>\n",
       "      <td>NaN</td>\n",
       "      <td>545.0</td>\n",
       "      <td>JJ</td>\n",
       "      <td>1.0</td>\n",
       "      <td>B20</td>\n",
       "      <td>Consumer Unsecured Loan</td>\n",
       "      <td>KES</td>\n",
       "      <td>0.00</td>\n",
       "      <td>155,000.00</td>\n",
       "      <td>4,258.42</td>\n",
       "      <td>2667</td>\n",
       "      <td>LOSS</td>\n",
       "      <td>65,541.89</td>\n",
       "      <td>EXPIRED</td>\n",
       "    </tr>\n",
       "    <tr>\n",
       "      <th>3</th>\n",
       "      <td>141836</td>\n",
       "      <td>MALE</td>\n",
       "      <td>NaN</td>\n",
       "      <td>NaN</td>\n",
       "      <td>NaN</td>\n",
       "      <td>626.0</td>\n",
       "      <td>HH</td>\n",
       "      <td>3.0</td>\n",
       "      <td>B20</td>\n",
       "      <td>Consumer Unsecured Loan</td>\n",
       "      <td>KES</td>\n",
       "      <td>0.00</td>\n",
       "      <td>335,000.00</td>\n",
       "      <td>7,158.92</td>\n",
       "      <td>2810</td>\n",
       "      <td>LOSS</td>\n",
       "      <td>297,407.57</td>\n",
       "      <td>EXPIRED</td>\n",
       "    </tr>\n",
       "    <tr>\n",
       "      <th>4</th>\n",
       "      <td>65973</td>\n",
       "      <td>MALE</td>\n",
       "      <td>63.0</td>\n",
       "      <td>MARRIED</td>\n",
       "      <td>EMPLOYED</td>\n",
       "      <td>524.0</td>\n",
       "      <td>JJ</td>\n",
       "      <td>2.0</td>\n",
       "      <td>B20</td>\n",
       "      <td>Consumer Unsecured Loan</td>\n",
       "      <td>KES</td>\n",
       "      <td>0.00</td>\n",
       "      <td>105,000.00</td>\n",
       "      <td>2,136.29</td>\n",
       "      <td>2879</td>\n",
       "      <td>LOSS</td>\n",
       "      <td>117,969.24</td>\n",
       "      <td>EXPIRED</td>\n",
       "    </tr>\n",
       "    <tr>\n",
       "      <th>...</th>\n",
       "      <td>...</td>\n",
       "      <td>...</td>\n",
       "      <td>...</td>\n",
       "      <td>...</td>\n",
       "      <td>...</td>\n",
       "      <td>...</td>\n",
       "      <td>...</td>\n",
       "      <td>...</td>\n",
       "      <td>...</td>\n",
       "      <td>...</td>\n",
       "      <td>...</td>\n",
       "      <td>...</td>\n",
       "      <td>...</td>\n",
       "      <td>...</td>\n",
       "      <td>...</td>\n",
       "      <td>...</td>\n",
       "      <td>...</td>\n",
       "      <td>...</td>\n",
       "    </tr>\n",
       "    <tr>\n",
       "      <th>115888</th>\n",
       "      <td>154303</td>\n",
       "      <td>MALE</td>\n",
       "      <td>38.0</td>\n",
       "      <td>MARRIED</td>\n",
       "      <td>SELF-EMPLOYED</td>\n",
       "      <td>624.0</td>\n",
       "      <td>HH</td>\n",
       "      <td>4.0</td>\n",
       "      <td>A5</td>\n",
       "      <td>Digital Personal Loan</td>\n",
       "      <td>KES</td>\n",
       "      <td>3090724.25</td>\n",
       "      <td>100,000.00</td>\n",
       "      <td>34,398.05</td>\n",
       "      <td>0</td>\n",
       "      <td>NORMAL</td>\n",
       "      <td>0</td>\n",
       "      <td>CURRENT</td>\n",
       "    </tr>\n",
       "    <tr>\n",
       "      <th>115889</th>\n",
       "      <td>61445</td>\n",
       "      <td>MALE</td>\n",
       "      <td>43.0</td>\n",
       "      <td>MARRIED</td>\n",
       "      <td>EMPLOYED</td>\n",
       "      <td>579.0</td>\n",
       "      <td>JJ</td>\n",
       "      <td>1.0</td>\n",
       "      <td>A5</td>\n",
       "      <td>Mobile Loan</td>\n",
       "      <td>KES</td>\n",
       "      <td>819280.00</td>\n",
       "      <td>20,746.00</td>\n",
       "      <td>21,088.53</td>\n",
       "      <td>0</td>\n",
       "      <td>NORMAL</td>\n",
       "      <td>0</td>\n",
       "      <td>CURRENT</td>\n",
       "    </tr>\n",
       "    <tr>\n",
       "      <th>115890</th>\n",
       "      <td>151235</td>\n",
       "      <td>MALE</td>\n",
       "      <td>27.0</td>\n",
       "      <td>SINGLE</td>\n",
       "      <td>EMPLOYED</td>\n",
       "      <td>636.0</td>\n",
       "      <td>HH</td>\n",
       "      <td>0.0</td>\n",
       "      <td>A5</td>\n",
       "      <td>Mobile Loan</td>\n",
       "      <td>KES</td>\n",
       "      <td>529145.61</td>\n",
       "      <td>12,700.00</td>\n",
       "      <td>12,909.69</td>\n",
       "      <td>0</td>\n",
       "      <td>NORMAL</td>\n",
       "      <td>0</td>\n",
       "      <td>CURRENT</td>\n",
       "    </tr>\n",
       "    <tr>\n",
       "      <th>115891</th>\n",
       "      <td>181809</td>\n",
       "      <td>FEMALE</td>\n",
       "      <td>42.0</td>\n",
       "      <td>NaN</td>\n",
       "      <td>OTHER</td>\n",
       "      <td>667.0</td>\n",
       "      <td>FF</td>\n",
       "      <td>0.0</td>\n",
       "      <td>A5</td>\n",
       "      <td>Mobile Loan</td>\n",
       "      <td>KES</td>\n",
       "      <td>4129210.00</td>\n",
       "      <td>13,000.00</td>\n",
       "      <td>13,214.64</td>\n",
       "      <td>0</td>\n",
       "      <td>NORMAL</td>\n",
       "      <td>0</td>\n",
       "      <td>CURRENT</td>\n",
       "    </tr>\n",
       "    <tr>\n",
       "      <th>115892</th>\n",
       "      <td>79232</td>\n",
       "      <td>MALE</td>\n",
       "      <td>26.0</td>\n",
       "      <td>SINGLE</td>\n",
       "      <td>SELF-EMPLOYED</td>\n",
       "      <td>577.0</td>\n",
       "      <td>JJ</td>\n",
       "      <td>3.0</td>\n",
       "      <td>A5</td>\n",
       "      <td>Mobile Loan</td>\n",
       "      <td>KES</td>\n",
       "      <td>228155.78</td>\n",
       "      <td>2,876.00</td>\n",
       "      <td>2,923.48</td>\n",
       "      <td>0</td>\n",
       "      <td>NORMAL</td>\n",
       "      <td>0</td>\n",
       "      <td>CURRENT</td>\n",
       "    </tr>\n",
       "  </tbody>\n",
       "</table>\n",
       "<p>115893 rows × 18 columns</p>\n",
       "</div>"
      ],
      "text/plain": [
       "            ID  GENDER   AGE MARITAL_STATUS EMPLOYMENT_STATUS  CREDIT_SCORE  \\\n",
       "0       104465    MALE   NaN            NaN               NaN         480.0   \n",
       "1       138046    MALE  55.0            NaN               NaN         537.0   \n",
       "2       173501    MALE   NaN            NaN               NaN         545.0   \n",
       "3       141836    MALE   NaN            NaN               NaN         626.0   \n",
       "4        65973    MALE  63.0        MARRIED          EMPLOYED         524.0   \n",
       "...        ...     ...   ...            ...               ...           ...   \n",
       "115888  154303    MALE  38.0        MARRIED     SELF-EMPLOYED         624.0   \n",
       "115889   61445    MALE  43.0        MARRIED          EMPLOYED         579.0   \n",
       "115890  151235    MALE  27.0         SINGLE          EMPLOYED         636.0   \n",
       "115891  181809  FEMALE  42.0            NaN             OTHER         667.0   \n",
       "115892   79232    MALE  26.0         SINGLE     SELF-EMPLOYED         577.0   \n",
       "\n",
       "       SCORE_GRADE  NO_DEFAULT_LOAN RISK_GRADE                     PRODUCT  \\\n",
       "0               JJ              1.0        B20  Premium Finance - Consumer   \n",
       "1               JJ              2.0        B20     Consumer Unsecured Loan   \n",
       "2               JJ              1.0        B20     Consumer Unsecured Loan   \n",
       "3               HH              3.0        B20     Consumer Unsecured Loan   \n",
       "4               JJ              2.0        B20     Consumer Unsecured Loan   \n",
       "...            ...              ...        ...                         ...   \n",
       "115888          HH              4.0         A5       Digital Personal Loan   \n",
       "115889          JJ              1.0         A5                 Mobile Loan   \n",
       "115890          HH              0.0         A5                 Mobile Loan   \n",
       "115891          FF              0.0         A5                 Mobile Loan   \n",
       "115892          JJ              3.0         A5                 Mobile Loan   \n",
       "\n",
       "       CURRENCY  NET INCOME PRINCIPAL_DISBURSED        EMI  OD_DAYS  \\\n",
       "0           KES        0.00          235,203.00  40,637.03     2995   \n",
       "1           KES        0.00          215,000.00   7,186.79     2582   \n",
       "2           KES        0.00          155,000.00   4,258.42     2667   \n",
       "3           KES        0.00          335,000.00   7,158.92     2810   \n",
       "4           KES        0.00          105,000.00   2,136.29     2879   \n",
       "...         ...         ...                 ...        ...      ...   \n",
       "115888      KES  3090724.25          100,000.00  34,398.05        0   \n",
       "115889      KES   819280.00           20,746.00  21,088.53        0   \n",
       "115890      KES   529145.61           12,700.00  12,909.69        0   \n",
       "115891      KES  4129210.00           13,000.00  13,214.64        0   \n",
       "115892      KES   228155.78            2,876.00   2,923.48        0   \n",
       "\n",
       "       PRUDENTIAL_CLASSIFICATION   OD_AMOUNT LOAN_STATUS  \n",
       "0                           LOSS   45,011.10     EXPIRED  \n",
       "1                           LOSS  115,674.06     EXPIRED  \n",
       "2                           LOSS   65,541.89     EXPIRED  \n",
       "3                           LOSS  297,407.57     EXPIRED  \n",
       "4                           LOSS  117,969.24     EXPIRED  \n",
       "...                          ...         ...         ...  \n",
       "115888                    NORMAL           0     CURRENT  \n",
       "115889                    NORMAL           0     CURRENT  \n",
       "115890                    NORMAL           0     CURRENT  \n",
       "115891                    NORMAL           0     CURRENT  \n",
       "115892                    NORMAL           0     CURRENT  \n",
       "\n",
       "[115893 rows x 18 columns]"
      ]
     },
     "execution_count": 39,
     "metadata": {},
     "output_type": "execute_result"
    }
   ],
   "source": [
    "df = pd.read_csv(r'F:\\project 31_03_2025\\DSC-CapstoneProject\\Data\\Final_dataset_Final.csv')\n",
    "df"
   ]
  },
  {
   "cell_type": "code",
   "execution_count": 40,
   "metadata": {},
   "outputs": [
    {
     "name": "stdout",
     "output_type": "stream",
     "text": [
      "Total rows before cleaning: 115893\n"
     ]
    }
   ],
   "source": [
    "# Check the number of rows to confirm\n",
    "print(\"Total rows before cleaning:\", df.shape[0])"
   ]
  },
  {
   "cell_type": "code",
   "execution_count": 41,
   "metadata": {},
   "outputs": [
    {
     "data": {
      "text/plain": [
       "ID                               0\n",
       "GENDER                       15776\n",
       "AGE                          17456\n",
       "MARITAL_STATUS               45468\n",
       "EMPLOYMENT_STATUS            31760\n",
       "CREDIT_SCORE                 21012\n",
       "SCORE_GRADE                  21322\n",
       "NO_DEFAULT_LOAN              21322\n",
       "RISK_GRADE                       0\n",
       "PRODUCT                          1\n",
       "CURRENCY                         0\n",
       "NET INCOME                       0\n",
       "PRINCIPAL_DISBURSED              0\n",
       "EMI                              0\n",
       "OD_DAYS                          0\n",
       "PRUDENTIAL_CLASSIFICATION        0\n",
       "OD_AMOUNT                        0\n",
       "LOAN_STATUS                      0\n",
       "dtype: int64"
      ]
     },
     "execution_count": 41,
     "metadata": {},
     "output_type": "execute_result"
    }
   ],
   "source": [
    "# checks for missing (NaN) values\n",
    "df.isna().sum()"
   ]
  },
  {
   "cell_type": "code",
   "execution_count": 42,
   "metadata": {},
   "outputs": [
    {
     "data": {
      "text/plain": [
       "ID                             int64\n",
       "GENDER                        object\n",
       "AGE                          float64\n",
       "MARITAL_STATUS                object\n",
       "EMPLOYMENT_STATUS             object\n",
       "CREDIT_SCORE                 float64\n",
       "SCORE_GRADE                   object\n",
       "NO_DEFAULT_LOAN              float64\n",
       "RISK_GRADE                    object\n",
       "PRODUCT                       object\n",
       "CURRENCY                      object\n",
       "NET INCOME                   float64\n",
       "PRINCIPAL_DISBURSED           object\n",
       "EMI                           object\n",
       "OD_DAYS                        int64\n",
       "PRUDENTIAL_CLASSIFICATION     object\n",
       "OD_AMOUNT                     object\n",
       "LOAN_STATUS                   object\n",
       "dtype: object"
      ]
     },
     "execution_count": 42,
     "metadata": {},
     "output_type": "execute_result"
    }
   ],
   "source": [
    "# Show the data types of all columns\n",
    "df.dtypes\n"
   ]
  },
  {
   "cell_type": "code",
   "execution_count": 43,
   "metadata": {},
   "outputs": [
    {
     "data": {
      "text/html": [
       "<div>\n",
       "<style scoped>\n",
       "    .dataframe tbody tr th:only-of-type {\n",
       "        vertical-align: middle;\n",
       "    }\n",
       "\n",
       "    .dataframe tbody tr th {\n",
       "        vertical-align: top;\n",
       "    }\n",
       "\n",
       "    .dataframe thead th {\n",
       "        text-align: right;\n",
       "    }\n",
       "</style>\n",
       "<table border=\"1\" class=\"dataframe\">\n",
       "  <thead>\n",
       "    <tr style=\"text-align: right;\">\n",
       "      <th></th>\n",
       "      <th>EMI</th>\n",
       "      <th>OD_AMOUNT</th>\n",
       "      <th>PRINCIPAL_DISBURSED</th>\n",
       "    </tr>\n",
       "  </thead>\n",
       "  <tbody>\n",
       "    <tr>\n",
       "      <th>0</th>\n",
       "      <td>40,637.03</td>\n",
       "      <td>45,011.10</td>\n",
       "      <td>235,203.00</td>\n",
       "    </tr>\n",
       "    <tr>\n",
       "      <th>1</th>\n",
       "      <td>7,186.79</td>\n",
       "      <td>115,674.06</td>\n",
       "      <td>215,000.00</td>\n",
       "    </tr>\n",
       "    <tr>\n",
       "      <th>2</th>\n",
       "      <td>4,258.42</td>\n",
       "      <td>65,541.89</td>\n",
       "      <td>155,000.00</td>\n",
       "    </tr>\n",
       "    <tr>\n",
       "      <th>3</th>\n",
       "      <td>7,158.92</td>\n",
       "      <td>297,407.57</td>\n",
       "      <td>335,000.00</td>\n",
       "    </tr>\n",
       "    <tr>\n",
       "      <th>4</th>\n",
       "      <td>2,136.29</td>\n",
       "      <td>117,969.24</td>\n",
       "      <td>105,000.00</td>\n",
       "    </tr>\n",
       "    <tr>\n",
       "      <th>...</th>\n",
       "      <td>...</td>\n",
       "      <td>...</td>\n",
       "      <td>...</td>\n",
       "    </tr>\n",
       "    <tr>\n",
       "      <th>115888</th>\n",
       "      <td>34,398.05</td>\n",
       "      <td>0</td>\n",
       "      <td>100,000.00</td>\n",
       "    </tr>\n",
       "    <tr>\n",
       "      <th>115889</th>\n",
       "      <td>21,088.53</td>\n",
       "      <td>0</td>\n",
       "      <td>20,746.00</td>\n",
       "    </tr>\n",
       "    <tr>\n",
       "      <th>115890</th>\n",
       "      <td>12,909.69</td>\n",
       "      <td>0</td>\n",
       "      <td>12,700.00</td>\n",
       "    </tr>\n",
       "    <tr>\n",
       "      <th>115891</th>\n",
       "      <td>13,214.64</td>\n",
       "      <td>0</td>\n",
       "      <td>13,000.00</td>\n",
       "    </tr>\n",
       "    <tr>\n",
       "      <th>115892</th>\n",
       "      <td>2,923.48</td>\n",
       "      <td>0</td>\n",
       "      <td>2,876.00</td>\n",
       "    </tr>\n",
       "  </tbody>\n",
       "</table>\n",
       "<p>115893 rows × 3 columns</p>\n",
       "</div>"
      ],
      "text/plain": [
       "              EMI   OD_AMOUNT PRINCIPAL_DISBURSED\n",
       "0       40,637.03   45,011.10          235,203.00\n",
       "1        7,186.79  115,674.06          215,000.00\n",
       "2        4,258.42   65,541.89          155,000.00\n",
       "3        7,158.92  297,407.57          335,000.00\n",
       "4        2,136.29  117,969.24          105,000.00\n",
       "...           ...         ...                 ...\n",
       "115888  34,398.05           0          100,000.00\n",
       "115889  21,088.53           0           20,746.00\n",
       "115890  12,909.69           0           12,700.00\n",
       "115891  13,214.64           0           13,000.00\n",
       "115892   2,923.48           0            2,876.00\n",
       "\n",
       "[115893 rows x 3 columns]"
      ]
     },
     "execution_count": 43,
     "metadata": {},
     "output_type": "execute_result"
    }
   ],
   "source": [
    "#Check the \"EMI\", \"OD_AMOUNT\", \"PRINCIPAL_DISBURSED\" to understand why they are termed as object data types\n",
    "df.loc[:, [\"EMI\", \"OD_AMOUNT\", \"PRINCIPAL_DISBURSED\"]]"
   ]
  },
  {
   "cell_type": "code",
   "execution_count": 44,
   "metadata": {},
   "outputs": [
    {
     "data": {
      "text/html": [
       "<div>\n",
       "<style scoped>\n",
       "    .dataframe tbody tr th:only-of-type {\n",
       "        vertical-align: middle;\n",
       "    }\n",
       "\n",
       "    .dataframe tbody tr th {\n",
       "        vertical-align: top;\n",
       "    }\n",
       "\n",
       "    .dataframe thead th {\n",
       "        text-align: right;\n",
       "    }\n",
       "</style>\n",
       "<table border=\"1\" class=\"dataframe\">\n",
       "  <thead>\n",
       "    <tr style=\"text-align: right;\">\n",
       "      <th></th>\n",
       "      <th>EMI</th>\n",
       "      <th>OD_AMOUNT</th>\n",
       "      <th>PRINCIPAL_DISBURSED</th>\n",
       "    </tr>\n",
       "  </thead>\n",
       "  <tbody>\n",
       "    <tr>\n",
       "      <th>0</th>\n",
       "      <td>40637.03</td>\n",
       "      <td>45011.10</td>\n",
       "      <td>235203.0</td>\n",
       "    </tr>\n",
       "    <tr>\n",
       "      <th>1</th>\n",
       "      <td>7186.79</td>\n",
       "      <td>115674.06</td>\n",
       "      <td>215000.0</td>\n",
       "    </tr>\n",
       "    <tr>\n",
       "      <th>2</th>\n",
       "      <td>4258.42</td>\n",
       "      <td>65541.89</td>\n",
       "      <td>155000.0</td>\n",
       "    </tr>\n",
       "    <tr>\n",
       "      <th>3</th>\n",
       "      <td>7158.92</td>\n",
       "      <td>297407.57</td>\n",
       "      <td>335000.0</td>\n",
       "    </tr>\n",
       "    <tr>\n",
       "      <th>4</th>\n",
       "      <td>2136.29</td>\n",
       "      <td>117969.24</td>\n",
       "      <td>105000.0</td>\n",
       "    </tr>\n",
       "    <tr>\n",
       "      <th>...</th>\n",
       "      <td>...</td>\n",
       "      <td>...</td>\n",
       "      <td>...</td>\n",
       "    </tr>\n",
       "    <tr>\n",
       "      <th>115888</th>\n",
       "      <td>34398.05</td>\n",
       "      <td>0.00</td>\n",
       "      <td>100000.0</td>\n",
       "    </tr>\n",
       "    <tr>\n",
       "      <th>115889</th>\n",
       "      <td>21088.53</td>\n",
       "      <td>0.00</td>\n",
       "      <td>20746.0</td>\n",
       "    </tr>\n",
       "    <tr>\n",
       "      <th>115890</th>\n",
       "      <td>12909.69</td>\n",
       "      <td>0.00</td>\n",
       "      <td>12700.0</td>\n",
       "    </tr>\n",
       "    <tr>\n",
       "      <th>115891</th>\n",
       "      <td>13214.64</td>\n",
       "      <td>0.00</td>\n",
       "      <td>13000.0</td>\n",
       "    </tr>\n",
       "    <tr>\n",
       "      <th>115892</th>\n",
       "      <td>2923.48</td>\n",
       "      <td>0.00</td>\n",
       "      <td>2876.0</td>\n",
       "    </tr>\n",
       "  </tbody>\n",
       "</table>\n",
       "<p>115893 rows × 3 columns</p>\n",
       "</div>"
      ],
      "text/plain": [
       "             EMI  OD_AMOUNT  PRINCIPAL_DISBURSED\n",
       "0       40637.03   45011.10             235203.0\n",
       "1        7186.79  115674.06             215000.0\n",
       "2        4258.42   65541.89             155000.0\n",
       "3        7158.92  297407.57             335000.0\n",
       "4        2136.29  117969.24             105000.0\n",
       "...          ...        ...                  ...\n",
       "115888  34398.05       0.00             100000.0\n",
       "115889  21088.53       0.00              20746.0\n",
       "115890  12909.69       0.00              12700.0\n",
       "115891  13214.64       0.00              13000.0\n",
       "115892   2923.48       0.00               2876.0\n",
       "\n",
       "[115893 rows x 3 columns]"
      ]
     },
     "execution_count": 44,
     "metadata": {},
     "output_type": "execute_result"
    }
   ],
   "source": [
    "#Remove commas and change the data types to float of the mentioned columns\n",
    "df[\"EMI\"] = df[\"EMI\"].astype(str).str.replace(\",\", \"\").astype(float)\n",
    "df[\"OD_AMOUNT\"] = df[\"OD_AMOUNT\"].astype(str).str.replace(\",\", \"\").astype(float)\n",
    "df[\"PRINCIPAL_DISBURSED\"] = df[\"PRINCIPAL_DISBURSED\"].astype(str).str.replace(\",\", \"\").astype(float)\n",
    "\n",
    "#Display the changed columns\n",
    "df.loc[:, [\"EMI\", \"OD_AMOUNT\", \"PRINCIPAL_DISBURSED\"]]\n"
   ]
  },
  {
   "cell_type": "code",
   "execution_count": 45,
   "metadata": {},
   "outputs": [
    {
     "data": {
      "text/plain": [
       "ID                               0\n",
       "GENDER                           0\n",
       "AGE                              0\n",
       "MARITAL_STATUS               14180\n",
       "EMPLOYMENT_STATUS                0\n",
       "CREDIT_SCORE                     0\n",
       "SCORE_GRADE                      0\n",
       "NO_DEFAULT_LOAN                  0\n",
       "RISK_GRADE                       0\n",
       "PRODUCT                          0\n",
       "CURRENCY                         0\n",
       "NET INCOME                       0\n",
       "PRINCIPAL_DISBURSED              0\n",
       "EMI                              0\n",
       "OD_DAYS                          0\n",
       "PRUDENTIAL_CLASSIFICATION        0\n",
       "OD_AMOUNT                        0\n",
       "LOAN_STATUS                      0\n",
       "dtype: int64"
      ]
     },
     "execution_count": 45,
     "metadata": {},
     "output_type": "execute_result"
    }
   ],
   "source": [
    "df.dropna(subset=[\"CREDIT_SCORE\", \"SCORE_GRADE\", \"GENDER\",\"AGE\",\"EMPLOYMENT_STATUS\", \"CURRENCY\"], inplace=True)\n",
    "df.isna().sum()\n"
   ]
  },
  {
   "cell_type": "markdown",
   "metadata": {},
   "source": [
    "Since the only column that has null values is the Marital_Status column. we decided to investaigate its values "
   ]
  },
  {
   "cell_type": "code",
   "execution_count": 46,
   "metadata": {},
   "outputs": [
    {
     "data": {
      "text/plain": [
       "MARRIED     40826\n",
       "SINGLE      22467\n",
       "OTHER        1408\n",
       "WIDOWED       163\n",
       "ENGAGED        99\n",
       "DIVORCED       99\n",
       "PARTNER        29\n",
       "Name: MARITAL_STATUS, dtype: int64"
      ]
     },
     "execution_count": 46,
     "metadata": {},
     "output_type": "execute_result"
    }
   ],
   "source": [
    "df[\"MARITAL_STATUS\"].unique()\n",
    "df[\"MARITAL_STATUS\"].value_counts()\n",
    "\n"
   ]
  },
  {
   "cell_type": "code",
   "execution_count": 47,
   "metadata": {},
   "outputs": [
    {
     "data": {
      "text/plain": [
       "ID                           0\n",
       "GENDER                       0\n",
       "AGE                          0\n",
       "MARITAL_STATUS               0\n",
       "EMPLOYMENT_STATUS            0\n",
       "CREDIT_SCORE                 0\n",
       "SCORE_GRADE                  0\n",
       "NO_DEFAULT_LOAN              0\n",
       "RISK_GRADE                   0\n",
       "PRODUCT                      0\n",
       "CURRENCY                     0\n",
       "NET INCOME                   0\n",
       "PRINCIPAL_DISBURSED          0\n",
       "EMI                          0\n",
       "OD_DAYS                      0\n",
       "PRUDENTIAL_CLASSIFICATION    0\n",
       "OD_AMOUNT                    0\n",
       "LOAN_STATUS                  0\n",
       "dtype: int64"
      ]
     },
     "execution_count": 47,
     "metadata": {},
     "output_type": "execute_result"
    }
   ],
   "source": [
    "df[\"MARITAL_STATUS\"] = df[\"MARITAL_STATUS\"].fillna(\"OTHER\")\n",
    "df.isna().sum()"
   ]
  },
  {
   "cell_type": "markdown",
   "metadata": {},
   "source": [
    "In replacing all the nan values in Marital_Status with other, we were able to have zero null values"
   ]
  },
  {
   "cell_type": "code",
   "execution_count": 48,
   "metadata": {},
   "outputs": [
    {
     "data": {
      "text/plain": [
       "MARRIED     40826\n",
       "SINGLE      22467\n",
       "OTHER       15588\n",
       "WIDOWED       163\n",
       "ENGAGED        99\n",
       "DIVORCED       99\n",
       "PARTNER        29\n",
       "Name: MARITAL_STATUS, dtype: int64"
      ]
     },
     "execution_count": 48,
     "metadata": {},
     "output_type": "execute_result"
    }
   ],
   "source": [
    "df[\"MARITAL_STATUS\"].value_counts()"
   ]
  },
  {
   "cell_type": "code",
   "execution_count": 49,
   "metadata": {},
   "outputs": [
    {
     "data": {
      "text/plain": [
       "(79271, 18)"
      ]
     },
     "execution_count": 49,
     "metadata": {},
     "output_type": "execute_result"
    }
   ],
   "source": [
    "#Check for current shape of the data set\n",
    "df.shape"
   ]
  },
  {
   "cell_type": "code",
   "execution_count": 50,
   "metadata": {},
   "outputs": [
    {
     "data": {
      "text/plain": [
       "NORMAL         60963\n",
       "LOSS            9700\n",
       "DOUBTFUL        3308\n",
       "WATCH           3042\n",
       "SUBSTANDARD     2258\n",
       "Name: PRUDENTIAL_CLASSIFICATION, dtype: int64"
      ]
     },
     "execution_count": 50,
     "metadata": {},
     "output_type": "execute_result"
    }
   ],
   "source": [
    "df[\"PRUDENTIAL_CLASSIFICATION\"].value_counts()"
   ]
  },
  {
   "cell_type": "code",
   "execution_count": 51,
   "metadata": {},
   "outputs": [
    {
     "data": {
      "text/plain": [
       "NON-DEFAULT    64005\n",
       "DEFAULT        15266\n",
       "Name: DEFAULT_STATUS, dtype: int64"
      ]
     },
     "execution_count": 51,
     "metadata": {},
     "output_type": "execute_result"
    }
   ],
   "source": [
    "# Define default vs. non-default conditions\n",
    "df['DEFAULT_STATUS'] = np.where(df['PRUDENTIAL_CLASSIFICATION'].isin(['SUBSTANDARD', 'DOUBTFUL', 'LOSS']), 'DEFAULT', 'NON-DEFAULT')\n",
    "df['DEFAULT_STATUS'].value_counts()"
   ]
  },
  {
   "cell_type": "code",
   "execution_count": 52,
   "metadata": {},
   "outputs": [
    {
     "data": {
      "text/html": [
       "<div>\n",
       "<style scoped>\n",
       "    .dataframe tbody tr th:only-of-type {\n",
       "        vertical-align: middle;\n",
       "    }\n",
       "\n",
       "    .dataframe tbody tr th {\n",
       "        vertical-align: top;\n",
       "    }\n",
       "\n",
       "    .dataframe thead th {\n",
       "        text-align: right;\n",
       "    }\n",
       "</style>\n",
       "<table border=\"1\" class=\"dataframe\">\n",
       "  <thead>\n",
       "    <tr style=\"text-align: right;\">\n",
       "      <th></th>\n",
       "      <th>ID</th>\n",
       "      <th>AGE</th>\n",
       "      <th>CREDIT_SCORE</th>\n",
       "      <th>NO_DEFAULT_LOAN</th>\n",
       "      <th>NET INCOME</th>\n",
       "      <th>PRINCIPAL_DISBURSED</th>\n",
       "      <th>EMI</th>\n",
       "      <th>OD_DAYS</th>\n",
       "      <th>OD_AMOUNT</th>\n",
       "    </tr>\n",
       "  </thead>\n",
       "  <tbody>\n",
       "    <tr>\n",
       "      <th>count</th>\n",
       "      <td>79271.000000</td>\n",
       "      <td>79271.000000</td>\n",
       "      <td>79271.000000</td>\n",
       "      <td>79271.000000</td>\n",
       "      <td>7.927100e+04</td>\n",
       "      <td>7.927100e+04</td>\n",
       "      <td>7.927100e+04</td>\n",
       "      <td>79271.000000</td>\n",
       "      <td>7.927100e+04</td>\n",
       "    </tr>\n",
       "    <tr>\n",
       "      <th>mean</th>\n",
       "      <td>125088.613402</td>\n",
       "      <td>38.589396</td>\n",
       "      <td>648.149210</td>\n",
       "      <td>1.395807</td>\n",
       "      <td>1.476662e+06</td>\n",
       "      <td>7.369712e+05</td>\n",
       "      <td>3.349274e+04</td>\n",
       "      <td>174.557505</td>\n",
       "      <td>6.411109e+04</td>\n",
       "    </tr>\n",
       "    <tr>\n",
       "      <th>std</th>\n",
       "      <td>43354.023731</td>\n",
       "      <td>14.017264</td>\n",
       "      <td>80.520443</td>\n",
       "      <td>1.951161</td>\n",
       "      <td>2.948194e+06</td>\n",
       "      <td>1.901389e+06</td>\n",
       "      <td>1.555300e+05</td>\n",
       "      <td>497.964904</td>\n",
       "      <td>2.735128e+05</td>\n",
       "    </tr>\n",
       "    <tr>\n",
       "      <th>min</th>\n",
       "      <td>50001.000000</td>\n",
       "      <td>-1799.000000</td>\n",
       "      <td>0.000000</td>\n",
       "      <td>0.000000</td>\n",
       "      <td>0.000000e+00</td>\n",
       "      <td>0.000000e+00</td>\n",
       "      <td>0.000000e+00</td>\n",
       "      <td>0.000000</td>\n",
       "      <td>0.000000e+00</td>\n",
       "    </tr>\n",
       "    <tr>\n",
       "      <th>25%</th>\n",
       "      <td>87583.500000</td>\n",
       "      <td>32.000000</td>\n",
       "      <td>595.000000</td>\n",
       "      <td>0.000000</td>\n",
       "      <td>0.000000e+00</td>\n",
       "      <td>8.000000e+03</td>\n",
       "      <td>5.577775e+03</td>\n",
       "      <td>0.000000</td>\n",
       "      <td>0.000000e+00</td>\n",
       "    </tr>\n",
       "    <tr>\n",
       "      <th>50%</th>\n",
       "      <td>125039.000000</td>\n",
       "      <td>37.000000</td>\n",
       "      <td>645.000000</td>\n",
       "      <td>1.000000</td>\n",
       "      <td>4.050300e+05</td>\n",
       "      <td>5.300000e+04</td>\n",
       "      <td>1.696420e+04</td>\n",
       "      <td>0.000000</td>\n",
       "      <td>0.000000e+00</td>\n",
       "    </tr>\n",
       "    <tr>\n",
       "      <th>75%</th>\n",
       "      <td>162686.000000</td>\n",
       "      <td>44.000000</td>\n",
       "      <td>706.000000</td>\n",
       "      <td>2.000000</td>\n",
       "      <td>1.433186e+06</td>\n",
       "      <td>6.247175e+05</td>\n",
       "      <td>4.275432e+04</td>\n",
       "      <td>20.000000</td>\n",
       "      <td>5.872070e+03</td>\n",
       "    </tr>\n",
       "    <tr>\n",
       "      <th>max</th>\n",
       "      <td>199999.000000</td>\n",
       "      <td>94.000000</td>\n",
       "      <td>830.000000</td>\n",
       "      <td>84.000000</td>\n",
       "      <td>1.851174e+07</td>\n",
       "      <td>1.276698e+08</td>\n",
       "      <td>2.603850e+07</td>\n",
       "      <td>2784.000000</td>\n",
       "      <td>2.015321e+06</td>\n",
       "    </tr>\n",
       "  </tbody>\n",
       "</table>\n",
       "</div>"
      ],
      "text/plain": [
       "                  ID           AGE  CREDIT_SCORE  NO_DEFAULT_LOAN  \\\n",
       "count   79271.000000  79271.000000  79271.000000     79271.000000   \n",
       "mean   125088.613402     38.589396    648.149210         1.395807   \n",
       "std     43354.023731     14.017264     80.520443         1.951161   \n",
       "min     50001.000000  -1799.000000      0.000000         0.000000   \n",
       "25%     87583.500000     32.000000    595.000000         0.000000   \n",
       "50%    125039.000000     37.000000    645.000000         1.000000   \n",
       "75%    162686.000000     44.000000    706.000000         2.000000   \n",
       "max    199999.000000     94.000000    830.000000        84.000000   \n",
       "\n",
       "         NET INCOME  PRINCIPAL_DISBURSED           EMI       OD_DAYS  \\\n",
       "count  7.927100e+04         7.927100e+04  7.927100e+04  79271.000000   \n",
       "mean   1.476662e+06         7.369712e+05  3.349274e+04    174.557505   \n",
       "std    2.948194e+06         1.901389e+06  1.555300e+05    497.964904   \n",
       "min    0.000000e+00         0.000000e+00  0.000000e+00      0.000000   \n",
       "25%    0.000000e+00         8.000000e+03  5.577775e+03      0.000000   \n",
       "50%    4.050300e+05         5.300000e+04  1.696420e+04      0.000000   \n",
       "75%    1.433186e+06         6.247175e+05  4.275432e+04     20.000000   \n",
       "max    1.851174e+07         1.276698e+08  2.603850e+07   2784.000000   \n",
       "\n",
       "          OD_AMOUNT  \n",
       "count  7.927100e+04  \n",
       "mean   6.411109e+04  \n",
       "std    2.735128e+05  \n",
       "min    0.000000e+00  \n",
       "25%    0.000000e+00  \n",
       "50%    0.000000e+00  \n",
       "75%    5.872070e+03  \n",
       "max    2.015321e+06  "
      ]
     },
     "execution_count": 52,
     "metadata": {},
     "output_type": "execute_result"
    }
   ],
   "source": [
    "# Handling extreme outliers for OD_DAYS (Capping at 99th percentile)\n",
    "od_days_cap = df[\"OD_DAYS\"].quantile(0.99)\n",
    "df[\"OD_DAYS\"] = df[\"OD_DAYS\"].clip(upper=od_days_cap)\n",
    "\n",
    "# Handling extreme outliers for NET INCOME (Capping at 99th percentile)\n",
    "net_income_cap = df[\"NET INCOME\"].quantile(0.99)\n",
    "df[\"NET INCOME\"] = df[\"NET INCOME\"].clip(upper=net_income_cap)\n",
    "\n",
    "# Handling extreme outliers for OD_AMOUNT (Capping at 99th percentile)\n",
    "od_amount_cap = df[\"OD_AMOUNT\"].quantile(0.99)\n",
    "df[\"OD_AMOUNT\"] = df[\"OD_AMOUNT\"].clip(upper=od_amount_cap)\n",
    "\n",
    "# Display summary statistics after cleaning\n",
    "df.describe()"
   ]
  },
  {
   "cell_type": "code",
   "execution_count": 53,
   "metadata": {},
   "outputs": [
    {
     "data": {
      "text/plain": [
       "count    79089.000000\n",
       "mean       649.640506\n",
       "std         74.362533\n",
       "min        433.000000\n",
       "25%        595.000000\n",
       "50%        645.000000\n",
       "75%        706.000000\n",
       "max        830.000000\n",
       "Name: CREDIT_SCORE, dtype: float64"
      ]
     },
     "execution_count": 53,
     "metadata": {},
     "output_type": "execute_result"
    }
   ],
   "source": [
    "# Drop rows where 'CREDIT_SCORE' is outside the valid range (300 - 999)\n",
    "df = df[(df[\"CREDIT_SCORE\"] >= 300) & (df[\"CREDIT_SCORE\"] <= 999)]\n",
    "\n",
    "# Confirm the changes by checking the new min and max values\n",
    "df[\"CREDIT_SCORE\"].describe()"
   ]
  },
  {
   "cell_type": "code",
   "execution_count": 54,
   "metadata": {},
   "outputs": [
    {
     "name": "stderr",
     "output_type": "stream",
     "text": [
      "c:\\Users\\Mike\\anaconda3\\envs\\learn-env\\lib\\site-packages\\pandas\\core\\frame.py:4163: SettingWithCopyWarning: \n",
      "A value is trying to be set on a copy of a slice from a DataFrame\n",
      "\n",
      "See the caveats in the documentation: https://pandas.pydata.org/pandas-docs/stable/user_guide/indexing.html#returning-a-view-versus-a-copy\n",
      "  return super().drop(\n"
     ]
    },
    {
     "data": {
      "text/html": [
       "<div>\n",
       "<style scoped>\n",
       "    .dataframe tbody tr th:only-of-type {\n",
       "        vertical-align: middle;\n",
       "    }\n",
       "\n",
       "    .dataframe tbody tr th {\n",
       "        vertical-align: top;\n",
       "    }\n",
       "\n",
       "    .dataframe thead th {\n",
       "        text-align: right;\n",
       "    }\n",
       "</style>\n",
       "<table border=\"1\" class=\"dataframe\">\n",
       "  <thead>\n",
       "    <tr style=\"text-align: right;\">\n",
       "      <th></th>\n",
       "      <th>ID</th>\n",
       "      <th>GENDER</th>\n",
       "      <th>AGE</th>\n",
       "      <th>MARITAL_STATUS</th>\n",
       "      <th>EMPLOYMENT_STATUS</th>\n",
       "      <th>CREDIT_SCORE</th>\n",
       "      <th>SCORE_GRADE</th>\n",
       "      <th>NO_DEFAULT_LOAN</th>\n",
       "      <th>RISK_GRADE</th>\n",
       "      <th>PRODUCT</th>\n",
       "      <th>NET INCOME</th>\n",
       "      <th>PRINCIPAL_DISBURSED</th>\n",
       "      <th>EMI</th>\n",
       "      <th>OD_DAYS</th>\n",
       "      <th>PRUDENTIAL_CLASSIFICATION</th>\n",
       "      <th>OD_AMOUNT</th>\n",
       "      <th>LOAN_STATUS</th>\n",
       "      <th>DEFAULT_STATUS</th>\n",
       "    </tr>\n",
       "  </thead>\n",
       "  <tbody>\n",
       "    <tr>\n",
       "      <th>4</th>\n",
       "      <td>65973</td>\n",
       "      <td>MALE</td>\n",
       "      <td>63.0</td>\n",
       "      <td>MARRIED</td>\n",
       "      <td>EMPLOYED</td>\n",
       "      <td>524.0</td>\n",
       "      <td>JJ</td>\n",
       "      <td>2.0</td>\n",
       "      <td>B20</td>\n",
       "      <td>Consumer Unsecured Loan</td>\n",
       "      <td>0.00</td>\n",
       "      <td>105000.00</td>\n",
       "      <td>2136.29</td>\n",
       "      <td>2784</td>\n",
       "      <td>LOSS</td>\n",
       "      <td>117969.24</td>\n",
       "      <td>EXPIRED</td>\n",
       "      <td>DEFAULT</td>\n",
       "    </tr>\n",
       "    <tr>\n",
       "      <th>9</th>\n",
       "      <td>123979</td>\n",
       "      <td>FEMALE</td>\n",
       "      <td>43.0</td>\n",
       "      <td>MARRIED</td>\n",
       "      <td>OTHER</td>\n",
       "      <td>713.0</td>\n",
       "      <td>CC</td>\n",
       "      <td>0.0</td>\n",
       "      <td>A5</td>\n",
       "      <td>Mortgage Loan</td>\n",
       "      <td>6082350.54</td>\n",
       "      <td>5189721.55</td>\n",
       "      <td>40346.25</td>\n",
       "      <td>0</td>\n",
       "      <td>NORMAL</td>\n",
       "      <td>0.00</td>\n",
       "      <td>CURRENT</td>\n",
       "      <td>NON-DEFAULT</td>\n",
       "    </tr>\n",
       "    <tr>\n",
       "      <th>14</th>\n",
       "      <td>179032</td>\n",
       "      <td>MALE</td>\n",
       "      <td>45.0</td>\n",
       "      <td>MARRIED</td>\n",
       "      <td>EMPLOYED</td>\n",
       "      <td>610.0</td>\n",
       "      <td>II</td>\n",
       "      <td>1.0</td>\n",
       "      <td>B20</td>\n",
       "      <td>Consumer Unsecured Loan</td>\n",
       "      <td>0.00</td>\n",
       "      <td>680000.00</td>\n",
       "      <td>14996.64</td>\n",
       "      <td>2784</td>\n",
       "      <td>LOSS</td>\n",
       "      <td>857627.23</td>\n",
       "      <td>EXPIRED</td>\n",
       "      <td>DEFAULT</td>\n",
       "    </tr>\n",
       "    <tr>\n",
       "      <th>18</th>\n",
       "      <td>75503</td>\n",
       "      <td>MALE</td>\n",
       "      <td>50.0</td>\n",
       "      <td>MARRIED</td>\n",
       "      <td>SELF-EMPLOYED</td>\n",
       "      <td>625.0</td>\n",
       "      <td>HH</td>\n",
       "      <td>1.0</td>\n",
       "      <td>A5</td>\n",
       "      <td>Motor Vehicle Loan</td>\n",
       "      <td>1916500.00</td>\n",
       "      <td>2489731.41</td>\n",
       "      <td>61804.69</td>\n",
       "      <td>0</td>\n",
       "      <td>NORMAL</td>\n",
       "      <td>0.00</td>\n",
       "      <td>CURRENT</td>\n",
       "      <td>NON-DEFAULT</td>\n",
       "    </tr>\n",
       "    <tr>\n",
       "      <th>21</th>\n",
       "      <td>76448</td>\n",
       "      <td>MALE</td>\n",
       "      <td>35.0</td>\n",
       "      <td>MARRIED</td>\n",
       "      <td>EMPLOYED</td>\n",
       "      <td>657.0</td>\n",
       "      <td>GG</td>\n",
       "      <td>3.0</td>\n",
       "      <td>B11</td>\n",
       "      <td>Motor Vehicle Loan</td>\n",
       "      <td>0.00</td>\n",
       "      <td>4772722.00</td>\n",
       "      <td>115661.85</td>\n",
       "      <td>754</td>\n",
       "      <td>LOSS</td>\n",
       "      <td>2015320.66</td>\n",
       "      <td>EXPIRED</td>\n",
       "      <td>DEFAULT</td>\n",
       "    </tr>\n",
       "  </tbody>\n",
       "</table>\n",
       "</div>"
      ],
      "text/plain": [
       "        ID  GENDER   AGE MARITAL_STATUS EMPLOYMENT_STATUS  CREDIT_SCORE  \\\n",
       "4    65973    MALE  63.0        MARRIED          EMPLOYED         524.0   \n",
       "9   123979  FEMALE  43.0        MARRIED             OTHER         713.0   \n",
       "14  179032    MALE  45.0        MARRIED          EMPLOYED         610.0   \n",
       "18   75503    MALE  50.0        MARRIED     SELF-EMPLOYED         625.0   \n",
       "21   76448    MALE  35.0        MARRIED          EMPLOYED         657.0   \n",
       "\n",
       "   SCORE_GRADE  NO_DEFAULT_LOAN RISK_GRADE                  PRODUCT  \\\n",
       "4           JJ              2.0        B20  Consumer Unsecured Loan   \n",
       "9           CC              0.0         A5            Mortgage Loan   \n",
       "14          II              1.0        B20  Consumer Unsecured Loan   \n",
       "18          HH              1.0         A5       Motor Vehicle Loan   \n",
       "21          GG              3.0        B11       Motor Vehicle Loan   \n",
       "\n",
       "    NET INCOME  PRINCIPAL_DISBURSED        EMI  OD_DAYS  \\\n",
       "4         0.00            105000.00    2136.29     2784   \n",
       "9   6082350.54           5189721.55   40346.25        0   \n",
       "14        0.00            680000.00   14996.64     2784   \n",
       "18  1916500.00           2489731.41   61804.69        0   \n",
       "21        0.00           4772722.00  115661.85      754   \n",
       "\n",
       "   PRUDENTIAL_CLASSIFICATION   OD_AMOUNT LOAN_STATUS DEFAULT_STATUS  \n",
       "4                       LOSS   117969.24     EXPIRED        DEFAULT  \n",
       "9                     NORMAL        0.00     CURRENT    NON-DEFAULT  \n",
       "14                      LOSS   857627.23     EXPIRED        DEFAULT  \n",
       "18                    NORMAL        0.00     CURRENT    NON-DEFAULT  \n",
       "21                      LOSS  2015320.66     EXPIRED        DEFAULT  "
      ]
     },
     "execution_count": 54,
     "metadata": {},
     "output_type": "execute_result"
    }
   ],
   "source": [
    "# Drop the weak predictor 'CURRENCY'\n",
    "df.drop(columns=[\"CURRENCY\"], inplace=True)\n",
    "df.columns\n",
    "df.head()"
   ]
  },
  {
   "cell_type": "code",
   "execution_count": 55,
   "metadata": {},
   "outputs": [],
   "source": [
    "df.to_csv('cleaned_dataset.csv', index=False)"
   ]
  },
  {
   "cell_type": "code",
   "execution_count": 56,
   "metadata": {},
   "outputs": [
    {
     "data": {
      "text/plain": [
       "Index(['ID', 'GENDER', 'AGE', 'MARITAL_STATUS', 'EMPLOYMENT_STATUS',\n",
       "       'CREDIT_SCORE', 'SCORE_GRADE', 'NO_DEFAULT_LOAN', 'RISK_GRADE',\n",
       "       'PRODUCT', 'NET INCOME', 'PRINCIPAL_DISBURSED', 'EMI', 'OD_DAYS',\n",
       "       'PRUDENTIAL_CLASSIFICATION', 'OD_AMOUNT', 'LOAN_STATUS',\n",
       "       'DEFAULT_STATUS'],\n",
       "      dtype='object')"
      ]
     },
     "execution_count": 56,
     "metadata": {},
     "output_type": "execute_result"
    }
   ],
   "source": [
    "#Load clean data set\n",
    "df_cleaned = pd.read_csv(r'F:\\project 31_03_2025\\DSC-CapstoneProject\\notebooks\\cleaned_dataset.csv')\n",
    "df_cleaned.columns"
   ]
  },
  {
   "cell_type": "code",
   "execution_count": 57,
   "metadata": {},
   "outputs": [
    {
     "data": {
      "text/plain": [
       "False    79089\n",
       "dtype: int64"
      ]
     },
     "execution_count": 57,
     "metadata": {},
     "output_type": "execute_result"
    }
   ],
   "source": [
    "df_cleaned.duplicated().value_counts()"
   ]
  },
  {
   "cell_type": "code",
   "execution_count": 58,
   "metadata": {},
   "outputs": [
    {
     "name": "stdout",
     "output_type": "stream",
     "text": [
      "<class 'pandas.core.frame.DataFrame'>\n",
      "RangeIndex: 79089 entries, 0 to 79088\n",
      "Data columns (total 18 columns):\n",
      " #   Column                     Non-Null Count  Dtype  \n",
      "---  ------                     --------------  -----  \n",
      " 0   ID                         79089 non-null  int64  \n",
      " 1   GENDER                     79089 non-null  object \n",
      " 2   AGE                        79089 non-null  float64\n",
      " 3   MARITAL_STATUS             79089 non-null  object \n",
      " 4   EMPLOYMENT_STATUS          79089 non-null  object \n",
      " 5   CREDIT_SCORE               79089 non-null  float64\n",
      " 6   SCORE_GRADE                79089 non-null  object \n",
      " 7   NO_DEFAULT_LOAN            79089 non-null  float64\n",
      " 8   RISK_GRADE                 79089 non-null  object \n",
      " 9   PRODUCT                    79089 non-null  object \n",
      " 10  NET INCOME                 79089 non-null  float64\n",
      " 11  PRINCIPAL_DISBURSED        79089 non-null  float64\n",
      " 12  EMI                        79089 non-null  float64\n",
      " 13  OD_DAYS                    79089 non-null  int64  \n",
      " 14  PRUDENTIAL_CLASSIFICATION  79089 non-null  object \n",
      " 15  OD_AMOUNT                  79089 non-null  float64\n",
      " 16  LOAN_STATUS                79089 non-null  object \n",
      " 17  DEFAULT_STATUS             79089 non-null  object \n",
      "dtypes: float64(7), int64(2), object(9)\n",
      "memory usage: 10.9+ MB\n"
     ]
    },
    {
     "data": {
      "text/plain": [
       "(       ID  GENDER   AGE MARITAL_STATUS EMPLOYMENT_STATUS  CREDIT_SCORE  \\\n",
       " 0   65973    MALE  63.0        MARRIED          EMPLOYED         524.0   \n",
       " 1  123979  FEMALE  43.0        MARRIED             OTHER         713.0   \n",
       " 2  179032    MALE  45.0        MARRIED          EMPLOYED         610.0   \n",
       " 3   75503    MALE  50.0        MARRIED     SELF-EMPLOYED         625.0   \n",
       " 4   76448    MALE  35.0        MARRIED          EMPLOYED         657.0   \n",
       " \n",
       "   SCORE_GRADE  NO_DEFAULT_LOAN RISK_GRADE                  PRODUCT  \\\n",
       " 0          JJ              2.0        B20  Consumer Unsecured Loan   \n",
       " 1          CC              0.0         A5            Mortgage Loan   \n",
       " 2          II              1.0        B20  Consumer Unsecured Loan   \n",
       " 3          HH              1.0         A5       Motor Vehicle Loan   \n",
       " 4          GG              3.0        B11       Motor Vehicle Loan   \n",
       " \n",
       "    NET INCOME  PRINCIPAL_DISBURSED        EMI  OD_DAYS  \\\n",
       " 0        0.00            105000.00    2136.29     2784   \n",
       " 1  6082350.54           5189721.55   40346.25        0   \n",
       " 2        0.00            680000.00   14996.64     2784   \n",
       " 3  1916500.00           2489731.41   61804.69        0   \n",
       " 4        0.00           4772722.00  115661.85      754   \n",
       " \n",
       "   PRUDENTIAL_CLASSIFICATION   OD_AMOUNT LOAN_STATUS DEFAULT_STATUS  \n",
       " 0                      LOSS   117969.24     EXPIRED        DEFAULT  \n",
       " 1                    NORMAL        0.00     CURRENT    NON-DEFAULT  \n",
       " 2                      LOSS   857627.23     EXPIRED        DEFAULT  \n",
       " 3                    NORMAL        0.00     CURRENT    NON-DEFAULT  \n",
       " 4                      LOSS  2015320.66     EXPIRED        DEFAULT  ,\n",
       " ID                           0\n",
       " GENDER                       0\n",
       " AGE                          0\n",
       " MARITAL_STATUS               0\n",
       " EMPLOYMENT_STATUS            0\n",
       " CREDIT_SCORE                 0\n",
       " SCORE_GRADE                  0\n",
       " NO_DEFAULT_LOAN              0\n",
       " RISK_GRADE                   0\n",
       " PRODUCT                      0\n",
       " NET INCOME                   0\n",
       " PRINCIPAL_DISBURSED          0\n",
       " EMI                          0\n",
       " OD_DAYS                      0\n",
       " PRUDENTIAL_CLASSIFICATION    0\n",
       " OD_AMOUNT                    0\n",
       " LOAN_STATUS                  0\n",
       " DEFAULT_STATUS               0\n",
       " dtype: int64)"
      ]
     },
     "execution_count": 58,
     "metadata": {},
     "output_type": "execute_result"
    }
   ],
   "source": [
    "# Display basic information about the dataset\n",
    "df_cleaned.info()\n",
    "\n",
    "# Check for missing values again\n",
    "missing_values = df_cleaned.isna().sum()\n",
    "\n",
    "# Display first few rows\n",
    "df_cleaned.head(), missing_values\n"
   ]
  },
  {
   "cell_type": "markdown",
   "metadata": {},
   "source": [
    "Observations from Data Overview:\n",
    "The dataset has 79,271 rows and 19 columns.\n",
    "\n",
    "No missing values remain after cleaning.\n",
    "\n",
    "Data types are appropriate, with numerical values correctly assigned as float64 or int64, and categorical variables as object.\n",
    "\n",
    "The target variable is DEFAULT_STATUS, categorized as DEFAULT or NON-DEFAULT.\n",
    "\n",
    "Next, we perform exploratory data analysis (EDA) to understand patterns and trends"
   ]
  },
  {
   "cell_type": "markdown",
   "metadata": {},
   "source": [
    "<h1>EXPLOTARY DATA ANALYSIS</h1>"
   ]
  },
  {
   "cell_type": "code",
   "execution_count": 59,
   "metadata": {},
   "outputs": [
    {
     "data": {
      "text/plain": [
       "(                  ID           AGE  CREDIT_SCORE  NO_DEFAULT_LOAN  \\\n",
       " count   79089.000000  79089.000000  79089.000000     79089.000000   \n",
       " mean   125103.596872     38.603561    649.640506         1.397868   \n",
       " std     43356.135247     14.018107     74.362533         1.930060   \n",
       " min     50001.000000  -1799.000000    433.000000         0.000000   \n",
       " 25%     87599.000000     32.000000    595.000000         0.000000   \n",
       " 50%    125058.000000     37.000000    645.000000         1.000000   \n",
       " 75%    162705.000000     44.000000    706.000000         2.000000   \n",
       " max    199999.000000     88.000000    830.000000        25.000000   \n",
       " \n",
       "          NET INCOME  PRINCIPAL_DISBURSED           EMI       OD_DAYS  \\\n",
       " count  7.908900e+04         7.908900e+04  7.908900e+04  79089.000000   \n",
       " mean   1.477724e+06         7.379246e+05  3.353226e+04    174.884396   \n",
       " std    2.949026e+06         1.902417e+06  1.556999e+05    498.362113   \n",
       " min    0.000000e+00         0.000000e+00  0.000000e+00      0.000000   \n",
       " 25%    0.000000e+00         8.000000e+03  5.590810e+03      0.000000   \n",
       " 50%    4.056550e+05         5.300000e+04  1.700400e+04      0.000000   \n",
       " 75%    1.435165e+06         6.282350e+05  4.285017e+04     20.000000   \n",
       " max    1.851174e+07         1.276698e+08  2.603850e+07   2784.000000   \n",
       " \n",
       "           OD_AMOUNT  \n",
       " count  7.908900e+04  \n",
       " mean   6.425655e+04  \n",
       " std    2.738104e+05  \n",
       " min    0.000000e+00  \n",
       " 25%    0.000000e+00  \n",
       " 50%    0.000000e+00  \n",
       " 75%    5.908960e+03  \n",
       " max    2.015321e+06  ,)"
      ]
     },
     "execution_count": 59,
     "metadata": {},
     "output_type": "execute_result"
    }
   ],
   "source": [
    "# Summary statistics of numerical variables\n",
    "summary_stats = df_cleaned.describe()\n",
    "summary_stats,\n"
   ]
  },
  {
   "cell_type": "code",
   "execution_count": 60,
   "metadata": {},
   "outputs": [
    {
     "data": {
      "text/plain": [
       "Index(['ID', 'GENDER', 'AGE', 'MARITAL_STATUS', 'EMPLOYMENT_STATUS',\n",
       "       'CREDIT_SCORE', 'SCORE_GRADE', 'NO_DEFAULT_LOAN', 'RISK_GRADE',\n",
       "       'PRODUCT', 'NET INCOME', 'PRINCIPAL_DISBURSED', 'EMI', 'OD_DAYS',\n",
       "       'PRUDENTIAL_CLASSIFICATION', 'OD_AMOUNT', 'LOAN_STATUS',\n",
       "       'DEFAULT_STATUS'],\n",
       "      dtype='object')"
      ]
     },
     "execution_count": 60,
     "metadata": {},
     "output_type": "execute_result"
    }
   ],
   "source": [
    "df_cleaned.columns"
   ]
  },
  {
   "cell_type": "code",
   "execution_count": 61,
   "metadata": {},
   "outputs": [
    {
     "data": {
      "image/png": "[encoded data removed]",
      "text/plain": [
       "<Figure size 432x288 with 1 Axes>"
      ]
     },
     "metadata": {
      "needs_background": "light"
     },
     "output_type": "display_data"
    },
    {
     "data": {
      "text/plain": [
       "NON-DEFAULT    80.702753\n",
       "DEFAULT        19.297247\n",
       "Name: DEFAULT_STATUS, dtype: float64"
      ]
     },
     "execution_count": 61,
     "metadata": {},
     "output_type": "execute_result"
    }
   ],
   "source": [
    "\n",
    "# Distribution of target variable\n",
    "target_distribution = df_cleaned[\"DEFAULT_STATUS\"].value_counts(normalize=True) * 100\n",
    "\n",
    "# Visualizing the distribution of target variable\n",
    "plt.figure(figsize=(6, 4))\n",
    "sns.barplot(x=target_distribution.index, y=target_distribution.values, palette=[\"#FF9999\", \"#66B2FF\"])\n",
    "plt.title(\"Distribution of Loan Default Status\")\n",
    "plt.xlabel(\"Default Status\")\n",
    "plt.ylabel(\"Percentage\")\n",
    "plt.show()\n",
    "\n",
    "target_distribution\n"
   ]
  },
  {
   "cell_type": "markdown",
   "metadata": {},
   "source": [
    "Key EDA Insights:\n",
    "Target Variable Distribution:\n",
    "\n",
    "80.74% of loans are non-default.\n",
    "\n",
    "19.26% of loans are default.\n",
    "\n",
    "There is an imbalance, which should be addressed during modeling (e.g., using SMOTE or class-weight adjustments).\n",
    "\n",
    "Age Anomalies:\n",
    "\n",
    "The minimum age is -1799, which is clearly an error.\n",
    "\n",
    "I will replace negative and extreme ages with a more realistic value.\n",
    "\n",
    "Financial Features:\n",
    "\n",
    "Net Income, Principal Disbursed, and EMI show a wide range, with some extreme values.\n",
    "\n",
    "Outliers may need log transformation or scaling.\n",
    "\n",
    "Next, I'll clean the age column and check correlations between key numerical variables."
   ]
  },
  {
   "cell_type": "code",
   "execution_count": 62,
   "metadata": {},
   "outputs": [],
   "source": [
    "# Fix unrealistic AGE values by setting negative ages to the median age\n",
    "median_age = df_cleaned[df_cleaned[\"AGE\"] > 0][\"AGE\"].median()\n",
    "df_cleaned.loc[df_cleaned[\"AGE\"] < 0, \"AGE\"] = median_age"
   ]
  },
  {
   "cell_type": "code",
   "execution_count": 63,
   "metadata": {},
   "outputs": [
    {
     "data": {
      "text/plain": [
       "count    79089.000000\n",
       "mean        38.668045\n",
       "std          9.290901\n",
       "min          2.000000\n",
       "25%         32.000000\n",
       "50%         37.000000\n",
       "75%         44.000000\n",
       "max         88.000000\n",
       "Name: AGE, dtype: float64"
      ]
     },
     "execution_count": 63,
     "metadata": {},
     "output_type": "execute_result"
    }
   ],
   "source": [
    "# Display updated age statistics\n",
    "df_cleaned[\"AGE\"].describe()"
   ]
  },
  {
   "cell_type": "markdown",
   "metadata": {},
   "source": [
    "Updated Observations:\n",
    "Age Correction:\n",
    "\n",
    "The unrealistic negative values were replaced with the median (37 years).\n",
    "\n",
    "The minimum age is now 2, which still seems low. I can filter out extreme values (e.g., below 18)."
   ]
  },
  {
   "cell_type": "markdown",
   "metadata": {},
   "source": [
    "Distribution of Numerical Features\n",
    "\n",
    "Relationship Between Features and Default Status\n",
    "\n",
    "Categorical Feature Analysis"
   ]
  },
  {
   "cell_type": "code",
   "execution_count": 64,
   "metadata": {},
   "outputs": [
    {
     "data": {
      "image/png": "[encoded data removed]",
      "text/plain": [
       "<Figure size 1296x720 with 8 Axes>"
      ]
     },
     "metadata": {
      "needs_background": "light"
     },
     "output_type": "display_data"
    }
   ],
   "source": [
    "# Update numerical columns list \n",
    "numerical_cols = [\"AGE\", \"CREDIT_SCORE\", \"NET INCOME\", \"PRINCIPAL_DISBURSED\", \"EMI\", \"OD_DAYS\", \"OD_AMOUNT\"]\n",
    "\n",
    "# Create histograms for numerical features\n",
    "fig, axes = plt.subplots(2, 4, figsize=(18, 10))\n",
    "axes = axes.flatten()\n",
    "\n",
    "for i, col in enumerate(numerical_cols):\n",
    "    sns.histplot(df_cleaned[col], bins=50, kde=True, ax=axes[i], color=\"blue\")\n",
    "    axes[i].set_title(f\"Distribution of {col}\")\n",
    "\n",
    "plt.tight_layout()\n",
    "plt.show()\n"
   ]
  },
  {
   "cell_type": "markdown",
   "metadata": {},
   "source": [
    "Histogram Insights\n",
    "AGE: Normally distributed with a peak around 30-40 years.\n",
    "\n",
    "CREDIT_SCORE: Most values range from 500 to 800, peaking around 650.\n",
    "\n",
    "PRINCIPAL_DISBURSED, EMI, OD_AMOUNT: Right-skewed, meaning a few customers have very high loan amounts.\n",
    "\n",
    "OD_DAYS: Most borrowers have no overdue days, but a few have very high values."
   ]
  },
  {
   "cell_type": "code",
   "execution_count": 65,
   "metadata": {},
   "outputs": [
    {
     "data": {
      "image/png": "[encoded data removed]",
      "text/plain": [
       "<Figure size 1296x720 with 8 Axes>"
      ]
     },
     "metadata": {
      "needs_background": "light"
     },
     "output_type": "display_data"
    }
   ],
   "source": [
    "# Box plots to identify outliers\n",
    "fig, axes = plt.subplots(2, 4, figsize=(18, 10))\n",
    "axes = axes.flatten()\n",
    "\n",
    "for i, col in enumerate(numerical_cols):\n",
    "    sns.boxplot(y=df_cleaned[col], ax=axes[i], color=\"orange\")\n",
    "    axes[i].set_title(f\"Boxplot of {col}\")\n",
    "\n",
    "plt.tight_layout()\n",
    "plt.show()"
   ]
  },
  {
   "cell_type": "markdown",
   "metadata": {},
   "source": [
    "Insights from Numerical Feature Distributions:\n",
    "Skewed Distributions:\n",
    "\n",
    "Features like \"NET INCOME,\" \"PRINCIPAL_DISBURSED,\" and \"OD_AMOUNT\" have highly skewed distributions, indicating the presence of extreme values (outliers).\n",
    "\n",
    "Outliers Detected:\n",
    "\n",
    "Box plots reveal significant outliers in \"EMI,\" \"OD_DAYS,\" \"NET INCOME,\" and \"PRINCIPAL_DISBURSED.\"\n",
    "\n",
    "This suggests some borrowers have very high overdue days or loan amounts.\n",
    "\n"
   ]
  },
  {
   "cell_type": "markdown",
   "metadata": {},
   "source": [
    "Visualize categorical features and analyze their relationship with loan default status"
   ]
  },
  {
   "cell_type": "code",
   "execution_count": 66,
   "metadata": {},
   "outputs": [
    {
     "data": {
      "image/png": "[encoded data removed]",
      "text/plain": [
       "<Figure size 1296x864 with 6 Axes>"
      ]
     },
     "metadata": {
      "needs_background": "light"
     },
     "output_type": "display_data"
    }
   ],
   "source": [
    "# Categorical features to analyze\n",
    "categorical_cols = [\"GENDER\", \"MARITAL_STATUS\", \"EMPLOYMENT_STATUS\", \"SCORE_GRADE\", \"RISK_GRADE\", \"DEFAULT_STATUS\",]\n",
    "\n",
    "\n",
    "# Set up subplot grid for count plots\n",
    "fig, axes = plt.subplots(2, 3, figsize=(18, 12))\n",
    "axes = axes.flatten()\n",
    "\n",
    "# Plot distribution of categorical variables\n",
    "for i, col in enumerate(categorical_cols):\n",
    "    sns.countplot(x=df_cleaned[col], order=df_cleaned[col].value_counts().index, ax=axes[i], palette=\"coolwarm\")\n",
    "    axes[i].set_title(f\"Distribution of {col}\")\n",
    "    axes[i].set_xticklabels(axes[i].get_xticklabels(), rotation=45)\n",
    "\n",
    "plt.tight_layout()\n",
    "plt.show()\n"
   ]
  },
  {
   "cell_type": "markdown",
   "metadata": {},
   "source": [
    "Categorical Variable Insights\n",
    "\n",
    "GENDER: More males than females.\n",
    "\n",
    "MARITAL_STATUS: Majority are married.\n",
    "\n",
    "EMPLOYMENT_STATUS: Most borrowers are employed, but a significant number are self-employed.\n",
    "\n",
    "SCORE_GRADE & RISK_GRADE: Certain grades dominate.\n",
    "\n",
    "\n",
    "DEFAULT_STATUS: Confirming imbalance (fewer DEFAULT cases than NON-DEFAULT)."
   ]
  },
  {
   "cell_type": "code",
   "execution_count": 67,
   "metadata": {},
   "outputs": [
    {
     "data": {
      "image/png": "[encoded data removed]",
      "text/plain": [
       "<Figure size 1296x864 with 6 Axes>"
      ]
     },
     "metadata": {
      "needs_background": "light"
     },
     "output_type": "display_data"
    }
   ],
   "source": [
    "# Analyze the relationship between categorical features and loan default status\n",
    "fig, axes = plt.subplots(2, 3, figsize=(18, 12))\n",
    "axes = axes.flatten()\n",
    "\n",
    "for i, col in enumerate(categorical_cols[:-1]):  # Exclude DEFAULT_STATUS itself\n",
    "    sns.countplot(x=df_cleaned[col], hue=df_cleaned[\"DEFAULT_STATUS\"], ax=axes[i], palette=\"Set1\")\n",
    "    axes[i].set_title(f\"{col} vs Default Status\")\n",
    "    axes[i].set_xticklabels(axes[i].get_xticklabels(), rotation=45)\n",
    "\n",
    "plt.tight_layout()\n",
    "plt.show()"
   ]
  },
  {
   "cell_type": "markdown",
   "metadata": {},
   "source": [
    "Insights from Categorical Feature Analysis:\n",
    "Imbalanced Categories:\n",
    "\n",
    "Some categories (e.g., certain RISK_GRADE and SCORE_GRADE levels) appear less frequently.\n",
    "\n",
    "This might require balancing techniques like oversampling or undersampling.\n",
    "\n",
    "Default Status Trends:\n",
    "\n",
    "Employment Status: Some employment categories show higher default rates.\n",
    "\n",
    "Risk Grade & Score Grade: Higher risk grades are strongly correlated with defaults.\n",
    "\n",
    "Marital Status & Gender: No strong trend observed, but some variation exists."
   ]
  },
  {
   "cell_type": "markdown",
   "metadata": {},
   "source": [
    "I'll generate correlation heatmaps and visualize relationships between key numerical features."
   ]
  },
  {
   "cell_type": "code",
   "execution_count": 68,
   "metadata": {},
   "outputs": [
    {
     "data": {
      "image/png": "[encoded data removed]",
      "text/plain": [
       "<Figure size 720x432 with 2 Axes>"
      ]
     },
     "metadata": {
      "needs_background": "light"
     },
     "output_type": "display_data"
    }
   ],
   "source": [
    "import seaborn as sns\n",
    "import matplotlib.pyplot as plt\n",
    "\n",
    "# Compute correlation matrix\n",
    "corr_matrix = df_cleaned[numerical_cols].corr()\n",
    "\n",
    "# Heatmap to show correlations between numerical features\n",
    "plt.figure(figsize=(10, 6))\n",
    "sns.heatmap(corr_matrix, annot=True, cmap=\"coolwarm\", fmt=\".2f\", linewidths=0.5)\n",
    "plt.title(\"Correlation Heatmap of Numerical Features\")\n",
    "plt.show()\n",
    "\n",
    "\n"
   ]
  },
  {
   "cell_type": "markdown",
   "metadata": {},
   "source": [
    "Correlation Insights\n",
    "\n",
    "CREDIT_SCORE and SCORE_GRADE are highly correlated, meaning one might be redundant.\n",
    "\n",
    "\n",
    "PRINCIPAL_DISBURSED, EMI, and OD_AMOUNT show strong positive correlations (higher loan amounts lead to higher EMIs and overdue amounts).\n",
    "\n",
    "\n",
    "NET INCOME has a weak correlation with loan amounts, suggesting that income alone isn’t a strong predictor of loan size.\n",
    "\n",
    "\n",
    "OD_DAYS and OD_AMOUNT are correlated, meaning higher overdue days lead to higher overdue amounts."
   ]
  },
  {
   "cell_type": "code",
   "execution_count": 69,
   "metadata": {},
   "outputs": [
    {
     "data": {
      "text/html": [
       "<div>\n",
       "<style scoped>\n",
       "    .dataframe tbody tr th:only-of-type {\n",
       "        vertical-align: middle;\n",
       "    }\n",
       "\n",
       "    .dataframe tbody tr th {\n",
       "        vertical-align: top;\n",
       "    }\n",
       "\n",
       "    .dataframe thead th {\n",
       "        text-align: right;\n",
       "    }\n",
       "</style>\n",
       "<table border=\"1\" class=\"dataframe\">\n",
       "  <thead>\n",
       "    <tr style=\"text-align: right;\">\n",
       "      <th></th>\n",
       "      <th>Chi-square</th>\n",
       "      <th>P-value</th>\n",
       "    </tr>\n",
       "  </thead>\n",
       "  <tbody>\n",
       "    <tr>\n",
       "      <th>GENDER</th>\n",
       "      <td>297.623567</td>\n",
       "      <td>1.085233e-66</td>\n",
       "    </tr>\n",
       "    <tr>\n",
       "      <th>MARITAL_STATUS</th>\n",
       "      <td>2851.707069</td>\n",
       "      <td>0.000000e+00</td>\n",
       "    </tr>\n",
       "    <tr>\n",
       "      <th>EMPLOYMENT_STATUS</th>\n",
       "      <td>159.249621</td>\n",
       "      <td>1.430461e-32</td>\n",
       "    </tr>\n",
       "    <tr>\n",
       "      <th>SCORE_GRADE</th>\n",
       "      <td>20519.895734</td>\n",
       "      <td>0.000000e+00</td>\n",
       "    </tr>\n",
       "    <tr>\n",
       "      <th>RISK_GRADE</th>\n",
       "      <td>74553.060270</td>\n",
       "      <td>0.000000e+00</td>\n",
       "    </tr>\n",
       "    <tr>\n",
       "      <th>DEFAULT_STATUS</th>\n",
       "      <td>79082.578929</td>\n",
       "      <td>0.000000e+00</td>\n",
       "    </tr>\n",
       "  </tbody>\n",
       "</table>\n",
       "</div>"
      ],
      "text/plain": [
       "                     Chi-square       P-value\n",
       "GENDER               297.623567  1.085233e-66\n",
       "MARITAL_STATUS      2851.707069  0.000000e+00\n",
       "EMPLOYMENT_STATUS    159.249621  1.430461e-32\n",
       "SCORE_GRADE        20519.895734  0.000000e+00\n",
       "RISK_GRADE         74553.060270  0.000000e+00\n",
       "DEFAULT_STATUS     79082.578929  0.000000e+00"
      ]
     },
     "execution_count": 69,
     "metadata": {},
     "output_type": "execute_result"
    }
   ],
   "source": [
    "from scipy.stats import chi2_contingency\n",
    "\n",
    "# Perform Chi-square tests for categorical variables\n",
    "chi_square_results = {}\n",
    "for var in categorical_cols:\n",
    "    contingency_table = pd.crosstab(df_cleaned[var], df_cleaned[\"DEFAULT_STATUS\"])\n",
    "    chi2, p, dof, expected = chi2_contingency(contingency_table)\n",
    "    chi_square_results[var] = {\"Chi-square\": chi2, \"P-value\": p}\n",
    "\n",
    "# Convert results to DataFrame for better readability\n",
    "chi_square_df = pd.DataFrame.from_dict(chi_square_results, orient=\"index\")\n",
    "\n",
    "# Display the Chi-square test results\n",
    "chi_square_df"
   ]
  },
  {
   "cell_type": "code",
   "execution_count": 70,
   "metadata": {},
   "outputs": [
    {
     "data": {
      "image/png": "[encoded data removed]",
      "text/plain": [
       "<Figure size 1296x720 with 8 Axes>"
      ]
     },
     "metadata": {
      "needs_background": "light"
     },
     "output_type": "display_data"
    }
   ],
   "source": [
    "# Create boxplots for numerical variables vs DEFAULT_STATUS\n",
    "fig, axes = plt.subplots(nrows=2, ncols=4, figsize=(18, 10))\n",
    "fig.suptitle(\"Boxplots of Numerical Variables by DEFAULT_STATUS\", fontsize=16)\n",
    "\n",
    "for ax, var in zip(axes.flatten(), numerical_cols):\n",
    "    sns.boxplot(data=df_cleaned, x=\"DEFAULT_STATUS\", y=var, ax=ax)\n",
    "    ax.set_title(f\"{var} vs DEFAULT_STATUS\")\n",
    "\n",
    "plt.tight_layout(rect=[0, 0, 1, 0.96])\n",
    "plt.show()"
   ]
  },
  {
   "cell_type": "code",
   "execution_count": 71,
   "metadata": {},
   "outputs": [
    {
     "data": {
      "text/plain": [
       "{'AGE': {'T-statistic': 7.472269071624873, 'P-value': 8.150724677999528e-14},\n",
       " 'CREDIT_SCORE': {'T-statistic': -198.07439000241394, 'P-value': 0.0},\n",
       " 'NET INCOME': {'T-statistic': -145.3507844124909, 'P-value': 0.0},\n",
       " 'PRINCIPAL_DISBURSED': {'T-statistic': -13.922796664558003,\n",
       "  'P-value': 6.106639379558563e-44},\n",
       " 'EMI': {'T-statistic': -2.443477513116584, 'P-value': 0.014553168293333047},\n",
       " 'OD_DAYS': {'T-statistic': 134.99164959685723, 'P-value': 0.0},\n",
       " 'OD_AMOUNT': {'T-statistic': 67.73179179246304, 'P-value': 0.0}}"
      ]
     },
     "execution_count": 71,
     "metadata": {},
     "output_type": "execute_result"
    }
   ],
   "source": [
    "# Conduct T-tests to compare means of DEFAULT vs. NON-DEFAULT groups\n",
    "from scipy.stats import ttest_ind\n",
    "t_test_results = {}\n",
    "for var in numerical_cols:\n",
    "    default_group = df_cleaned[df_cleaned[\"DEFAULT_STATUS\"] == \"DEFAULT\"][var]\n",
    "    non_default_group = df_cleaned[df_cleaned[\"DEFAULT_STATUS\"] == \"NON-DEFAULT\"][var]\n",
    "    \n",
    "    t_stat, p_value = ttest_ind(default_group, non_default_group, equal_var=False)\n",
    "    t_test_results[var] = {\"T-statistic\": t_stat, \"P-value\": p_value}\n",
    "\n",
    "t_test_results"
   ]
  },
  {
   "cell_type": "markdown",
   "metadata": {},
   "source": [
    "Boxplot Observations:\n",
    "\n",
    "CREDIT_SCORE & NET INCOME: Defaulted loans have much lower values.\n",
    "\n",
    "OD_DAYS & OD_AMOUNT: Defaults have significantly higher overdraft amounts and overdue days.\n",
    "\n",
    "PRINCIPAL_DISBURSED & EMI: Differences exist but are less pronounced.\n",
    "\n",
    "T-test Results:\n",
    "\n",
    "Statistically Significant Differences (p-value < 0.05) for all variables.\n",
    "\n",
    "Strongest Separators (High T-statistics):\n",
    "\n",
    "CREDIT_SCORE (-184.6)\n",
    "\n",
    "NET INCOME (-99.35)\n",
    "\n",
    "OD_DAYS (126.9)\n",
    "\n",
    "OD_AMOUNT (46.5)\n"
   ]
  },
  {
   "cell_type": "code",
   "execution_count": 72,
   "metadata": {},
   "outputs": [
    {
     "data": {
      "image/png": "[encoded data removed]",
      "text/plain": [
       "<Figure size 720x432 with 2 Axes>"
      ]
     },
     "metadata": {
      "needs_background": "light"
     },
     "output_type": "display_data"
    }
   ],
   "source": [
    "# Define numerical variables for analysis\n",
    "selected_vars = numerical_cols + [\"DEFAULT_STATUS\"]\n",
    "\n",
    "# Convert DEFAULT_STATUS to numeric for visualization (0 = NON-DEFAULT, 1 = DEFAULT)\n",
    "df_cleaned[\"DEFAULT_STATUS\"] = df_cleaned[\"DEFAULT_STATUS\"].apply(lambda x: 1 if x == \"DEFAULT\" else 0)\n",
    "\n",
    "# Compute correlation matrix\n",
    "corr_matrix = df_cleaned[numerical_cols + [\"DEFAULT_STATUS\"]].corr()\n",
    "\n",
    "# Plot correlation heatmap\n",
    "plt.figure(figsize=(10, 6))\n",
    "sns.heatmap(corr_matrix, annot=True, fmt=\".2f\", cmap=\"coolwarm\", linewidths=0.5)\n",
    "plt.title(\"Correlation Matrix of Numerical Features with DEFAULT_STATUS\")\n",
    "plt.show()\n"
   ]
  },
  {
   "cell_type": "code",
   "execution_count": 73,
   "metadata": {},
   "outputs": [
    {
     "data": {
      "text/html": [
       "<div>\n",
       "<style scoped>\n",
       "    .dataframe tbody tr th:only-of-type {\n",
       "        vertical-align: middle;\n",
       "    }\n",
       "\n",
       "    .dataframe tbody tr th {\n",
       "        vertical-align: top;\n",
       "    }\n",
       "\n",
       "    .dataframe thead th {\n",
       "        text-align: right;\n",
       "    }\n",
       "</style>\n",
       "<table border=\"1\" class=\"dataframe\">\n",
       "  <thead>\n",
       "    <tr style=\"text-align: right;\">\n",
       "      <th></th>\n",
       "      <th>T-statistic</th>\n",
       "      <th>P-value</th>\n",
       "    </tr>\n",
       "  </thead>\n",
       "  <tbody>\n",
       "    <tr>\n",
       "      <th>AGE</th>\n",
       "      <td>NaN</td>\n",
       "      <td>NaN</td>\n",
       "    </tr>\n",
       "    <tr>\n",
       "      <th>CREDIT_SCORE</th>\n",
       "      <td>NaN</td>\n",
       "      <td>NaN</td>\n",
       "    </tr>\n",
       "    <tr>\n",
       "      <th>NET INCOME</th>\n",
       "      <td>NaN</td>\n",
       "      <td>NaN</td>\n",
       "    </tr>\n",
       "    <tr>\n",
       "      <th>PRINCIPAL_DISBURSED</th>\n",
       "      <td>NaN</td>\n",
       "      <td>NaN</td>\n",
       "    </tr>\n",
       "    <tr>\n",
       "      <th>EMI</th>\n",
       "      <td>NaN</td>\n",
       "      <td>NaN</td>\n",
       "    </tr>\n",
       "    <tr>\n",
       "      <th>OD_DAYS</th>\n",
       "      <td>NaN</td>\n",
       "      <td>NaN</td>\n",
       "    </tr>\n",
       "    <tr>\n",
       "      <th>OD_AMOUNT</th>\n",
       "      <td>NaN</td>\n",
       "      <td>NaN</td>\n",
       "    </tr>\n",
       "  </tbody>\n",
       "</table>\n",
       "</div>"
      ],
      "text/plain": [
       "                     T-statistic  P-value\n",
       "AGE                          NaN      NaN\n",
       "CREDIT_SCORE                 NaN      NaN\n",
       "NET INCOME                   NaN      NaN\n",
       "PRINCIPAL_DISBURSED          NaN      NaN\n",
       "EMI                          NaN      NaN\n",
       "OD_DAYS                      NaN      NaN\n",
       "OD_AMOUNT                    NaN      NaN"
      ]
     },
     "execution_count": 73,
     "metadata": {},
     "output_type": "execute_result"
    }
   ],
   "source": [
    "# Perform T-tests for each numerical variable against DEFAULT_STATUS\n",
    "t_test_results = {}\n",
    "for var in numerical_cols:\n",
    "    default_group = df_cleaned[df_cleaned[\"DEFAULT_STATUS\"] == \"DEFAULT\"][var]\n",
    "    non_default_group = df_cleaned[df_cleaned[\"DEFAULT_STATUS\"] == \"NON-DEFAULT\"][var]\n",
    "    \n",
    "    t_stat, p_value = ttest_ind(default_group, non_default_group, equal_var=False, nan_policy='omit')\n",
    "    t_test_results[var] = {\"T-statistic\": t_stat, \"P-value\": p_value}\n",
    "\n",
    "# Convert results to DataFrame for readability\n",
    "t_test_results_df = pd.DataFrame.from_dict(t_test_results, orient=\"index\")\n",
    "\n",
    "# Display results\n",
    "t_test_results_df"
   ]
  },
  {
   "cell_type": "markdown",
   "metadata": {},
   "source": [
    "T-Test Results (Numerical Variables vs. DEFAULT_STATUS)\n",
    "\n",
    "Key Findings:\n",
    "\n",
    "Highly Significant Differences (p-value ≈ 0.05):\n",
    "\n",
    "CREDIT_SCORE, NET INCOME, OD_DAYS, OD_AMOUNT → Strong indicators of default risk.\n",
    "\n",
    "PRINCIPAL_DISBURSED also shows a significant difference.\n",
    "\n",
    "Age → Older individuals may have different default risks.\n",
    "\n",
    "Least Significant:\n",
    "\n",
    "EMI → May not be as strong a predictor."
   ]
  },
  {
   "cell_type": "code",
   "execution_count": 74,
   "metadata": {},
   "outputs": [
    {
     "data": {
      "text/plain": [
       "Index(['ID', 'GENDER', 'AGE', 'MARITAL_STATUS', 'EMPLOYMENT_STATUS',\n",
       "       'CREDIT_SCORE', 'SCORE_GRADE', 'NO_DEFAULT_LOAN', 'RISK_GRADE',\n",
       "       'PRODUCT', 'NET INCOME', 'PRINCIPAL_DISBURSED', 'EMI', 'OD_DAYS',\n",
       "       'PRUDENTIAL_CLASSIFICATION', 'OD_AMOUNT', 'LOAN_STATUS',\n",
       "       'DEFAULT_STATUS'],\n",
       "      dtype='object')"
      ]
     },
     "execution_count": 74,
     "metadata": {},
     "output_type": "execute_result"
    }
   ],
   "source": [
    "df_cleaned.columns"
   ]
  },
  {
   "cell_type": "code",
   "execution_count": 75,
   "metadata": {},
   "outputs": [
    {
     "data": {
      "text/plain": [
       "Index(['ID', 'GENDER', 'AGE', 'MARITAL_STATUS', 'EMPLOYMENT_STATUS',\n",
       "       'CREDIT_SCORE', 'SCORE_GRADE', 'NO_DEFAULT_LOAN', 'RISK_GRADE',\n",
       "       'PRODUCT', 'NET INCOME', 'PRINCIPAL_DISBURSED', 'EMI', 'OD_DAYS',\n",
       "       'OD_AMOUNT', 'LOAN_STATUS', 'DEFAULT_STATUS'],\n",
       "      dtype='object')"
      ]
     },
     "execution_count": 75,
     "metadata": {},
     "output_type": "execute_result"
    }
   ],
   "source": [
    "#Drop some columns such as \"PRUDENTIAL_CLASSIFICATION\" (used to generate the default status column)\n",
    "df_cleaned.drop([\"PRUDENTIAL_CLASSIFICATION\"], axis=1, inplace=True, errors=\"ignore\") \n",
    "df_cleaned.columns\n"
   ]
  },
  {
   "cell_type": "code",
   "execution_count": 76,
   "metadata": {},
   "outputs": [
    {
     "data": {
      "text/html": [
       "<div>\n",
       "<style scoped>\n",
       "    .dataframe tbody tr th:only-of-type {\n",
       "        vertical-align: middle;\n",
       "    }\n",
       "\n",
       "    .dataframe tbody tr th {\n",
       "        vertical-align: top;\n",
       "    }\n",
       "\n",
       "    .dataframe thead th {\n",
       "        text-align: right;\n",
       "    }\n",
       "</style>\n",
       "<table border=\"1\" class=\"dataframe\">\n",
       "  <thead>\n",
       "    <tr style=\"text-align: right;\">\n",
       "      <th></th>\n",
       "      <th>Chi-square</th>\n",
       "      <th>P-value</th>\n",
       "    </tr>\n",
       "  </thead>\n",
       "  <tbody>\n",
       "    <tr>\n",
       "      <th>RISK_GRADE</th>\n",
       "      <td>74553.060270</td>\n",
       "      <td>0.000000e+00</td>\n",
       "    </tr>\n",
       "    <tr>\n",
       "      <th>LOAN_STATUS</th>\n",
       "      <td>43004.139824</td>\n",
       "      <td>0.000000e+00</td>\n",
       "    </tr>\n",
       "    <tr>\n",
       "      <th>SCORE_GRADE</th>\n",
       "      <td>20519.895734</td>\n",
       "      <td>0.000000e+00</td>\n",
       "    </tr>\n",
       "    <tr>\n",
       "      <th>PRODUCT</th>\n",
       "      <td>17280.449320</td>\n",
       "      <td>0.000000e+00</td>\n",
       "    </tr>\n",
       "    <tr>\n",
       "      <th>MARITAL_STATUS</th>\n",
       "      <td>2851.707069</td>\n",
       "      <td>0.000000e+00</td>\n",
       "    </tr>\n",
       "    <tr>\n",
       "      <th>EMPLOYMENT_STATUS</th>\n",
       "      <td>159.249621</td>\n",
       "      <td>1.430461e-32</td>\n",
       "    </tr>\n",
       "  </tbody>\n",
       "</table>\n",
       "</div>"
      ],
      "text/plain": [
       "                     Chi-square       P-value\n",
       "RISK_GRADE         74553.060270  0.000000e+00\n",
       "LOAN_STATUS        43004.139824  0.000000e+00\n",
       "SCORE_GRADE        20519.895734  0.000000e+00\n",
       "PRODUCT            17280.449320  0.000000e+00\n",
       "MARITAL_STATUS      2851.707069  0.000000e+00\n",
       "EMPLOYMENT_STATUS    159.249621  1.430461e-32"
      ]
     },
     "execution_count": 76,
     "metadata": {},
     "output_type": "execute_result"
    }
   ],
   "source": [
    "from scipy.stats import chi2_contingency\n",
    "\n",
    "# Identify categorical variables excluding the target variable\n",
    "cat_vars = [\"RISK_GRADE\", \"LOAN_STATUS\", \"SCORE_GRADE\", \"PRODUCT\", \"MARITAL_STATUS\", \"EMPLOYMENT_STATUS\"]\n",
    "\n",
    "# Perform Chi-square tests for categorical variables against DEFAULT_STATUS\n",
    "chi_square_results = {}\n",
    "for var in cat_vars:\n",
    "    contingency_table = pd.crosstab(df_cleaned[var], df_cleaned[\"DEFAULT_STATUS\"])\n",
    "    chi2, p, dof, expected = chi2_contingency(contingency_table)\n",
    "    chi_square_results[var] = {\"Chi-square\": chi2, \"P-value\": p}\n",
    "\n",
    "# Convert results to DataFrame for better readability\n",
    "chi_square_df = pd.DataFrame.from_dict(chi_square_results, orient=\"index\")\n",
    "\n",
    "# Display the Chi-square test results\n",
    "chi_square_df"
   ]
  },
  {
   "cell_type": "markdown",
   "metadata": {},
   "source": [
    "Chi-Square Test Results (Categorical Variables vs. DEFAULT_STATUS)\n",
    "\n",
    "Key Findings:\n",
    "\n",
    "Highly Significant Predictors (p ≈ 0.05):\n",
    "\n",
    "RISK_GRADE, LOAN_STATUS, SCORE_GRADE, PRODUCT\n",
    "\n",
    "These variables have very strong associations with loan default.\n",
    "\n",
    "Moderately Significant:\n",
    "\n",
    "MARITAL_STATUS (Chi-square ≈ 2866.3)\n",
    "\n",
    "EMPLOYMENT_STATUS (Chi-square ≈ 158.2, → Weakest predictor but still significant."
   ]
  },
  {
   "cell_type": "code",
   "execution_count": 77,
   "metadata": {},
   "outputs": [
    {
     "data": {
      "text/plain": [
       "0        1\n",
       "1        0\n",
       "2        1\n",
       "3        0\n",
       "4        1\n",
       "        ..\n",
       "79084    0\n",
       "79085    0\n",
       "79086    0\n",
       "79087    0\n",
       "79088    0\n",
       "Name: DEFAULT_STATUS, Length: 79089, dtype: int64"
      ]
     },
     "execution_count": 77,
     "metadata": {},
     "output_type": "execute_result"
    }
   ],
   "source": [
    "df_cleaned[\"DEFAULT_STATUS\"]"
   ]
  },
  {
   "cell_type": "code",
   "execution_count": 78,
   "metadata": {},
   "outputs": [
    {
     "name": "stderr",
     "output_type": "stream",
     "text": [
      "c:\\Users\\Mike\\anaconda3\\envs\\learn-env\\lib\\site-packages\\pandas\\core\\frame.py:4163: SettingWithCopyWarning: \n",
      "A value is trying to be set on a copy of a slice from a DataFrame\n",
      "\n",
      "See the caveats in the documentation: https://pandas.pydata.org/pandas-docs/stable/user_guide/indexing.html#returning-a-view-versus-a-copy\n",
      "  return super().drop(\n",
      "<ipython-input-78-c0b0c34ee103>:8: SettingWithCopyWarning: \n",
      "A value is trying to be set on a copy of a slice from a DataFrame.\n",
      "Try using .loc[row_indexer,col_indexer] = value instead\n",
      "\n",
      "See the caveats in the documentation: https://pandas.pydata.org/pandas-docs/stable/user_guide/indexing.html#returning-a-view-versus-a-copy\n",
      "  df[\"DEFAULT_STATUS\"] = df[\"DEFAULT_STATUS\"].apply(lambda x: 1 if x == \"DEFAULT\" else 0)\n"
     ]
    }
   ],
   "source": [
    "from sklearn.model_selection import train_test_split\n",
    "from sklearn.preprocessing import StandardScaler, LabelEncoder, OneHotEncoder\n",
    "\n",
    "# Drop weak predictor\n",
    "df.drop(columns=[\"EMPLOYMENT_STATUS\",\"SCORE_GRADE\"], inplace=True, errors=\"ignore\")\n",
    "\n",
    "# Encode DEFAULT_STATUS (Target Variable) as binary (0 = NON-DEFAULT, 1 = DEFAULT)\n",
    "df[\"DEFAULT_STATUS\"] = df[\"DEFAULT_STATUS\"].apply(lambda x: 1 if x == \"DEFAULT\" else 0)\n",
    "\n"
   ]
  },
  {
   "cell_type": "code",
   "execution_count": 79,
   "metadata": {},
   "outputs": [
    {
     "name": "stdout",
     "output_type": "stream",
     "text": [
      "int64\n"
     ]
    }
   ],
   "source": [
    "df_cleaned.loc[:, \"DEFAULT_STATUS\"]\n",
    "print(df[\"DEFAULT_STATUS\"].dtype)"
   ]
  },
  {
   "cell_type": "code",
   "execution_count": 80,
   "metadata": {},
   "outputs": [
    {
     "name": "stdout",
     "output_type": "stream",
     "text": [
      "0    63827\n",
      "1    15262\n",
      "Name: DEFAULT_STATUS, dtype: int64\n",
      "ID                             int64\n",
      "GENDER                        object\n",
      "AGE                          float64\n",
      "MARITAL_STATUS                object\n",
      "CREDIT_SCORE                 float64\n",
      "NO_DEFAULT_LOAN              float64\n",
      "RISK_GRADE                    object\n",
      "PRODUCT                       object\n",
      "NET INCOME                   float64\n",
      "PRINCIPAL_DISBURSED          float64\n",
      "EMI                          float64\n",
      "OD_DAYS                        int64\n",
      "PRUDENTIAL_CLASSIFICATION     object\n",
      "OD_AMOUNT                    float64\n",
      "LOAN_STATUS                   object\n",
      "DEFAULT_STATUS                 int64\n",
      "dtype: object\n"
     ]
    }
   ],
   "source": [
    "print(df[\"DEFAULT_STATUS\"].value_counts())  # Check if conversion happened\n",
    "print(df.dtypes)  # Ensure column is now integer"
   ]
  },
  {
   "cell_type": "markdown",
   "metadata": {},
   "source": [
    "<h1>MODELLING</h1>\n"
   ]
  },
  {
   "cell_type": "code",
   "execution_count": 81,
   "metadata": {},
   "outputs": [
    {
     "name": "stdout",
     "output_type": "stream",
     "text": [
      "<class 'pandas.core.frame.DataFrame'>\n",
      "RangeIndex: 79089 entries, 0 to 79088\n",
      "Data columns (total 17 columns):\n",
      " #   Column               Non-Null Count  Dtype  \n",
      "---  ------               --------------  -----  \n",
      " 0   ID                   79089 non-null  int64  \n",
      " 1   GENDER               79089 non-null  object \n",
      " 2   AGE                  79089 non-null  float64\n",
      " 3   MARITAL_STATUS       79089 non-null  object \n",
      " 4   EMPLOYMENT_STATUS    79089 non-null  object \n",
      " 5   CREDIT_SCORE         79089 non-null  float64\n",
      " 6   SCORE_GRADE          79089 non-null  object \n",
      " 7   NO_DEFAULT_LOAN      79089 non-null  float64\n",
      " 8   RISK_GRADE           79089 non-null  int32  \n",
      " 9   PRODUCT              79089 non-null  object \n",
      " 10  NET INCOME           79089 non-null  float64\n",
      " 11  PRINCIPAL_DISBURSED  79089 non-null  float64\n",
      " 12  EMI                  79089 non-null  float64\n",
      " 13  OD_DAYS              79089 non-null  int64  \n",
      " 14  OD_AMOUNT            79089 non-null  float64\n",
      " 15  LOAN_STATUS          79089 non-null  object \n",
      " 16  DEFAULT_STATUS       79089 non-null  int64  \n",
      "dtypes: float64(7), int32(1), int64(3), object(6)\n",
      "memory usage: 10.0+ MB\n"
     ]
    }
   ],
   "source": [
    "# Identify categorical variables\n",
    "ordinal_vars = [\"RISK_GRADE\"]  # Ordinal categories\n",
    "nominal_vars = [\"GENDER\", \"MARITAL_STATUS\", \"LOAN_STATUS\", \"PRODUCT\"]  # Nominal categories\n",
    "\n",
    "\n",
    "# Label Encoding for ordinal variables\n",
    "label_encoders = {}\n",
    "for col in ordinal_vars:\n",
    "    le = LabelEncoder()\n",
    "    df_cleaned[col] = le.fit_transform(df_cleaned[col])\n",
    "    label_encoders[col] = le\n",
    "\n",
    "\n",
    "\n",
    "# Identify numerical features for scaling\n",
    "num_vars = [\"AGE\", \"CREDIT_SCORE\", \"NET INCOME\", \"PRINCIPAL_DISBURSED\", \"EMI\", \"OD_DAYS\", \"OD_AMOUNT\"]\n",
    "\n",
    "\n",
    "# Split data into train and test sets\n",
    "X = df_cleaned.drop(columns=[\"DEFAULT_STATUS\"])\n",
    "y = df_cleaned[\"DEFAULT_STATUS\"]\n",
    "\n",
    "df_cleaned.info()\n"
   ]
  },
  {
   "cell_type": "code",
   "execution_count": 82,
   "metadata": {},
   "outputs": [],
   "source": [
    "# One-Hot Encoding for nominal categorical variables\n",
    "X = pd.get_dummies(X, drop_first=True)\n",
    "# Handling Imbalance\n",
    "smote = SMOTE(random_state=42)\n",
    "X_resampled, y_resampled = smote.fit_resample(X, y)\n",
    "\n",
    "# Train-Test Split\n",
    "X_train, X_test, y_train, y_test = train_test_split(X_resampled, y_resampled, test_size=0.2, random_state=42)\n",
    "\n",
    "# Scaling Numeric Features\n",
    "scaler = StandardScaler()\n",
    "X_train = scaler.fit_transform(X_train)\n",
    "X_test = scaler.transform(X_test)"
   ]
  },
  {
   "cell_type": "code",
   "execution_count": null,
   "metadata": {},
   "outputs": [],
   "source": [
    "import pandas as pd\n",
    "from sklearn.model_selection import train_test_split\n",
    "from sklearn.preprocessing import StandardScaler, OneHotEncoder\n",
    "from sklearn.linear_model import LogisticRegression\n",
    "from sklearn.tree import DecisionTreeClassifier\n",
    "from sklearn.ensemble import RandomForestClassifier\n",
    "from sklearn.metrics import accuracy_score, classification_report\n",
    "\n",
    "# Load cleaned dataset\n",
    "file_path = \"cleaned_dataset.csv\"  # Update with the correct path\n",
    "df_cleaned = pd.read_csv(file_path)\n",
    "\n",
    "# Separate features and target variable\n",
    "X = df_cleaned.drop(columns=[\"DEFAULT_STATUS\"])  \n",
    "y = df_cleaned[\"DEFAULT_STATUS\"].apply(lambda x: 1 if x == \"DEFAULT\" else 0)\n",
    "\n",
    "# Identify categorical columns and apply one-hot encoding\n",
    "categorical_cols = X.select_dtypes(include=[\"object\"]).columns\n",
    "X_encoded = pd.get_dummies(X, columns=categorical_cols, drop_first=True)\n",
    "\n",
    "# Split the dataset\n",
    "X_train, X_test, y_train, y_test = train_test_split(X_encoded, y, test_size=0.2, stratify=y, random_state=42)\n",
    "\n",
    "# Standardize numerical features\n",
    "scaler = StandardScaler()\n",
    "X_train_scaled = scaler.fit_transform(X_train)\n",
    "X_test_scaled = scaler.transform(X_test)\n",
    "\n",
    "# Initialize models\n",
    "log_reg = LogisticRegression(max_iter=1000, class_weight=\"balanced\", random_state=42)\n",
    "dtree = DecisionTreeClassifier(max_depth=10, min_samples_split=50, min_samples_leaf=25, random_state=42)\n",
    "rf = RandomForestClassifier(n_estimators=100, max_depth=10, min_samples_split=50, min_samples_leaf=25, random_state=42)\n",
    "\n",
    "# Train models\n",
    "log_reg.fit(X_train_scaled, y_train)\n",
    "dtree.fit(X_train, y_train)\n",
    "rf.fit(X_train, y_train)\n",
    "\n",
    "# Evaluate models\n",
    "models = {\"Logistic Regression\": log_reg, \"Decision Tree\": dtree, \"Random Forest\": rf}\n",
    "results = {}\n",
    "\n",
    "for name, model in models.items():\n",
    "    if name == \"Logistic Regression\":\n",
    "        y_pred = model.predict(X_test_scaled)\n",
    "    else:\n",
    "        y_pred = model.predict(X_test)\n",
    "    \n",
    "    acc = accuracy_score(y_test, y_pred)\n",
    "    report = classification_report(y_test, y_pred)\n",
    "    results[name] = {\"Accuracy\": acc, \"Report\": report}\n",
    "\n",
    "# Print results\n",
    "for model, result in results.items():\n",
    "    print(f\"{model} - Accuracy: {result['Accuracy']:.4f}\")\n",
    "    print(result[\"Report\"])\n"
   ]
  },
  {
   "cell_type": "markdown",
   "metadata": {},
   "source": [
    "\n",
    "<h2>Model Training</h2>"
   ]
  },
  {
   "cell_type": "code",
   "execution_count": 83,
   "metadata": {},
   "outputs": [
    {
     "name": "stderr",
     "output_type": "stream",
     "text": [
      "c:\\Users\\Mike\\anaconda3\\envs\\learn-env\\lib\\site-packages\\sklearn\\linear_model\\_logistic.py:762: ConvergenceWarning: lbfgs failed to converge (status=1):\n",
      "STOP: TOTAL NO. of ITERATIONS REACHED LIMIT.\n",
      "\n",
      "Increase the number of iterations (max_iter) or scale the data as shown in:\n",
      "    https://scikit-learn.org/stable/modules/preprocessing.html\n",
      "Please also refer to the documentation for alternative solver options:\n",
      "    https://scikit-learn.org/stable/modules/linear_model.html#logistic-regression\n",
      "  n_iter_i = _check_optimize_result(\n"
     ]
    },
    {
     "name": "stdout",
     "output_type": "stream",
     "text": [
      "\n",
      "Logistic Regression Performance:\n",
      "Accuracy: 0.9976107477184599\n",
      "ROC-AUC Score: 0.9975955912234242\n",
      "Confusion Matrix:\n",
      " [[12891    13]\n",
      " [   48 12579]]\n",
      "Classification Report:\n",
      "               precision    recall  f1-score   support\n",
      "\n",
      "           0       1.00      1.00      1.00     12904\n",
      "           1       1.00      1.00      1.00     12627\n",
      "\n",
      "    accuracy                           1.00     25531\n",
      "   macro avg       1.00      1.00      1.00     25531\n",
      "weighted avg       1.00      1.00      1.00     25531\n",
      "\n",
      "\n",
      "Decision Tree Performance:\n",
      "Accuracy: 1.0\n",
      "ROC-AUC Score: 1.0\n",
      "Confusion Matrix:\n",
      " [[12904     0]\n",
      " [    0 12627]]\n",
      "Classification Report:\n",
      "               precision    recall  f1-score   support\n",
      "\n",
      "           0       1.00      1.00      1.00     12904\n",
      "           1       1.00      1.00      1.00     12627\n",
      "\n",
      "    accuracy                           1.00     25531\n",
      "   macro avg       1.00      1.00      1.00     25531\n",
      "weighted avg       1.00      1.00      1.00     25531\n",
      "\n",
      "\n",
      "Random Forest Performance:\n",
      "Accuracy: 1.0\n",
      "ROC-AUC Score: 1.0\n",
      "Confusion Matrix:\n",
      " [[12904     0]\n",
      " [    0 12627]]\n",
      "Classification Report:\n",
      "               precision    recall  f1-score   support\n",
      "\n",
      "           0       1.00      1.00      1.00     12904\n",
      "           1       1.00      1.00      1.00     12627\n",
      "\n",
      "    accuracy                           1.00     25531\n",
      "   macro avg       1.00      1.00      1.00     25531\n",
      "weighted avg       1.00      1.00      1.00     25531\n",
      "\n",
      "\n",
      "XGBoost Performance:\n",
      "Accuracy: 1.0\n",
      "ROC-AUC Score: 1.0\n",
      "Confusion Matrix:\n",
      " [[12904     0]\n",
      " [    0 12627]]\n",
      "Classification Report:\n",
      "               precision    recall  f1-score   support\n",
      "\n",
      "           0       1.00      1.00      1.00     12904\n",
      "           1       1.00      1.00      1.00     12627\n",
      "\n",
      "    accuracy                           1.00     25531\n",
      "   macro avg       1.00      1.00      1.00     25531\n",
      "weighted avg       1.00      1.00      1.00     25531\n",
      "\n"
     ]
    }
   ],
   "source": [
    "from sklearn.metrics import roc_auc_score\n",
    "# Model Training\n",
    "models = {\n",
    "    \"Logistic Regression\": LogisticRegression(), #Baseline model\n",
    "    \"Decision Tree\": DecisionTreeClassifier(),\n",
    "    \"Random Forest\": RandomForestClassifier(),\n",
    "    \"XGBoost\": XGBClassifier()\n",
    "}\n",
    "\n",
    "model_results = {}\n",
    "\n",
    "for name, model in models.items():\n",
    "    model.fit(X_train, y_train)\n",
    "    y_pred = model.predict(X_test)\n",
    "    accuracy = accuracy_score(y_test, y_pred)\n",
    "    auc_roc = roc_auc_score(y_test, y_pred)\n",
    "    model_results[name] = (accuracy, auc_roc)\n",
    "    \n",
    "    print(f\"\\n{name} Performance:\")\n",
    "    print(\"Accuracy:\", accuracy)\n",
    "    print(\"ROC-AUC Score:\", auc_roc)\n",
    "    print(\"Confusion Matrix:\\n\", confusion_matrix(y_test, y_pred))\n",
    "    print(\"Classification Report:\\n\", classification_report(y_test, y_pred))\n",
    "\n"
   ]
  },
  {
   "cell_type": "code",
   "execution_count": 84,
   "metadata": {},
   "outputs": [
    {
     "name": "stdout",
     "output_type": "stream",
     "text": [
      "Best Parameters: {'max_depth': None, 'min_samples_split': 2, 'n_estimators': 100}\n",
      "Tuned Model Accuracy: 1.0\n"
     ]
    }
   ],
   "source": [
    "# Hyperparameter Tuning (Random Forest Example)\n",
    "param_grid = {\n",
    "    'n_estimators': [50, 100, 200],\n",
    "    'max_depth': [None, 10, 20],\n",
    "    'min_samples_split': [2, 5, 10]\n",
    "}\n",
    "grid_search = GridSearchCV(RandomForestClassifier(), param_grid, cv=5, scoring='accuracy')\n",
    "grid_search.fit(X_train, y_train)\n",
    "print(\"Best Parameters:\", grid_search.best_params_)\n",
    "y_pred_best = grid_search.best_estimator_.predict(X_test)\n",
    "print(\"Tuned Model Accuracy:\", accuracy_score(y_test, y_pred_best))\n",
    "\n"
   ]
  },
  {
   "cell_type": "code",
   "execution_count": 85,
   "metadata": {},
   "outputs": [
    {
     "name": "stdout",
     "output_type": "stream",
     "text": [
      "\n",
      "Best Model: Decision Tree with Accuracy: 1.0 and AUC-ROC: 1.0\n"
     ]
    }
   ],
   "source": [
    "# Model Evaluation Summary\n",
    "best_model = max(model_results, key=lambda x: model_results[x][1])  # Selecting best model based on AUC-ROC\n",
    "print(f\"\\nBest Model: {best_model} with Accuracy: {model_results[best_model][0]} and AUC-ROC: {model_results[best_model][1]}\")\n",
    "\n"
   ]
  },
  {
   "cell_type": "code",
   "execution_count": 86,
   "metadata": {},
   "outputs": [
    {
     "name": "stdout",
     "output_type": "stream",
     "text": [
      "\n",
      "Conclusion:\n",
      "The best-performing model is Decision Tree which achieved the highest AUC-ROC score, indicating its effectiveness in distinguishing between defaulters and non-defaulters.\n",
      "The model provides a valuable tool for predicting loan defaults, helping financial institutions mitigate risks.\n"
     ]
    }
   ],
   "source": [
    "# Conclusion\n",
    "print(\"\\nConclusion:\")\n",
    "print(\"The best-performing model is\", best_model, \"which achieved the highest AUC-ROC score, indicating its effectiveness in distinguishing between defaulters and non-defaulters.\")\n",
    "print(\"The model provides a valuable tool for predicting loan defaults, helping financial institutions mitigate risks.\")\n",
    "\n"
   ]
  },
  {
   "cell_type": "code",
   "execution_count": 87,
   "metadata": {},
   "outputs": [
    {
     "name": "stdout",
     "output_type": "stream",
     "text": [
      "\n",
      "Recommendations:\n",
      "1. Further feature engineering may improve model performance.\n",
      "2. Consider additional hyperparameter tuning for all models, not just Random Forest.\n",
      "3. Explore deep learning techniques such as neural networks for further improvements.\n",
      "4. Regularly update the model with new data to ensure accuracy over time.\n"
     ]
    }
   ],
   "source": [
    "# Recommendations\n",
    "print(\"\\nRecommendations:\")\n",
    "print(\"1. Further feature engineering may improve model performance.\")\n",
    "print(\"2. Consider additional hyperparameter tuning for all models, not just Random Forest.\")\n",
    "print(\"3. Explore deep learning techniques such as neural networks for further improvements.\")\n",
    "print(\"4. Regularly update the model with new data to ensure accuracy over time.\")\n"
   ]
  }
 ],
 "metadata": {
  "kernelspec": {
   "display_name": "learn-env",
   "language": "python",
   "name": "python3"
  },
  "language_info": {
   "codemirror_mode": {
    "name": "ipython",
    "version": 3
   },
   "file_extension": ".py",
   "mimetype": "text/x-python",
   "name": "python",
   "nbconvert_exporter": "python",
   "pygments_lexer": "ipython3",
   "version": "3.8.5"
  }
 },
 "nbformat": 4,
 "nbformat_minor": 2
}
