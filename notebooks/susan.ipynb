{
 "cells": [
  {
   "cell_type": "code",
   "execution_count": 43,
   "metadata": {},
   "outputs": [],
   "source": [
    "#Import libraries\n",
    "#import neccessary libraries\n",
    "import pandas as pd\n",
    "import numpy as np\n",
    "import matplotlib.pyplot as plt\n",
    "import seaborn as sns\n",
    "\n",
    "\n",
    "from sklearn.model_selection import train_test_split\n",
    "from sklearn.linear_model import LogisticRegression\n",
    "from sklearn.tree import DecisionTreeClassifier\n",
    "from sklearn.metrics import accuracy_score, classification_report, confusion_matrix\n",
    "from sklearn.feature_selection import RFE\n",
    "from sklearn.metrics import roc_curve, auc\n",
    "from sklearn.preprocessing import label_binarize\n",
    "from sklearn.multiclass import OneVsRestClassifier\n",
    "from sklearn.model_selection import train_test_split\n",
    "from sklearn.linear_model import LogisticRegression\n",
    "from sklearn.metrics import roc_auc_score"
   ]
  },
  {
   "cell_type": "code",
   "execution_count": 44,
   "metadata": {},
   "outputs": [
    {
     "data": {
      "application/vnd.microsoft.datawrangler.viewer.v0+json": {
       "columns": [
        {
         "name": "index",
         "rawType": "int64",
         "type": "integer"
        },
        {
         "name": "ID",
         "rawType": "float64",
         "type": "float"
        },
        {
         "name": "GENDER",
         "rawType": "object",
         "type": "string"
        },
        {
         "name": "AGE",
         "rawType": "float64",
         "type": "float"
        },
        {
         "name": "NO_DEFAULT_LOAN",
         "rawType": "float64",
         "type": "float"
        },
        {
         "name": "EMPLOYMENT_STATUS",
         "rawType": "object",
         "type": "string"
        },
        {
         "name": "SECTOR",
         "rawType": "object",
         "type": "unknown"
        },
        {
         "name": "MARITAL_STATUS",
         "rawType": "object",
         "type": "string"
        },
        {
         "name": "CREDIT_SCORE",
         "rawType": "float64",
         "type": "float"
        },
        {
         "name": "SCOREGRADE",
         "rawType": "object",
         "type": "string"
        },
        {
         "name": "CRR",
         "rawType": "object",
         "type": "string"
        },
        {
         "name": "CURRENCY",
         "rawType": "object",
         "type": "string"
        },
        {
         "name": "NET INCOME",
         "rawType": "float64",
         "type": "float"
        },
        {
         "name": "PRINCIPAL_AMOUNT",
         "rawType": "float64",
         "type": "float"
        },
        {
         "name": "EMI",
         "rawType": "object",
         "type": "string"
        },
        {
         "name": "OD_DAYS",
         "rawType": "float64",
         "type": "float"
        },
        {
         "name": "PRUDENTIAL_CLASSIFICATION",
         "rawType": "object",
         "type": "string"
        },
        {
         "name": "RISK_GRADE",
         "rawType": "object",
         "type": "string"
        },
        {
         "name": "AREARS",
         "rawType": "object",
         "type": "string"
        },
        {
         "name": "LOAN_STATUS",
         "rawType": "object",
         "type": "string"
        }
       ],
       "conversionMethod": "pd.DataFrame",
       "ref": "cd868c3e-d28f-4505-a464-fa2329d62317",
       "rows": [
        [
         "0",
         "209801.0",
         "FEMALE",
         "37.0",
         "7.0",
         "EMPLOYED",
         "FINANCE & INSURANCE",
         "MARRIED",
         "615.0",
         "II",
         "B10",
         "KES",
         "5000.0",
         "642000.0",
         "59,826.37",
         "204.0",
         "DOUBTFUL",
         "B9",
         "453,208.12",
         "CURRENT"
        ],
        [
         "1",
         "315048.0",
         "MALE",
         "41.0",
         "3.0",
         "SELF-EMPLOYED",
         null,
         "MARRIED",
         "529.0",
         "JJ",
         "B20",
         "KES",
         "0.0",
         "78000.0",
         "6,149.03",
         "295.0",
         "DOUBTFUL",
         "B9",
         "68,917.29",
         "EXPIRED"
        ],
        [
         "2",
         "145878.0",
         "MALE",
         "36.0",
         "6.0",
         "EMPLOYED",
         "TRANSPORT & COMMUNICATION",
         "MARRIED",
         "665.0",
         "FF",
         "A5",
         "KES",
         "1294783.78",
         "80000.0",
         "7,439.02",
         "0.0",
         "NORMAL",
         "A1-A6",
         "4.84",
         "CURRENT"
        ],
        [
         "3",
         "295535.0",
         "MALE",
         "41.0",
         "5.0",
         "EMPLOYED",
         null,
         "0",
         "618.0",
         "HH",
         "B20",
         "KES",
         "347554.0",
         "172000.0",
         "16,062.90",
         "323.0",
         "DOUBTFUL",
         "B9",
         "195,045.53",
         "EXPIRED"
        ],
        [
         "4",
         "493960.0",
         "MALE",
         "41.0",
         "1.0",
         "EMPLOYED",
         "FINANCE & INSURANCE",
         "SINGLE",
         "696.0",
         "DD",
         "A5",
         "KES",
         "4210957.0",
         "300502.44",
         "28,098.61",
         "0.0",
         "NORMAL",
         "A1-A6",
         "247.18",
         "CURRENT"
        ]
       ],
       "shape": {
        "columns": 19,
        "rows": 5
       }
      },
      "text/html": [
       "<div>\n",
       "<style scoped>\n",
       "    .dataframe tbody tr th:only-of-type {\n",
       "        vertical-align: middle;\n",
       "    }\n",
       "\n",
       "    .dataframe tbody tr th {\n",
       "        vertical-align: top;\n",
       "    }\n",
       "\n",
       "    .dataframe thead th {\n",
       "        text-align: right;\n",
       "    }\n",
       "</style>\n",
       "<table border=\"1\" class=\"dataframe\">\n",
       "  <thead>\n",
       "    <tr style=\"text-align: right;\">\n",
       "      <th></th>\n",
       "      <th>ID</th>\n",
       "      <th>GENDER</th>\n",
       "      <th>AGE</th>\n",
       "      <th>NO_DEFAULT_LOAN</th>\n",
       "      <th>EMPLOYMENT_STATUS</th>\n",
       "      <th>SECTOR</th>\n",
       "      <th>MARITAL_STATUS</th>\n",
       "      <th>CREDIT_SCORE</th>\n",
       "      <th>SCOREGRADE</th>\n",
       "      <th>CRR</th>\n",
       "      <th>CURRENCY</th>\n",
       "      <th>NET INCOME</th>\n",
       "      <th>PRINCIPAL_AMOUNT</th>\n",
       "      <th>EMI</th>\n",
       "      <th>OD_DAYS</th>\n",
       "      <th>PRUDENTIAL_CLASSIFICATION</th>\n",
       "      <th>RISK_GRADE</th>\n",
       "      <th>AREARS</th>\n",
       "      <th>LOAN_STATUS</th>\n",
       "    </tr>\n",
       "  </thead>\n",
       "  <tbody>\n",
       "    <tr>\n",
       "      <th>0</th>\n",
       "      <td>209801.0</td>\n",
       "      <td>FEMALE</td>\n",
       "      <td>37.0</td>\n",
       "      <td>7.0</td>\n",
       "      <td>EMPLOYED</td>\n",
       "      <td>FINANCE &amp; INSURANCE</td>\n",
       "      <td>MARRIED</td>\n",
       "      <td>615.0</td>\n",
       "      <td>II</td>\n",
       "      <td>B10</td>\n",
       "      <td>KES</td>\n",
       "      <td>5000.00</td>\n",
       "      <td>642000.00</td>\n",
       "      <td>59,826.37</td>\n",
       "      <td>204.0</td>\n",
       "      <td>DOUBTFUL</td>\n",
       "      <td>B9</td>\n",
       "      <td>453,208.12</td>\n",
       "      <td>CURRENT</td>\n",
       "    </tr>\n",
       "    <tr>\n",
       "      <th>1</th>\n",
       "      <td>315048.0</td>\n",
       "      <td>MALE</td>\n",
       "      <td>41.0</td>\n",
       "      <td>3.0</td>\n",
       "      <td>SELF-EMPLOYED</td>\n",
       "      <td>NaN</td>\n",
       "      <td>MARRIED</td>\n",
       "      <td>529.0</td>\n",
       "      <td>JJ</td>\n",
       "      <td>B20</td>\n",
       "      <td>KES</td>\n",
       "      <td>0.00</td>\n",
       "      <td>78000.00</td>\n",
       "      <td>6,149.03</td>\n",
       "      <td>295.0</td>\n",
       "      <td>DOUBTFUL</td>\n",
       "      <td>B9</td>\n",
       "      <td>68,917.29</td>\n",
       "      <td>EXPIRED</td>\n",
       "    </tr>\n",
       "    <tr>\n",
       "      <th>2</th>\n",
       "      <td>145878.0</td>\n",
       "      <td>MALE</td>\n",
       "      <td>36.0</td>\n",
       "      <td>6.0</td>\n",
       "      <td>EMPLOYED</td>\n",
       "      <td>TRANSPORT &amp; COMMUNICATION</td>\n",
       "      <td>MARRIED</td>\n",
       "      <td>665.0</td>\n",
       "      <td>FF</td>\n",
       "      <td>A5</td>\n",
       "      <td>KES</td>\n",
       "      <td>1294783.78</td>\n",
       "      <td>80000.00</td>\n",
       "      <td>7,439.02</td>\n",
       "      <td>0.0</td>\n",
       "      <td>NORMAL</td>\n",
       "      <td>A1-A6</td>\n",
       "      <td>4.84</td>\n",
       "      <td>CURRENT</td>\n",
       "    </tr>\n",
       "    <tr>\n",
       "      <th>3</th>\n",
       "      <td>295535.0</td>\n",
       "      <td>MALE</td>\n",
       "      <td>41.0</td>\n",
       "      <td>5.0</td>\n",
       "      <td>EMPLOYED</td>\n",
       "      <td>NaN</td>\n",
       "      <td>0</td>\n",
       "      <td>618.0</td>\n",
       "      <td>HH</td>\n",
       "      <td>B20</td>\n",
       "      <td>KES</td>\n",
       "      <td>347554.00</td>\n",
       "      <td>172000.00</td>\n",
       "      <td>16,062.90</td>\n",
       "      <td>323.0</td>\n",
       "      <td>DOUBTFUL</td>\n",
       "      <td>B9</td>\n",
       "      <td>195,045.53</td>\n",
       "      <td>EXPIRED</td>\n",
       "    </tr>\n",
       "    <tr>\n",
       "      <th>4</th>\n",
       "      <td>493960.0</td>\n",
       "      <td>MALE</td>\n",
       "      <td>41.0</td>\n",
       "      <td>1.0</td>\n",
       "      <td>EMPLOYED</td>\n",
       "      <td>FINANCE &amp; INSURANCE</td>\n",
       "      <td>SINGLE</td>\n",
       "      <td>696.0</td>\n",
       "      <td>DD</td>\n",
       "      <td>A5</td>\n",
       "      <td>KES</td>\n",
       "      <td>4210957.00</td>\n",
       "      <td>300502.44</td>\n",
       "      <td>28,098.61</td>\n",
       "      <td>0.0</td>\n",
       "      <td>NORMAL</td>\n",
       "      <td>A1-A6</td>\n",
       "      <td>247.18</td>\n",
       "      <td>CURRENT</td>\n",
       "    </tr>\n",
       "  </tbody>\n",
       "</table>\n",
       "</div>"
      ],
      "text/plain": [
       "         ID  GENDER   AGE  NO_DEFAULT_LOAN EMPLOYMENT_STATUS  \\\n",
       "0  209801.0  FEMALE  37.0              7.0          EMPLOYED   \n",
       "1  315048.0    MALE  41.0              3.0     SELF-EMPLOYED   \n",
       "2  145878.0    MALE  36.0              6.0          EMPLOYED   \n",
       "3  295535.0    MALE  41.0              5.0          EMPLOYED   \n",
       "4  493960.0    MALE  41.0              1.0          EMPLOYED   \n",
       "\n",
       "                      SECTOR MARITAL_STATUS  CREDIT_SCORE SCOREGRADE  CRR  \\\n",
       "0        FINANCE & INSURANCE        MARRIED         615.0         II  B10   \n",
       "1                        NaN        MARRIED         529.0         JJ  B20   \n",
       "2  TRANSPORT & COMMUNICATION        MARRIED         665.0         FF   A5   \n",
       "3                        NaN              0         618.0         HH  B20   \n",
       "4        FINANCE & INSURANCE         SINGLE         696.0         DD   A5   \n",
       "\n",
       "  CURRENCY  NET INCOME  PRINCIPAL_AMOUNT        EMI  OD_DAYS  \\\n",
       "0      KES     5000.00         642000.00  59,826.37    204.0   \n",
       "1      KES        0.00          78000.00   6,149.03    295.0   \n",
       "2      KES  1294783.78          80000.00   7,439.02      0.0   \n",
       "3      KES   347554.00         172000.00  16,062.90    323.0   \n",
       "4      KES  4210957.00         300502.44  28,098.61      0.0   \n",
       "\n",
       "  PRUDENTIAL_CLASSIFICATION RISK_GRADE      AREARS LOAN_STATUS  \n",
       "0                  DOUBTFUL         B9  453,208.12     CURRENT  \n",
       "1                  DOUBTFUL         B9   68,917.29     EXPIRED  \n",
       "2                    NORMAL      A1-A6        4.84     CURRENT  \n",
       "3                  DOUBTFUL         B9  195,045.53     EXPIRED  \n",
       "4                    NORMAL      A1-A6      247.18     CURRENT  "
      ]
     },
     "execution_count": 44,
     "metadata": {},
     "output_type": "execute_result"
    }
   ],
   "source": [
    "df = pd.read_csv(r\"C:\\Users\\hp\\Desktop\\final loan dataset\\DSC-CapstoneProject-2\\Data\\Final_Loans_dataset.csv\")\n",
    "df.head()"
   ]
  },
  {
   "cell_type": "code",
   "execution_count": 54,
   "metadata": {},
   "outputs": [
    {
     "data": {
      "text/plain": [
       "Index(['ID', 'GENDER', 'AGE', 'NO_DEFAULT_LOAN', 'EMPLOYMENT_STATUS', 'SECTOR',\n",
       "       'MARITAL_STATUS', 'CREDIT_SCORE', 'SCOREGRADE', 'CRR', 'CURRENCY',\n",
       "       'NET INCOME', 'PRINCIPAL_AMOUNT', 'EMI', 'OD_DAYS',\n",
       "       'PRUDENTIAL_CLASSIFICATION', 'RISK_GRADE', 'AREARS', 'LOAN_STATUS'],\n",
       "      dtype='object')"
      ]
     },
     "execution_count": 54,
     "metadata": {},
     "output_type": "execute_result"
    }
   ],
   "source": [
    "df.columns"
   ]
  },
  {
   "cell_type": "code",
   "execution_count": 55,
   "metadata": {},
   "outputs": [
    {
     "data": {
      "application/vnd.microsoft.datawrangler.viewer.v0+json": {
       "columns": [
        {
         "name": "index",
         "rawType": "object",
         "type": "string"
        },
        {
         "name": "ID",
         "rawType": "float64",
         "type": "float"
        },
        {
         "name": "AGE",
         "rawType": "float64",
         "type": "float"
        },
        {
         "name": "NO_DEFAULT_LOAN",
         "rawType": "float64",
         "type": "float"
        },
        {
         "name": "CREDIT_SCORE",
         "rawType": "float64",
         "type": "float"
        },
        {
         "name": "NET INCOME",
         "rawType": "float64",
         "type": "float"
        },
        {
         "name": "PRINCIPAL_AMOUNT",
         "rawType": "float64",
         "type": "float"
        },
        {
         "name": "OD_DAYS",
         "rawType": "float64",
         "type": "float"
        }
       ],
       "conversionMethod": "pd.DataFrame",
       "ref": "bda2e579-c07a-43c4-9e76-8095391b6097",
       "rows": [
        [
         "count",
         "18196.0",
         "18109.0",
         "17921.0",
         "17921.0",
         "17762.0",
         "18196.0",
         "18196.0"
        ],
        [
         "mean",
         "253791.00549571335",
         "38.23927328952455",
         "1.0451425701690753",
         "668.1652251548463",
         "2770445.3033599826",
         "198530.89996098043",
         "9.487634644976918"
        ],
        [
         "std",
         "142330.18663526818",
         "15.25987284633498",
         "1.5935570552102754",
         "73.68555362460182",
         "5592812.620853308",
         "250829.1431547787",
         "38.745496927624636"
        ],
        [
         "min",
         "10010.0",
         "-1595.0",
         "0.0",
         "0.0",
         "0.0",
         "1000.0",
         "0.0"
        ],
        [
         "25%",
         "128677.0",
         "31.0",
         "0.0",
         "618.0",
         "426268.6775",
         "18000.0",
         "0.0"
        ],
        [
         "50%",
         "253241.0",
         "37.0",
         "0.0",
         "665.0",
         "1123308.82",
         "100000.0",
         "0.0"
        ],
        [
         "75%",
         "376761.25",
         "44.0",
         "2.0",
         "720.0",
         "2820720.0",
         "280588.235",
         "0.0"
        ],
        [
         "max",
         "499999.0",
         "93.0",
         "15.0",
         "830.0",
         "133852366.0",
         "1445751.56",
         "323.0"
        ]
       ],
       "shape": {
        "columns": 7,
        "rows": 8
       }
      },
      "text/html": [
       "<div>\n",
       "<style scoped>\n",
       "    .dataframe tbody tr th:only-of-type {\n",
       "        vertical-align: middle;\n",
       "    }\n",
       "\n",
       "    .dataframe tbody tr th {\n",
       "        vertical-align: top;\n",
       "    }\n",
       "\n",
       "    .dataframe thead th {\n",
       "        text-align: right;\n",
       "    }\n",
       "</style>\n",
       "<table border=\"1\" class=\"dataframe\">\n",
       "  <thead>\n",
       "    <tr style=\"text-align: right;\">\n",
       "      <th></th>\n",
       "      <th>ID</th>\n",
       "      <th>AGE</th>\n",
       "      <th>NO_DEFAULT_LOAN</th>\n",
       "      <th>CREDIT_SCORE</th>\n",
       "      <th>NET INCOME</th>\n",
       "      <th>PRINCIPAL_AMOUNT</th>\n",
       "      <th>OD_DAYS</th>\n",
       "    </tr>\n",
       "  </thead>\n",
       "  <tbody>\n",
       "    <tr>\n",
       "      <th>count</th>\n",
       "      <td>18196.000000</td>\n",
       "      <td>18109.000000</td>\n",
       "      <td>17921.000000</td>\n",
       "      <td>17921.000000</td>\n",
       "      <td>1.776200e+04</td>\n",
       "      <td>1.819600e+04</td>\n",
       "      <td>18196.000000</td>\n",
       "    </tr>\n",
       "    <tr>\n",
       "      <th>mean</th>\n",
       "      <td>253791.005496</td>\n",
       "      <td>38.239273</td>\n",
       "      <td>1.045143</td>\n",
       "      <td>668.165225</td>\n",
       "      <td>2.770445e+06</td>\n",
       "      <td>1.985309e+05</td>\n",
       "      <td>9.487635</td>\n",
       "    </tr>\n",
       "    <tr>\n",
       "      <th>std</th>\n",
       "      <td>142330.186635</td>\n",
       "      <td>15.259873</td>\n",
       "      <td>1.593557</td>\n",
       "      <td>73.685554</td>\n",
       "      <td>5.592813e+06</td>\n",
       "      <td>2.508291e+05</td>\n",
       "      <td>38.745497</td>\n",
       "    </tr>\n",
       "    <tr>\n",
       "      <th>min</th>\n",
       "      <td>10010.000000</td>\n",
       "      <td>-1595.000000</td>\n",
       "      <td>0.000000</td>\n",
       "      <td>0.000000</td>\n",
       "      <td>0.000000e+00</td>\n",
       "      <td>1.000000e+03</td>\n",
       "      <td>0.000000</td>\n",
       "    </tr>\n",
       "    <tr>\n",
       "      <th>25%</th>\n",
       "      <td>128677.000000</td>\n",
       "      <td>31.000000</td>\n",
       "      <td>0.000000</td>\n",
       "      <td>618.000000</td>\n",
       "      <td>4.262687e+05</td>\n",
       "      <td>1.800000e+04</td>\n",
       "      <td>0.000000</td>\n",
       "    </tr>\n",
       "    <tr>\n",
       "      <th>50%</th>\n",
       "      <td>253241.000000</td>\n",
       "      <td>37.000000</td>\n",
       "      <td>0.000000</td>\n",
       "      <td>665.000000</td>\n",
       "      <td>1.123309e+06</td>\n",
       "      <td>1.000000e+05</td>\n",
       "      <td>0.000000</td>\n",
       "    </tr>\n",
       "    <tr>\n",
       "      <th>75%</th>\n",
       "      <td>376761.250000</td>\n",
       "      <td>44.000000</td>\n",
       "      <td>2.000000</td>\n",
       "      <td>720.000000</td>\n",
       "      <td>2.820720e+06</td>\n",
       "      <td>2.805882e+05</td>\n",
       "      <td>0.000000</td>\n",
       "    </tr>\n",
       "    <tr>\n",
       "      <th>max</th>\n",
       "      <td>499999.000000</td>\n",
       "      <td>93.000000</td>\n",
       "      <td>15.000000</td>\n",
       "      <td>830.000000</td>\n",
       "      <td>1.338524e+08</td>\n",
       "      <td>1.445752e+06</td>\n",
       "      <td>323.000000</td>\n",
       "    </tr>\n",
       "  </tbody>\n",
       "</table>\n",
       "</div>"
      ],
      "text/plain": [
       "                  ID           AGE  NO_DEFAULT_LOAN  CREDIT_SCORE  \\\n",
       "count   18196.000000  18109.000000     17921.000000  17921.000000   \n",
       "mean   253791.005496     38.239273         1.045143    668.165225   \n",
       "std    142330.186635     15.259873         1.593557     73.685554   \n",
       "min     10010.000000  -1595.000000         0.000000      0.000000   \n",
       "25%    128677.000000     31.000000         0.000000    618.000000   \n",
       "50%    253241.000000     37.000000         0.000000    665.000000   \n",
       "75%    376761.250000     44.000000         2.000000    720.000000   \n",
       "max    499999.000000     93.000000        15.000000    830.000000   \n",
       "\n",
       "         NET INCOME  PRINCIPAL_AMOUNT       OD_DAYS  \n",
       "count  1.776200e+04      1.819600e+04  18196.000000  \n",
       "mean   2.770445e+06      1.985309e+05      9.487635  \n",
       "std    5.592813e+06      2.508291e+05     38.745497  \n",
       "min    0.000000e+00      1.000000e+03      0.000000  \n",
       "25%    4.262687e+05      1.800000e+04      0.000000  \n",
       "50%    1.123309e+06      1.000000e+05      0.000000  \n",
       "75%    2.820720e+06      2.805882e+05      0.000000  \n",
       "max    1.338524e+08      1.445752e+06    323.000000  "
      ]
     },
     "execution_count": 55,
     "metadata": {},
     "output_type": "execute_result"
    }
   ],
   "source": [
    "df.describe()"
   ]
  },
  {
   "cell_type": "code",
   "execution_count": 45,
   "metadata": {},
   "outputs": [
    {
     "name": "stdout",
     "output_type": "stream",
     "text": [
      "<class 'pandas.core.frame.DataFrame'>\n",
      "RangeIndex: 18196 entries, 0 to 18195\n",
      "Data columns (total 19 columns):\n",
      " #   Column                     Non-Null Count  Dtype  \n",
      "---  ------                     --------------  -----  \n",
      " 0   ID                         18196 non-null  float64\n",
      " 1   GENDER                     17748 non-null  object \n",
      " 2   AGE                        18109 non-null  float64\n",
      " 3   NO_DEFAULT_LOAN            17921 non-null  float64\n",
      " 4   EMPLOYMENT_STATUS          18196 non-null  object \n",
      " 5   SECTOR                     18069 non-null  object \n",
      " 6   MARITAL_STATUS             18196 non-null  object \n",
      " 7   CREDIT_SCORE               17921 non-null  float64\n",
      " 8   SCOREGRADE                 17921 non-null  object \n",
      " 9   CRR                        18196 non-null  object \n",
      " 10  CURRENCY                   18196 non-null  object \n",
      " 11  NET INCOME                 17762 non-null  float64\n",
      " 12  PRINCIPAL_AMOUNT           18196 non-null  float64\n",
      " 13  EMI                        18196 non-null  object \n",
      " 14  OD_DAYS                    18196 non-null  float64\n",
      " 15  PRUDENTIAL_CLASSIFICATION  18196 non-null  object \n",
      " 16  RISK_GRADE                 18196 non-null  object \n",
      " 17  AREARS                     18196 non-null  object \n",
      " 18  LOAN_STATUS                18196 non-null  object \n",
      "dtypes: float64(7), object(12)\n",
      "memory usage: 2.6+ MB\n",
      "None\n"
     ]
    }
   ],
   "source": [
    "print(df.info())"
   ]
  },
  {
   "cell_type": "code",
   "execution_count": 46,
   "metadata": {},
   "outputs": [
    {
     "name": "stdout",
     "output_type": "stream",
     "text": [
      "Total rows before cleaning: 18196\n"
     ]
    }
   ],
   "source": [
    "# Check the number of rows to confirm\n",
    "print(\"Total rows before cleaning:\", df.shape[0])"
   ]
  },
  {
   "cell_type": "code",
   "execution_count": 47,
   "metadata": {},
   "outputs": [
    {
     "name": "stdout",
     "output_type": "stream",
     "text": [
      "ID                             0\n",
      "GENDER                       448\n",
      "AGE                           87\n",
      "NO_DEFAULT_LOAN              275\n",
      "EMPLOYMENT_STATUS              0\n",
      "SECTOR                       127\n",
      "MARITAL_STATUS                 0\n",
      "CREDIT_SCORE                 275\n",
      "SCOREGRADE                   275\n",
      "CRR                            0\n",
      "CURRENCY                       0\n",
      "NET INCOME                   434\n",
      "PRINCIPAL_AMOUNT               0\n",
      "EMI                            0\n",
      "OD_DAYS                        0\n",
      "PRUDENTIAL_CLASSIFICATION      0\n",
      "RISK_GRADE                     0\n",
      "AREARS                         0\n",
      "LOAN_STATUS                    0\n",
      "dtype: int64\n"
     ]
    }
   ],
   "source": [
    "print(df.isnull().sum())"
   ]
  },
  {
   "cell_type": "code",
   "execution_count": 48,
   "metadata": {},
   "outputs": [
    {
     "name": "stdout",
     "output_type": "stream",
     "text": [
      "Rows after cleaning: 18196\n"
     ]
    }
   ],
   "source": [
    "# Keep only the first 18,196 rows\n",
    "df_1= df.head(18196)\n",
    "\n",
    "# Check the shape of the cleaned dataset\n",
    "print(\"Rows after cleaning:\", df_cleaned.shape[0])\n",
    "df_1.to_csv(r\"C:\\Users\\hp\\Desktop\\final loan dataset\\DSC-CapstoneProject-2\\Data\\Final_Loans_dataset.csv\", index=False)\n"
   ]
  },
  {
   "cell_type": "code",
   "execution_count": 49,
   "metadata": {},
   "outputs": [
    {
     "name": "stdout",
     "output_type": "stream",
     "text": [
      "ID                             0\n",
      "GENDER                       448\n",
      "AGE                           87\n",
      "NO_DEFAULT_LOAN              275\n",
      "EMPLOYMENT_STATUS              0\n",
      "SECTOR                       127\n",
      "MARITAL_STATUS                 0\n",
      "CREDIT_SCORE                 275\n",
      "SCOREGRADE                   275\n",
      "CRR                            0\n",
      "CURRENCY                       0\n",
      "NET INCOME                   434\n",
      "PRINCIPAL_AMOUNT               0\n",
      "EMI                            0\n",
      "OD_DAYS                        0\n",
      "PRUDENTIAL_CLASSIFICATION      0\n",
      "RISK_GRADE                     0\n",
      "AREARS                         0\n",
      "LOAN_STATUS                    0\n",
      "dtype: int64\n"
     ]
    }
   ],
   "source": [
    "print(df_1.isnull().sum())"
   ]
  },
  {
   "cell_type": "code",
   "execution_count": 58,
   "metadata": {},
   "outputs": [],
   "source": [
    "df_1= df_1.dropna(subset=[\"CREDIT_SCORE\"])\n",
    "df_1= df_1.dropna(subset=[\"NET INCOME\"])\n",
    "df_1= df_1.dropna(subset=[\"GENDER\"])\n",
    "df_1= df_1.dropna(subset=[\"SECTOR\"])"
   ]
  },
  {
   "cell_type": "code",
   "execution_count": 59,
   "metadata": {},
   "outputs": [
    {
     "data": {
      "text/plain": [
       "ID                            0\n",
       "GENDER                        0\n",
       "AGE                          40\n",
       "NO_DEFAULT_LOAN               0\n",
       "EMPLOYMENT_STATUS             0\n",
       "SECTOR                        0\n",
       "MARITAL_STATUS                0\n",
       "CREDIT_SCORE                  0\n",
       "SCOREGRADE                    0\n",
       "CRR                           0\n",
       "CURRENCY                      0\n",
       "NET INCOME                    0\n",
       "PRINCIPAL_AMOUNT              0\n",
       "EMI                           0\n",
       "OD_DAYS                       0\n",
       "PRUDENTIAL_CLASSIFICATION     0\n",
       "RISK_GRADE                    0\n",
       "AREARS                        0\n",
       "LOAN_STATUS                   0\n",
       "dtype: int64"
      ]
     },
     "execution_count": 59,
     "metadata": {},
     "output_type": "execute_result"
    }
   ],
   "source": [
    "df_1.isnull().sum()"
   ]
  },
  {
   "cell_type": "code",
   "execution_count": 60,
   "metadata": {},
   "outputs": [
    {
     "name": "stdout",
     "output_type": "stream",
     "text": [
      "         ID  GENDER   AGE  NO_DEFAULT_LOAN EMPLOYMENT_STATUS  \\\n",
      "0  209801.0  FEMALE  37.0              7.0          EMPLOYED   \n",
      "2  145878.0    MALE  36.0              6.0          EMPLOYED   \n",
      "4  493960.0    MALE  41.0              1.0          EMPLOYED   \n",
      "6  280570.0  FEMALE  38.0              0.0          EMPLOYED   \n",
      "7   45325.0  FEMALE  32.0              0.0          EMPLOYED   \n",
      "\n",
      "                                SECTOR MARITAL_STATUS  CREDIT_SCORE  \\\n",
      "0                  FINANCE & INSURANCE        MARRIED         615.0   \n",
      "2            TRANSPORT & COMMUNICATION        MARRIED         665.0   \n",
      "4                  FINANCE & INSURANCE         SINGLE         696.0   \n",
      "6                  FINANCE & INSURANCE         SINGLE         632.0   \n",
      "7  SOCIAL, COMMUNITY & PERSONAL SERVIC        MARRIED         622.0   \n",
      "\n",
      "  SCOREGRADE  CRR CURRENCY  NET INCOME  PRINCIPAL_AMOUNT       EMI  OD_DAYS  \\\n",
      "0         II  B10      KES     5000.00         642000.00  59826.37    204.0   \n",
      "2         FF   A5      KES  1294783.78          80000.00   7439.02      0.0   \n",
      "4         DD   A5      KES  4210957.00         300502.44  28098.61      0.0   \n",
      "6         HH   B9      KES    44280.00          82000.72   6802.81    111.0   \n",
      "7         HH   A5      KES  1000139.59         339584.95  15279.32     19.0   \n",
      "\n",
      "  PRUDENTIAL_CLASSIFICATION RISK_GRADE     AREARS LOAN_STATUS  \n",
      "0                  DOUBTFUL         B9  453208.12     CURRENT  \n",
      "2                    NORMAL      A1-A6       4.84     CURRENT  \n",
      "4                    NORMAL      A1-A6     247.18     CURRENT  \n",
      "6               SUBSTANDARD         B8   26582.90     CURRENT  \n",
      "7                    NORMAL      A1-A6   15519.98     CURRENT  \n"
     ]
    },
    {
     "name": "stderr",
     "output_type": "stream",
     "text": [
      "C:\\Users\\hp\\AppData\\Local\\Temp\\ipykernel_25076\\2986622001.py:2: FutureWarning: A value is trying to be set on a copy of a DataFrame or Series through chained assignment using an inplace method.\n",
      "The behavior will change in pandas 3.0. This inplace method will never work because the intermediate object on which we are setting values always behaves as a copy.\n",
      "\n",
      "For example, when doing 'df[col].method(value, inplace=True)', try using 'df.method({col: value}, inplace=True)' or df[col] = df[col].method(value) instead, to perform the operation inplace on the original object.\n",
      "\n",
      "\n",
      "  df_1['AGE'].fillna(df_1['AGE'].mean(), inplace=True)\n"
     ]
    }
   ],
   "source": [
    "\n",
    "# Handle missing values by filling with column mean (or you could drop rows)\n",
    "df_1['AGE'].fillna(df_1['AGE'].mean(), inplace=True)\n",
    "\n",
    "# Finally, check the cleaned dataframe\n",
    "print(df_1.head())\n"
   ]
  },
  {
   "cell_type": "code",
   "execution_count": 61,
   "metadata": {},
   "outputs": [
    {
     "data": {
      "text/plain": [
       "ID                           0\n",
       "GENDER                       0\n",
       "AGE                          0\n",
       "NO_DEFAULT_LOAN              0\n",
       "EMPLOYMENT_STATUS            0\n",
       "SECTOR                       0\n",
       "MARITAL_STATUS               0\n",
       "CREDIT_SCORE                 0\n",
       "SCOREGRADE                   0\n",
       "CRR                          0\n",
       "CURRENCY                     0\n",
       "NET INCOME                   0\n",
       "PRINCIPAL_AMOUNT             0\n",
       "EMI                          0\n",
       "OD_DAYS                      0\n",
       "PRUDENTIAL_CLASSIFICATION    0\n",
       "RISK_GRADE                   0\n",
       "AREARS                       0\n",
       "LOAN_STATUS                  0\n",
       "dtype: int64"
      ]
     },
     "execution_count": 61,
     "metadata": {},
     "output_type": "execute_result"
    }
   ],
   "source": [
    "df_1.isnull().sum()"
   ]
  },
  {
   "cell_type": "code",
   "execution_count": 50,
   "metadata": {},
   "outputs": [
    {
     "data": {
      "text/plain": [
       "ID                           float64\n",
       "GENDER                        object\n",
       "AGE                          float64\n",
       "NO_DEFAULT_LOAN              float64\n",
       "EMPLOYMENT_STATUS             object\n",
       "SECTOR                        object\n",
       "MARITAL_STATUS                object\n",
       "CREDIT_SCORE                 float64\n",
       "SCOREGRADE                    object\n",
       "CRR                           object\n",
       "CURRENCY                      object\n",
       "NET INCOME                   float64\n",
       "PRINCIPAL_AMOUNT             float64\n",
       "EMI                           object\n",
       "OD_DAYS                      float64\n",
       "PRUDENTIAL_CLASSIFICATION     object\n",
       "RISK_GRADE                    object\n",
       "AREARS                        object\n",
       "LOAN_STATUS                   object\n",
       "dtype: object"
      ]
     },
     "execution_count": 50,
     "metadata": {},
     "output_type": "execute_result"
    }
   ],
   "source": [
    "# Show the data types of all columns\n",
    "df_1.dtypes "
   ]
  },
  {
   "cell_type": "code",
   "execution_count": 51,
   "metadata": {},
   "outputs": [],
   "source": [
    "# Use .loc to ensure you are modifying the original DataFrame\n",
    "df_1.loc[:, 'AGE'] = pd.to_numeric(df_1['AGE'], errors='coerce')\n",
    "df_1.loc[:, 'PRINCIPAL_AMOUNT'] = pd.to_numeric(df_1['PRINCIPAL_AMOUNT'], errors='coerce')"
   ]
  },
  {
   "cell_type": "code",
   "execution_count": 52,
   "metadata": {},
   "outputs": [
    {
     "data": {
      "text/plain": [
       "ID                           float64\n",
       "GENDER                        object\n",
       "AGE                          float64\n",
       "NO_DEFAULT_LOAN              float64\n",
       "EMPLOYMENT_STATUS             object\n",
       "SECTOR                        object\n",
       "MARITAL_STATUS                object\n",
       "CREDIT_SCORE                 float64\n",
       "SCOREGRADE                    object\n",
       "CRR                           object\n",
       "CURRENCY                      object\n",
       "NET INCOME                   float64\n",
       "PRINCIPAL_AMOUNT             float64\n",
       "EMI                           object\n",
       "OD_DAYS                      float64\n",
       "PRUDENTIAL_CLASSIFICATION     object\n",
       "RISK_GRADE                    object\n",
       "AREARS                        object\n",
       "LOAN_STATUS                   object\n",
       "dtype: object"
      ]
     },
     "execution_count": 52,
     "metadata": {},
     "output_type": "execute_result"
    }
   ],
   "source": [
    "df_1.dtypes"
   ]
  },
  {
   "cell_type": "code",
   "execution_count": 56,
   "metadata": {},
   "outputs": [],
   "source": [
    "df_1[\"EMI\"] = df_1[\"EMI\"].str.replace(\",\", \"\").astype(float)\n",
    "df_1[\"AREARS\"] = df_1[\"AREARS\"].str.replace(\",\", \"\").astype(float)"
   ]
  },
  {
   "cell_type": "code",
   "execution_count": 57,
   "metadata": {},
   "outputs": [
    {
     "data": {
      "text/plain": [
       "ID                           float64\n",
       "GENDER                        object\n",
       "AGE                          float64\n",
       "NO_DEFAULT_LOAN              float64\n",
       "EMPLOYMENT_STATUS             object\n",
       "SECTOR                        object\n",
       "MARITAL_STATUS                object\n",
       "CREDIT_SCORE                 float64\n",
       "SCOREGRADE                    object\n",
       "CRR                           object\n",
       "CURRENCY                      object\n",
       "NET INCOME                   float64\n",
       "PRINCIPAL_AMOUNT             float64\n",
       "EMI                          float64\n",
       "OD_DAYS                      float64\n",
       "PRUDENTIAL_CLASSIFICATION     object\n",
       "RISK_GRADE                    object\n",
       "AREARS                       float64\n",
       "LOAN_STATUS                   object\n",
       "dtype: object"
      ]
     },
     "execution_count": 57,
     "metadata": {},
     "output_type": "execute_result"
    }
   ],
   "source": [
    "df_1.dtypes"
   ]
  },
  {
   "cell_type": "code",
   "execution_count": 63,
   "metadata": {},
   "outputs": [
    {
     "data": {
      "text/plain": [
       "0"
      ]
     },
     "execution_count": 63,
     "metadata": {},
     "output_type": "execute_result"
    }
   ],
   "source": [
    "df_1.duplicated().sum()"
   ]
  },
  {
   "cell_type": "code",
   "execution_count": null,
   "metadata": {},
   "outputs": [],
   "source": []
  },
  {
   "cell_type": "code",
   "execution_count": null,
   "metadata": {},
   "outputs": [],
   "source": []
  },
  {
   "cell_type": "code",
   "execution_count": null,
   "metadata": {},
   "outputs": [],
   "source": []
  },
  {
   "cell_type": "code",
   "execution_count": null,
   "metadata": {},
   "outputs": [],
   "source": []
  },
  {
   "cell_type": "code",
   "execution_count": null,
   "metadata": {},
   "outputs": [],
   "source": []
  },
  {
   "cell_type": "code",
   "execution_count": null,
   "metadata": {},
   "outputs": [],
   "source": []
  },
  {
   "cell_type": "code",
   "execution_count": null,
   "metadata": {},
   "outputs": [],
   "source": []
  },
  {
   "cell_type": "code",
   "execution_count": null,
   "metadata": {},
   "outputs": [],
   "source": []
  },
  {
   "cell_type": "code",
   "execution_count": null,
   "metadata": {},
   "outputs": [],
   "source": []
  },
  {
   "cell_type": "code",
   "execution_count": null,
   "metadata": {},
   "outputs": [],
   "source": []
  },
  {
   "cell_type": "code",
   "execution_count": null,
   "metadata": {},
   "outputs": [],
   "source": []
  },
  {
   "cell_type": "code",
   "execution_count": null,
   "metadata": {},
   "outputs": [],
   "source": []
  },
  {
   "cell_type": "code",
   "execution_count": null,
   "metadata": {},
   "outputs": [],
   "source": []
  },
  {
   "cell_type": "code",
   "execution_count": null,
   "metadata": {},
   "outputs": [],
   "source": []
  },
  {
   "cell_type": "code",
   "execution_count": null,
   "metadata": {},
   "outputs": [],
   "source": []
  },
  {
   "cell_type": "code",
   "execution_count": null,
   "metadata": {},
   "outputs": [],
   "source": []
  },
  {
   "cell_type": "code",
   "execution_count": null,
   "metadata": {},
   "outputs": [],
   "source": []
  },
  {
   "cell_type": "code",
   "execution_count": null,
   "metadata": {},
   "outputs": [],
   "source": []
  },
  {
   "cell_type": "code",
   "execution_count": null,
   "metadata": {},
   "outputs": [],
   "source": []
  },
  {
   "cell_type": "code",
   "execution_count": null,
   "metadata": {},
   "outputs": [],
   "source": []
  },
  {
   "cell_type": "code",
   "execution_count": null,
   "metadata": {},
   "outputs": [],
   "source": []
  },
  {
   "cell_type": "code",
   "execution_count": null,
   "metadata": {},
   "outputs": [],
   "source": []
  },
  {
   "cell_type": "code",
   "execution_count": null,
   "metadata": {},
   "outputs": [],
   "source": []
  },
  {
   "cell_type": "code",
   "execution_count": null,
   "metadata": {},
   "outputs": [],
   "source": []
  },
  {
   "cell_type": "code",
   "execution_count": null,
   "metadata": {},
   "outputs": [],
   "source": []
  },
  {
   "cell_type": "code",
   "execution_count": null,
   "metadata": {},
   "outputs": [],
   "source": []
  },
  {
   "cell_type": "code",
   "execution_count": null,
   "metadata": {},
   "outputs": [],
   "source": []
  },
  {
   "cell_type": "code",
   "execution_count": null,
   "metadata": {},
   "outputs": [],
   "source": []
  },
  {
   "cell_type": "code",
   "execution_count": null,
   "metadata": {},
   "outputs": [],
   "source": []
  },
  {
   "cell_type": "code",
   "execution_count": null,
   "metadata": {},
   "outputs": [],
   "source": []
  },
  {
   "cell_type": "code",
   "execution_count": null,
   "metadata": {},
   "outputs": [],
   "source": []
  },
  {
   "cell_type": "code",
   "execution_count": null,
   "metadata": {},
   "outputs": [],
   "source": []
  },
  {
   "cell_type": "code",
   "execution_count": null,
   "metadata": {},
   "outputs": [],
   "source": []
  },
  {
   "cell_type": "code",
   "execution_count": null,
   "metadata": {},
   "outputs": [],
   "source": []
  },
  {
   "cell_type": "code",
   "execution_count": null,
   "metadata": {},
   "outputs": [],
   "source": []
  },
  {
   "cell_type": "code",
   "execution_count": null,
   "metadata": {},
   "outputs": [],
   "source": []
  },
  {
   "cell_type": "code",
   "execution_count": null,
   "metadata": {},
   "outputs": [],
   "source": []
  },
  {
   "cell_type": "code",
   "execution_count": null,
   "metadata": {},
   "outputs": [],
   "source": []
  },
  {
   "cell_type": "code",
   "execution_count": null,
   "metadata": {},
   "outputs": [],
   "source": []
  },
  {
   "cell_type": "code",
   "execution_count": null,
   "metadata": {},
   "outputs": [],
   "source": []
  },
  {
   "cell_type": "code",
   "execution_count": null,
   "metadata": {},
   "outputs": [],
   "source": []
  },
  {
   "cell_type": "code",
   "execution_count": null,
   "metadata": {},
   "outputs": [],
   "source": []
  }
 ],
 "metadata": {
  "kernelspec": {
   "display_name": "base",
   "language": "python",
   "name": "python3"
  },
  "language_info": {
   "codemirror_mode": {
    "name": "ipython",
    "version": 3
   },
   "file_extension": ".py",
   "mimetype": "text/x-python",
   "name": "python",
   "nbconvert_exporter": "python",
   "pygments_lexer": "ipython3",
   "version": "3.12.4"
  }
 },
 "nbformat": 4,
 "nbformat_minor": 2
}
