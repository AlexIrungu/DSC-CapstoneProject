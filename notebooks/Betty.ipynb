{
 "cells": [
  {
   "cell_type": "code",
   "execution_count": 1,
   "metadata": {},
   "outputs": [],
   "source": [
    "#Import libraries\n",
    "#import neccessary libraries\n",
    "import pandas as pd\n",
    "import numpy as np\n",
    "import matplotlib.pyplot as plt\n",
    "import seaborn as sns\n",
    "\n",
    "\n",
    "from sklearn.model_selection import train_test_split\n",
    "from sklearn.linear_model import LogisticRegression\n",
    "from sklearn.tree import DecisionTreeClassifier\n",
    "from sklearn.metrics import accuracy_score, classification_report, confusion_matrix\n",
    "from sklearn.feature_selection import RFE\n",
    "from sklearn.metrics import roc_curve, auc\n",
    "from sklearn.preprocessing import label_binarize\n",
    "from sklearn.multiclass import OneVsRestClassifier\n",
    "from sklearn.model_selection import train_test_split\n",
    "from sklearn.linear_model import LogisticRegression\n",
    "from sklearn.metrics import roc_auc_score"
   ]
  },
  {
   "cell_type": "code",
   "execution_count": 16,
   "metadata": {},
   "outputs": [
    {
     "name": "stderr",
     "output_type": "stream",
     "text": [
      "c:\\Users\\Betty.Koila\\AppData\\Local\\anaconda3\\envs\\learn-env\\lib\\site-packages\\IPython\\core\\interactiveshell.py:3145: DtypeWarning: Columns (1,2,4,5,6,8,9,10,12,13,15,16,17,18) have mixed types.Specify dtype option on import or set low_memory=False.\n",
      "  has_raised = await self.run_ast_nodes(code_ast.body, cell_name,\n"
     ]
    }
   ],
   "source": [
    "df = pd.read_csv(r'C:\\Users\\Betty.Koila\\Desktop\\DataScience\\DSC-CapstoneProject\\Data\\Updated_Loans.csv')"
   ]
  },
  {
   "cell_type": "code",
   "execution_count": 18,
   "metadata": {},
   "outputs": [
    {
     "name": "stdout",
     "output_type": "stream",
     "text": [
      "ID                           float64\n",
      "GENDER                        object\n",
      "AGE                           object\n",
      "NO_DEFAULT_LOAN              float64\n",
      "EMPLOYMENT_STATUS             object\n",
      "SECTOR                        object\n",
      "MARITAL_STATUS                object\n",
      "CREDIT_SCORE                 float64\n",
      "SCOREGRADE                    object\n",
      "CRR                           object\n",
      "CURRENCY                      object\n",
      "NET INCOME                   float64\n",
      "PRINCIPAL_AMOUNT              object\n",
      "EMI                           object\n",
      "OD_DAYS                      float64\n",
      "PRUDENTIAL_CLASSIFICATION     object\n",
      "RISK_GRADE                    object\n",
      "AREARS                        object\n",
      "LOAN_STATUS                   object\n",
      "dtype: object\n"
     ]
    }
   ],
   "source": [
    "\n",
    "print(df.dtypes)  # Check the data types of all columns\n"
   ]
  },
  {
   "cell_type": "code",
   "execution_count": 11,
   "metadata": {},
   "outputs": [
    {
     "name": "stderr",
     "output_type": "stream",
     "text": [
      "c:\\Users\\Betty.Koila\\AppData\\Local\\anaconda3\\envs\\learn-env\\lib\\site-packages\\IPython\\core\\interactiveshell.py:3145: DtypeWarning: Columns (1,2,4,5,6,8,9,10,12,13,15,16,17,18) have mixed types.Specify dtype option on import or set low_memory=False.\n",
      "  has_raised = await self.run_ast_nodes(code_ast.body, cell_name,\n"
     ]
    }
   ],
   "source": [
    "dtype_dict = {\n",
    "    'column_name': str,  # Replace 'column_name' with actual column name\n",
    "    'another_column': float  # Replace with appropriate column and type\n",
    "}\n",
    "df = pd.read_csv(r'C:\\Users\\Betty.Koila\\Desktop\\DataScience\\DSC-CapstoneProject\\Data\\Updated_Loans.csv', dtype=dtype_dict)\n"
   ]
  },
  {
   "cell_type": "code",
   "execution_count": 12,
   "metadata": {},
   "outputs": [
    {
     "data": {
      "text/plain": [
       "Index(['ID', 'GENDER', 'AGE', 'NO_DEFAULT_LOAN', 'EMPLOYMENT_STATUS', 'SECTOR',\n",
       "       'MARITAL_STATUS', 'CREDIT_SCORE', 'SCOREGRADE', 'CRR', 'CURRENCY',\n",
       "       'NET INCOME', 'PRINCIPAL_AMOUNT', 'EMI', 'OD_DAYS',\n",
       "       'PRUDENTIAL_CLASSIFICATION', 'RISK_GRADE', 'AREARS', 'LOAN_STATUS'],\n",
       "      dtype='object')"
      ]
     },
     "execution_count": 12,
     "metadata": {},
     "output_type": "execute_result"
    }
   ],
   "source": [
    "df.columns\n"
   ]
  }
 ],
 "metadata": {
  "kernelspec": {
   "display_name": "learn-env",
   "language": "python",
   "name": "python3"
  },
  "language_info": {
   "codemirror_mode": {
    "name": "ipython",
    "version": 3
   },
   "file_extension": ".py",
   "mimetype": "text/x-python",
   "name": "python",
   "nbconvert_exporter": "python",
   "pygments_lexer": "ipython3",
   "version": "3.8.5"
  }
 },
 "nbformat": 4,
 "nbformat_minor": 2
}
