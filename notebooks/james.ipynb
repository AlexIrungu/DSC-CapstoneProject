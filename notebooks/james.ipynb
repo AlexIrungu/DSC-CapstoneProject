{
 "cells": [
  {
   "cell_type": "code",
   "execution_count": 75,
   "metadata": {},
   "outputs": [],
   "source": [
    "#Import libraries\n",
    "#import neccessary libraries\n",
    "import pandas as pd\n",
    "import numpy as np\n",
    "import matplotlib.pyplot as plt\n",
    "import seaborn as sns\n",
    "\n",
    "\n",
    "from sklearn.model_selection import train_test_split\n",
    "from sklearn.linear_model import LogisticRegression\n",
    "from sklearn.tree import DecisionTreeClassifier\n",
    "from sklearn.metrics import accuracy_score, classification_report, confusion_matrix\n",
    "from sklearn.feature_selection import RFE\n",
    "from sklearn.metrics import roc_curve, auc\n",
    "from sklearn.preprocessing import label_binarize\n",
    "from sklearn.multiclass import OneVsRestClassifier\n",
    "from sklearn.model_selection import train_test_split\n",
    "from sklearn.linear_model import LogisticRegression\n",
    "from sklearn.metrics import roc_auc_score"
   ]
  },
  {
   "cell_type": "code",
   "execution_count": 76,
   "metadata": {},
   "outputs": [
    {
     "data": {
      "text/html": [
       "<div>\n",
       "<style scoped>\n",
       "    .dataframe tbody tr th:only-of-type {\n",
       "        vertical-align: middle;\n",
       "    }\n",
       "\n",
       "    .dataframe tbody tr th {\n",
       "        vertical-align: top;\n",
       "    }\n",
       "\n",
       "    .dataframe thead th {\n",
       "        text-align: right;\n",
       "    }\n",
       "</style>\n",
       "<table border=\"1\" class=\"dataframe\">\n",
       "  <thead>\n",
       "    <tr style=\"text-align: right;\">\n",
       "      <th></th>\n",
       "      <th>ID</th>\n",
       "      <th>GENDER</th>\n",
       "      <th>AGE</th>\n",
       "      <th>NO_DEFAULT_LOAN</th>\n",
       "      <th>EMPLOYMENT_STATUS</th>\n",
       "      <th>SECTOR</th>\n",
       "      <th>MARITAL_STATUS</th>\n",
       "      <th>CREDIT_SCORE</th>\n",
       "      <th>SCOREGRADE</th>\n",
       "      <th>CRR</th>\n",
       "      <th>CURRENCY</th>\n",
       "      <th>NET INCOME</th>\n",
       "      <th>PRINCIPAL_AMOUNT</th>\n",
       "      <th>EMI</th>\n",
       "      <th>OD_DAYS</th>\n",
       "      <th>PRUDENTIAL_CLASSIFICATION</th>\n",
       "      <th>RISK_GRADE</th>\n",
       "      <th>AREARS</th>\n",
       "      <th>LOAN_STATUS</th>\n",
       "    </tr>\n",
       "  </thead>\n",
       "  <tbody>\n",
       "    <tr>\n",
       "      <th>0</th>\n",
       "      <td>40654.0</td>\n",
       "      <td>FEMALE</td>\n",
       "      <td>37</td>\n",
       "      <td>7.0</td>\n",
       "      <td>EMPLOYED</td>\n",
       "      <td>FINANCE &amp; INSURANCE</td>\n",
       "      <td>MARRIED</td>\n",
       "      <td>615.0</td>\n",
       "      <td>II</td>\n",
       "      <td>B10</td>\n",
       "      <td>KES</td>\n",
       "      <td>NaN</td>\n",
       "      <td>642,000.00</td>\n",
       "      <td>59,826.37</td>\n",
       "      <td>204.0</td>\n",
       "      <td>DOUBTFUL</td>\n",
       "      <td>B9</td>\n",
       "      <td>453,208.12</td>\n",
       "      <td>CURRENT</td>\n",
       "    </tr>\n",
       "    <tr>\n",
       "      <th>1</th>\n",
       "      <td>40655.0</td>\n",
       "      <td>MALE</td>\n",
       "      <td>41</td>\n",
       "      <td>3.0</td>\n",
       "      <td>SELF-EMPLOYED</td>\n",
       "      <td>NaN</td>\n",
       "      <td>MARRIED</td>\n",
       "      <td>529.0</td>\n",
       "      <td>JJ</td>\n",
       "      <td>B20</td>\n",
       "      <td>KES</td>\n",
       "      <td>NaN</td>\n",
       "      <td>78,000.00</td>\n",
       "      <td>6,149.03</td>\n",
       "      <td>295.0</td>\n",
       "      <td>DOUBTFUL</td>\n",
       "      <td>B9</td>\n",
       "      <td>68,917.29</td>\n",
       "      <td>EXPIRED</td>\n",
       "    </tr>\n",
       "    <tr>\n",
       "      <th>2</th>\n",
       "      <td>40664.0</td>\n",
       "      <td>MALE</td>\n",
       "      <td>36</td>\n",
       "      <td>6.0</td>\n",
       "      <td>EMPLOYED</td>\n",
       "      <td>TRANSPORT &amp; COMMUNICATION</td>\n",
       "      <td>MARRIED</td>\n",
       "      <td>665.0</td>\n",
       "      <td>FF</td>\n",
       "      <td>A5</td>\n",
       "      <td>KES</td>\n",
       "      <td>NaN</td>\n",
       "      <td>80,000.00</td>\n",
       "      <td>7,439.02</td>\n",
       "      <td>0.0</td>\n",
       "      <td>NORMAL</td>\n",
       "      <td>A1-A6</td>\n",
       "      <td>4.84</td>\n",
       "      <td>CURRENT</td>\n",
       "    </tr>\n",
       "    <tr>\n",
       "      <th>3</th>\n",
       "      <td>40687.0</td>\n",
       "      <td>MALE</td>\n",
       "      <td>41</td>\n",
       "      <td>5.0</td>\n",
       "      <td>EMPLOYED</td>\n",
       "      <td>NaN</td>\n",
       "      <td>0</td>\n",
       "      <td>618.0</td>\n",
       "      <td>HH</td>\n",
       "      <td>B20</td>\n",
       "      <td>KES</td>\n",
       "      <td>NaN</td>\n",
       "      <td>172,000.00</td>\n",
       "      <td>16,062.90</td>\n",
       "      <td>323.0</td>\n",
       "      <td>DOUBTFUL</td>\n",
       "      <td>B9</td>\n",
       "      <td>195,045.53</td>\n",
       "      <td>EXPIRED</td>\n",
       "    </tr>\n",
       "    <tr>\n",
       "      <th>4</th>\n",
       "      <td>40688.0</td>\n",
       "      <td>MALE</td>\n",
       "      <td>41</td>\n",
       "      <td>1.0</td>\n",
       "      <td>EMPLOYED</td>\n",
       "      <td>FINANCE &amp; INSURANCE</td>\n",
       "      <td>SINGLE</td>\n",
       "      <td>696.0</td>\n",
       "      <td>DD</td>\n",
       "      <td>A5</td>\n",
       "      <td>KES</td>\n",
       "      <td>NaN</td>\n",
       "      <td>300,502.44</td>\n",
       "      <td>28,098.61</td>\n",
       "      <td>0.0</td>\n",
       "      <td>NORMAL</td>\n",
       "      <td>A1-A6</td>\n",
       "      <td>247.18</td>\n",
       "      <td>CURRENT</td>\n",
       "    </tr>\n",
       "  </tbody>\n",
       "</table>\n",
       "</div>"
      ],
      "text/plain": [
       "        ID  GENDER AGE  NO_DEFAULT_LOAN EMPLOYMENT_STATUS  \\\n",
       "0  40654.0  FEMALE  37              7.0          EMPLOYED   \n",
       "1  40655.0    MALE  41              3.0     SELF-EMPLOYED   \n",
       "2  40664.0    MALE  36              6.0          EMPLOYED   \n",
       "3  40687.0    MALE  41              5.0          EMPLOYED   \n",
       "4  40688.0    MALE  41              1.0          EMPLOYED   \n",
       "\n",
       "                      SECTOR MARITAL_STATUS  CREDIT_SCORE SCOREGRADE  CRR  \\\n",
       "0        FINANCE & INSURANCE        MARRIED         615.0         II  B10   \n",
       "1                        NaN        MARRIED         529.0         JJ  B20   \n",
       "2  TRANSPORT & COMMUNICATION        MARRIED         665.0         FF   A5   \n",
       "3                        NaN              0         618.0         HH  B20   \n",
       "4        FINANCE & INSURANCE         SINGLE         696.0         DD   A5   \n",
       "\n",
       "  CURRENCY  NET INCOME PRINCIPAL_AMOUNT        EMI  OD_DAYS  \\\n",
       "0      KES         NaN       642,000.00  59,826.37    204.0   \n",
       "1      KES         NaN        78,000.00   6,149.03    295.0   \n",
       "2      KES         NaN        80,000.00   7,439.02      0.0   \n",
       "3      KES         NaN       172,000.00  16,062.90    323.0   \n",
       "4      KES         NaN       300,502.44  28,098.61      0.0   \n",
       "\n",
       "  PRUDENTIAL_CLASSIFICATION RISK_GRADE      AREARS LOAN_STATUS  \n",
       "0                  DOUBTFUL         B9  453,208.12     CURRENT  \n",
       "1                  DOUBTFUL         B9   68,917.29     EXPIRED  \n",
       "2                    NORMAL      A1-A6        4.84     CURRENT  \n",
       "3                  DOUBTFUL         B9  195,045.53     EXPIRED  \n",
       "4                    NORMAL      A1-A6      247.18     CURRENT  "
      ]
     },
     "execution_count": 76,
     "metadata": {},
     "output_type": "execute_result"
    }
   ],
   "source": [
    "df =pd.read_csv(\"../Data/Final_Loans_dataset.csv\", low_memory=False)\n",
    "df.head()"
   ]
  },
  {
   "cell_type": "code",
   "execution_count": 77,
   "metadata": {},
   "outputs": [
    {
     "name": "stdout",
     "output_type": "stream",
     "text": [
      "there are 1048575 rows and 19 columns\n"
     ]
    }
   ],
   "source": [
    "# check the number of columns and rows \n",
    "print(f'there are {df.shape[0]} rows and {df.shape[1]} columns')"
   ]
  },
  {
   "cell_type": "markdown",
   "metadata": {},
   "source": [
    "## Null/NaN values "
   ]
  },
  {
   "cell_type": "code",
   "execution_count": 78,
   "metadata": {},
   "outputs": [
    {
     "data": {
      "text/plain": [
       "ID                           1030378\n",
       "GENDER                       1030826\n",
       "AGE                                0\n",
       "NO_DEFAULT_LOAN              1030653\n",
       "EMPLOYMENT_STATUS            1030378\n",
       "SECTOR                       1030505\n",
       "MARITAL_STATUS               1030378\n",
       "CREDIT_SCORE                 1030653\n",
       "SCOREGRADE                   1030653\n",
       "CRR                          1030378\n",
       "CURRENCY                     1030378\n",
       "NET INCOME                   1048575\n",
       "PRINCIPAL_AMOUNT             1030378\n",
       "EMI                          1030378\n",
       "OD_DAYS                      1030378\n",
       "PRUDENTIAL_CLASSIFICATION    1030378\n",
       "RISK_GRADE                   1030378\n",
       "AREARS                       1030378\n",
       "LOAN_STATUS                  1030378\n",
       "dtype: int64"
      ]
     },
     "execution_count": 78,
     "metadata": {},
     "output_type": "execute_result"
    }
   ],
   "source": [
    "# check for null values \n",
    "df.isna().sum()"
   ]
  },
  {
   "cell_type": "markdown",
   "metadata": {},
   "source": [
    "As shown above there are alot of empty rows."
   ]
  },
  {
   "cell_type": "code",
   "execution_count": 79,
   "metadata": {},
   "outputs": [
    {
     "data": {
      "text/html": [
       "<div>\n",
       "<style scoped>\n",
       "    .dataframe tbody tr th:only-of-type {\n",
       "        vertical-align: middle;\n",
       "    }\n",
       "\n",
       "    .dataframe tbody tr th {\n",
       "        vertical-align: top;\n",
       "    }\n",
       "\n",
       "    .dataframe thead th {\n",
       "        text-align: right;\n",
       "    }\n",
       "</style>\n",
       "<table border=\"1\" class=\"dataframe\">\n",
       "  <thead>\n",
       "    <tr style=\"text-align: right;\">\n",
       "      <th></th>\n",
       "      <th>ID</th>\n",
       "      <th>GENDER</th>\n",
       "      <th>AGE</th>\n",
       "      <th>NO_DEFAULT_LOAN</th>\n",
       "      <th>EMPLOYMENT_STATUS</th>\n",
       "      <th>SECTOR</th>\n",
       "      <th>MARITAL_STATUS</th>\n",
       "      <th>CREDIT_SCORE</th>\n",
       "      <th>SCOREGRADE</th>\n",
       "      <th>CRR</th>\n",
       "      <th>CURRENCY</th>\n",
       "      <th>NET INCOME</th>\n",
       "      <th>PRINCIPAL_AMOUNT</th>\n",
       "      <th>EMI</th>\n",
       "      <th>OD_DAYS</th>\n",
       "      <th>PRUDENTIAL_CLASSIFICATION</th>\n",
       "      <th>RISK_GRADE</th>\n",
       "      <th>AREARS</th>\n",
       "      <th>LOAN_STATUS</th>\n",
       "    </tr>\n",
       "  </thead>\n",
       "  <tbody>\n",
       "    <tr>\n",
       "      <th>18195</th>\n",
       "      <td>112241.0</td>\n",
       "      <td>FEMALE</td>\n",
       "      <td>30</td>\n",
       "      <td>0.0</td>\n",
       "      <td>SELF-EMPLOYED</td>\n",
       "      <td>BUILDING &amp; CONSTRUCTION</td>\n",
       "      <td>SINGLE</td>\n",
       "      <td>694.0</td>\n",
       "      <td>DD</td>\n",
       "      <td>A5</td>\n",
       "      <td>KES</td>\n",
       "      <td>NaN</td>\n",
       "      <td>5,000.00</td>\n",
       "      <td>1,721.71</td>\n",
       "      <td>0.0</td>\n",
       "      <td>NORMAL</td>\n",
       "      <td>A1-A6</td>\n",
       "      <td>0</td>\n",
       "      <td>CURRENT</td>\n",
       "    </tr>\n",
       "    <tr>\n",
       "      <th>18196</th>\n",
       "      <td>112246.0</td>\n",
       "      <td>FEMALE</td>\n",
       "      <td>36</td>\n",
       "      <td>1.0</td>\n",
       "      <td>0</td>\n",
       "      <td>INDIVIDUALS</td>\n",
       "      <td>0</td>\n",
       "      <td>721.0</td>\n",
       "      <td>CC</td>\n",
       "      <td>A5</td>\n",
       "      <td>KES</td>\n",
       "      <td>NaN</td>\n",
       "      <td>110,000.00</td>\n",
       "      <td>19,395.60</td>\n",
       "      <td>0.0</td>\n",
       "      <td>NORMAL</td>\n",
       "      <td>A1-A6</td>\n",
       "      <td>0</td>\n",
       "      <td>CURRENT</td>\n",
       "    </tr>\n",
       "    <tr>\n",
       "      <th>18197</th>\n",
       "      <td>NaN</td>\n",
       "      <td>NaN</td>\n",
       "      <td>0</td>\n",
       "      <td>NaN</td>\n",
       "      <td>NaN</td>\n",
       "      <td>NaN</td>\n",
       "      <td>NaN</td>\n",
       "      <td>NaN</td>\n",
       "      <td>NaN</td>\n",
       "      <td>NaN</td>\n",
       "      <td>NaN</td>\n",
       "      <td>NaN</td>\n",
       "      <td>NaN</td>\n",
       "      <td>NaN</td>\n",
       "      <td>NaN</td>\n",
       "      <td>NaN</td>\n",
       "      <td>NaN</td>\n",
       "      <td>NaN</td>\n",
       "      <td>NaN</td>\n",
       "    </tr>\n",
       "    <tr>\n",
       "      <th>18198</th>\n",
       "      <td>NaN</td>\n",
       "      <td>NaN</td>\n",
       "      <td>0</td>\n",
       "      <td>NaN</td>\n",
       "      <td>NaN</td>\n",
       "      <td>NaN</td>\n",
       "      <td>NaN</td>\n",
       "      <td>NaN</td>\n",
       "      <td>NaN</td>\n",
       "      <td>NaN</td>\n",
       "      <td>NaN</td>\n",
       "      <td>NaN</td>\n",
       "      <td>NaN</td>\n",
       "      <td>NaN</td>\n",
       "      <td>NaN</td>\n",
       "      <td>NaN</td>\n",
       "      <td>NaN</td>\n",
       "      <td>NaN</td>\n",
       "      <td>NaN</td>\n",
       "    </tr>\n",
       "    <tr>\n",
       "      <th>18199</th>\n",
       "      <td>NaN</td>\n",
       "      <td>NaN</td>\n",
       "      <td>0</td>\n",
       "      <td>NaN</td>\n",
       "      <td>NaN</td>\n",
       "      <td>NaN</td>\n",
       "      <td>NaN</td>\n",
       "      <td>NaN</td>\n",
       "      <td>NaN</td>\n",
       "      <td>NaN</td>\n",
       "      <td>NaN</td>\n",
       "      <td>NaN</td>\n",
       "      <td>NaN</td>\n",
       "      <td>NaN</td>\n",
       "      <td>NaN</td>\n",
       "      <td>NaN</td>\n",
       "      <td>NaN</td>\n",
       "      <td>NaN</td>\n",
       "      <td>NaN</td>\n",
       "    </tr>\n",
       "    <tr>\n",
       "      <th>...</th>\n",
       "      <td>...</td>\n",
       "      <td>...</td>\n",
       "      <td>...</td>\n",
       "      <td>...</td>\n",
       "      <td>...</td>\n",
       "      <td>...</td>\n",
       "      <td>...</td>\n",
       "      <td>...</td>\n",
       "      <td>...</td>\n",
       "      <td>...</td>\n",
       "      <td>...</td>\n",
       "      <td>...</td>\n",
       "      <td>...</td>\n",
       "      <td>...</td>\n",
       "      <td>...</td>\n",
       "      <td>...</td>\n",
       "      <td>...</td>\n",
       "      <td>...</td>\n",
       "      <td>...</td>\n",
       "    </tr>\n",
       "    <tr>\n",
       "      <th>1048570</th>\n",
       "      <td>NaN</td>\n",
       "      <td>NaN</td>\n",
       "      <td>0</td>\n",
       "      <td>NaN</td>\n",
       "      <td>NaN</td>\n",
       "      <td>NaN</td>\n",
       "      <td>NaN</td>\n",
       "      <td>NaN</td>\n",
       "      <td>NaN</td>\n",
       "      <td>NaN</td>\n",
       "      <td>NaN</td>\n",
       "      <td>NaN</td>\n",
       "      <td>NaN</td>\n",
       "      <td>NaN</td>\n",
       "      <td>NaN</td>\n",
       "      <td>NaN</td>\n",
       "      <td>NaN</td>\n",
       "      <td>NaN</td>\n",
       "      <td>NaN</td>\n",
       "    </tr>\n",
       "    <tr>\n",
       "      <th>1048571</th>\n",
       "      <td>NaN</td>\n",
       "      <td>NaN</td>\n",
       "      <td>0</td>\n",
       "      <td>NaN</td>\n",
       "      <td>NaN</td>\n",
       "      <td>NaN</td>\n",
       "      <td>NaN</td>\n",
       "      <td>NaN</td>\n",
       "      <td>NaN</td>\n",
       "      <td>NaN</td>\n",
       "      <td>NaN</td>\n",
       "      <td>NaN</td>\n",
       "      <td>NaN</td>\n",
       "      <td>NaN</td>\n",
       "      <td>NaN</td>\n",
       "      <td>NaN</td>\n",
       "      <td>NaN</td>\n",
       "      <td>NaN</td>\n",
       "      <td>NaN</td>\n",
       "    </tr>\n",
       "    <tr>\n",
       "      <th>1048572</th>\n",
       "      <td>NaN</td>\n",
       "      <td>NaN</td>\n",
       "      <td>0</td>\n",
       "      <td>NaN</td>\n",
       "      <td>NaN</td>\n",
       "      <td>NaN</td>\n",
       "      <td>NaN</td>\n",
       "      <td>NaN</td>\n",
       "      <td>NaN</td>\n",
       "      <td>NaN</td>\n",
       "      <td>NaN</td>\n",
       "      <td>NaN</td>\n",
       "      <td>NaN</td>\n",
       "      <td>NaN</td>\n",
       "      <td>NaN</td>\n",
       "      <td>NaN</td>\n",
       "      <td>NaN</td>\n",
       "      <td>NaN</td>\n",
       "      <td>NaN</td>\n",
       "    </tr>\n",
       "    <tr>\n",
       "      <th>1048573</th>\n",
       "      <td>NaN</td>\n",
       "      <td>NaN</td>\n",
       "      <td>0</td>\n",
       "      <td>NaN</td>\n",
       "      <td>NaN</td>\n",
       "      <td>NaN</td>\n",
       "      <td>NaN</td>\n",
       "      <td>NaN</td>\n",
       "      <td>NaN</td>\n",
       "      <td>NaN</td>\n",
       "      <td>NaN</td>\n",
       "      <td>NaN</td>\n",
       "      <td>NaN</td>\n",
       "      <td>NaN</td>\n",
       "      <td>NaN</td>\n",
       "      <td>NaN</td>\n",
       "      <td>NaN</td>\n",
       "      <td>NaN</td>\n",
       "      <td>NaN</td>\n",
       "    </tr>\n",
       "    <tr>\n",
       "      <th>1048574</th>\n",
       "      <td>NaN</td>\n",
       "      <td>NaN</td>\n",
       "      <td>0</td>\n",
       "      <td>NaN</td>\n",
       "      <td>NaN</td>\n",
       "      <td>NaN</td>\n",
       "      <td>NaN</td>\n",
       "      <td>NaN</td>\n",
       "      <td>NaN</td>\n",
       "      <td>NaN</td>\n",
       "      <td>NaN</td>\n",
       "      <td>NaN</td>\n",
       "      <td>NaN</td>\n",
       "      <td>NaN</td>\n",
       "      <td>NaN</td>\n",
       "      <td>NaN</td>\n",
       "      <td>NaN</td>\n",
       "      <td>NaN</td>\n",
       "      <td>NaN</td>\n",
       "    </tr>\n",
       "  </tbody>\n",
       "</table>\n",
       "<p>1030380 rows × 19 columns</p>\n",
       "</div>"
      ],
      "text/plain": [
       "               ID  GENDER AGE  NO_DEFAULT_LOAN EMPLOYMENT_STATUS  \\\n",
       "18195    112241.0  FEMALE  30              0.0     SELF-EMPLOYED   \n",
       "18196    112246.0  FEMALE  36              1.0                 0   \n",
       "18197         NaN     NaN   0              NaN               NaN   \n",
       "18198         NaN     NaN   0              NaN               NaN   \n",
       "18199         NaN     NaN   0              NaN               NaN   \n",
       "...           ...     ...  ..              ...               ...   \n",
       "1048570       NaN     NaN   0              NaN               NaN   \n",
       "1048571       NaN     NaN   0              NaN               NaN   \n",
       "1048572       NaN     NaN   0              NaN               NaN   \n",
       "1048573       NaN     NaN   0              NaN               NaN   \n",
       "1048574       NaN     NaN   0              NaN               NaN   \n",
       "\n",
       "                          SECTOR MARITAL_STATUS  CREDIT_SCORE SCOREGRADE  CRR  \\\n",
       "18195    BUILDING & CONSTRUCTION         SINGLE         694.0         DD   A5   \n",
       "18196                INDIVIDUALS              0         721.0         CC   A5   \n",
       "18197                        NaN            NaN           NaN        NaN  NaN   \n",
       "18198                        NaN            NaN           NaN        NaN  NaN   \n",
       "18199                        NaN            NaN           NaN        NaN  NaN   \n",
       "...                          ...            ...           ...        ...  ...   \n",
       "1048570                      NaN            NaN           NaN        NaN  NaN   \n",
       "1048571                      NaN            NaN           NaN        NaN  NaN   \n",
       "1048572                      NaN            NaN           NaN        NaN  NaN   \n",
       "1048573                      NaN            NaN           NaN        NaN  NaN   \n",
       "1048574                      NaN            NaN           NaN        NaN  NaN   \n",
       "\n",
       "        CURRENCY  NET INCOME PRINCIPAL_AMOUNT        EMI  OD_DAYS  \\\n",
       "18195        KES         NaN         5,000.00   1,721.71      0.0   \n",
       "18196        KES         NaN       110,000.00  19,395.60      0.0   \n",
       "18197        NaN         NaN              NaN        NaN      NaN   \n",
       "18198        NaN         NaN              NaN        NaN      NaN   \n",
       "18199        NaN         NaN              NaN        NaN      NaN   \n",
       "...          ...         ...              ...        ...      ...   \n",
       "1048570      NaN         NaN              NaN        NaN      NaN   \n",
       "1048571      NaN         NaN              NaN        NaN      NaN   \n",
       "1048572      NaN         NaN              NaN        NaN      NaN   \n",
       "1048573      NaN         NaN              NaN        NaN      NaN   \n",
       "1048574      NaN         NaN              NaN        NaN      NaN   \n",
       "\n",
       "        PRUDENTIAL_CLASSIFICATION RISK_GRADE AREARS LOAN_STATUS  \n",
       "18195                      NORMAL      A1-A6      0     CURRENT  \n",
       "18196                      NORMAL      A1-A6      0     CURRENT  \n",
       "18197                         NaN        NaN    NaN         NaN  \n",
       "18198                         NaN        NaN    NaN         NaN  \n",
       "18199                         NaN        NaN    NaN         NaN  \n",
       "...                           ...        ...    ...         ...  \n",
       "1048570                       NaN        NaN    NaN         NaN  \n",
       "1048571                       NaN        NaN    NaN         NaN  \n",
       "1048572                       NaN        NaN    NaN         NaN  \n",
       "1048573                       NaN        NaN    NaN         NaN  \n",
       "1048574                       NaN        NaN    NaN         NaN  \n",
       "\n",
       "[1030380 rows x 19 columns]"
      ]
     },
     "execution_count": 79,
     "metadata": {},
     "output_type": "execute_result"
    }
   ],
   "source": [
    "df.tail(1030380)"
   ]
  },
  {
   "cell_type": "markdown",
   "metadata": {},
   "source": [
    "Majority of rows after 18196 are NaN and therefore we shall clean by subsetting only the first 18196 rows from our dataset. "
   ]
  },
  {
   "cell_type": "code",
   "execution_count": 80,
   "metadata": {},
   "outputs": [
    {
     "name": "stdout",
     "output_type": "stream",
     "text": [
      "Rows after cleaning: 18196\n"
     ]
    }
   ],
   "source": [
    "# Keep only the first 18,196 rows\n",
    "df_cleaned = df.head(18196)\n",
    "\n",
    "# Check the shape of the cleaned dataset\n",
    "print(\"Rows after cleaning:\", df_cleaned.shape[0])\n",
    "#df_cleaned.to_csv(\"../Data/cleaned_dataset.csv\", index=False)"
   ]
  },
  {
   "cell_type": "code",
   "execution_count": 81,
   "metadata": {},
   "outputs": [
    {
     "data": {
      "text/plain": [
       "ID                               0\n",
       "GENDER                         448\n",
       "AGE                              0\n",
       "NO_DEFAULT_LOAN                275\n",
       "EMPLOYMENT_STATUS                0\n",
       "SECTOR                         127\n",
       "MARITAL_STATUS                   0\n",
       "CREDIT_SCORE                   275\n",
       "SCOREGRADE                     275\n",
       "CRR                              0\n",
       "CURRENCY                         0\n",
       "NET INCOME                   18196\n",
       "PRINCIPAL_AMOUNT                 0\n",
       "EMI                              0\n",
       "OD_DAYS                          0\n",
       "PRUDENTIAL_CLASSIFICATION        0\n",
       "RISK_GRADE                       0\n",
       "AREARS                           0\n",
       "LOAN_STATUS                      0\n",
       "dtype: int64"
      ]
     },
     "execution_count": 81,
     "metadata": {},
     "output_type": "execute_result"
    }
   ],
   "source": [
    "df_cleaned.isna().sum()"
   ]
  },
  {
   "cell_type": "code",
   "execution_count": 82,
   "metadata": {},
   "outputs": [
    {
     "data": {
      "text/plain": [
       "ID                             0\n",
       "GENDER                       448\n",
       "AGE                            0\n",
       "NO_DEFAULT_LOAN              275\n",
       "EMPLOYMENT_STATUS              0\n",
       "SECTOR                       127\n",
       "MARITAL_STATUS                 0\n",
       "CREDIT_SCORE                 275\n",
       "SCOREGRADE                   275\n",
       "CRR                            0\n",
       "CURRENCY                       0\n",
       "NET INCOME                   434\n",
       "PRINCIPAL_AMOUNT               0\n",
       "EMI                            0\n",
       "OD_DAYS                        0\n",
       "PRUDENTIAL_CLASSIFICATION      0\n",
       "RISK_GRADE                     0\n",
       "AREARS                         0\n",
       "LOAN_STATUS                    0\n",
       "dtype: int64"
      ]
     },
     "execution_count": 82,
     "metadata": {},
     "output_type": "execute_result"
    }
   ],
   "source": [
    "df_1 = pd.read_csv(\"../Data/Cleaned_dataset.csv\")\n",
    "df_1.isna().sum()"
   ]
  },
  {
   "cell_type": "code",
   "execution_count": 83,
   "metadata": {},
   "outputs": [
    {
     "data": {
      "text/html": [
       "<div>\n",
       "<style scoped>\n",
       "    .dataframe tbody tr th:only-of-type {\n",
       "        vertical-align: middle;\n",
       "    }\n",
       "\n",
       "    .dataframe tbody tr th {\n",
       "        vertical-align: top;\n",
       "    }\n",
       "\n",
       "    .dataframe thead th {\n",
       "        text-align: right;\n",
       "    }\n",
       "</style>\n",
       "<table border=\"1\" class=\"dataframe\">\n",
       "  <thead>\n",
       "    <tr style=\"text-align: right;\">\n",
       "      <th></th>\n",
       "      <th>ID</th>\n",
       "      <th>GENDER</th>\n",
       "      <th>AGE</th>\n",
       "      <th>NO_DEFAULT_LOAN</th>\n",
       "      <th>EMPLOYMENT_STATUS</th>\n",
       "      <th>SECTOR</th>\n",
       "      <th>MARITAL_STATUS</th>\n",
       "      <th>CREDIT_SCORE</th>\n",
       "      <th>SCOREGRADE</th>\n",
       "      <th>CRR</th>\n",
       "      <th>CURRENCY</th>\n",
       "      <th>NET INCOME</th>\n",
       "      <th>PRINCIPAL_AMOUNT</th>\n",
       "      <th>EMI</th>\n",
       "      <th>OD_DAYS</th>\n",
       "      <th>PRUDENTIAL_CLASSIFICATION</th>\n",
       "      <th>RISK_GRADE</th>\n",
       "      <th>AREARS</th>\n",
       "      <th>LOAN_STATUS</th>\n",
       "    </tr>\n",
       "  </thead>\n",
       "  <tbody>\n",
       "    <tr>\n",
       "      <th>18191</th>\n",
       "      <td>194938.0</td>\n",
       "      <td>FEMALE</td>\n",
       "      <td>37</td>\n",
       "      <td>0.0</td>\n",
       "      <td>EMPLOYED</td>\n",
       "      <td>INDIVIDUALS</td>\n",
       "      <td>0</td>\n",
       "      <td>757.0</td>\n",
       "      <td>AA</td>\n",
       "      <td>A3</td>\n",
       "      <td>KES</td>\n",
       "      <td>674717.91</td>\n",
       "      <td>60000.0</td>\n",
       "      <td>5,545.94</td>\n",
       "      <td>0.0</td>\n",
       "      <td>NORMAL</td>\n",
       "      <td>A1-A6</td>\n",
       "      <td>0</td>\n",
       "      <td>CURRENT</td>\n",
       "    </tr>\n",
       "    <tr>\n",
       "      <th>18192</th>\n",
       "      <td>128816.0</td>\n",
       "      <td>FEMALE</td>\n",
       "      <td>25</td>\n",
       "      <td>1.0</td>\n",
       "      <td>SELF-EMPLOYED</td>\n",
       "      <td>MANUFACTURING &amp; PROCESSING</td>\n",
       "      <td>SINGLE</td>\n",
       "      <td>585.0</td>\n",
       "      <td>II</td>\n",
       "      <td>A5</td>\n",
       "      <td>KES</td>\n",
       "      <td>299212.00</td>\n",
       "      <td>5000.0</td>\n",
       "      <td>1,721.71</td>\n",
       "      <td>0.0</td>\n",
       "      <td>NORMAL</td>\n",
       "      <td>A1-A6</td>\n",
       "      <td>0</td>\n",
       "      <td>CURRENT</td>\n",
       "    </tr>\n",
       "    <tr>\n",
       "      <th>18193</th>\n",
       "      <td>320610.0</td>\n",
       "      <td>FEMALE</td>\n",
       "      <td>38</td>\n",
       "      <td>1.0</td>\n",
       "      <td>EMPLOYED</td>\n",
       "      <td>MANUFACTURING &amp; PROCESSING</td>\n",
       "      <td>MARRIED</td>\n",
       "      <td>704.0</td>\n",
       "      <td>DD</td>\n",
       "      <td>A5</td>\n",
       "      <td>KES</td>\n",
       "      <td>320832.00</td>\n",
       "      <td>8000.0</td>\n",
       "      <td>2,754.73</td>\n",
       "      <td>0.0</td>\n",
       "      <td>NORMAL</td>\n",
       "      <td>A1-A6</td>\n",
       "      <td>0</td>\n",
       "      <td>CURRENT</td>\n",
       "    </tr>\n",
       "    <tr>\n",
       "      <th>18194</th>\n",
       "      <td>252431.0</td>\n",
       "      <td>FEMALE</td>\n",
       "      <td>29</td>\n",
       "      <td>2.0</td>\n",
       "      <td>EMPLOYED</td>\n",
       "      <td>NON PROFIT INSTITUTIONS</td>\n",
       "      <td>MARRIED</td>\n",
       "      <td>607.0</td>\n",
       "      <td>II</td>\n",
       "      <td>A5</td>\n",
       "      <td>KES</td>\n",
       "      <td>693087.00</td>\n",
       "      <td>13000.0</td>\n",
       "      <td>4,476.44</td>\n",
       "      <td>0.0</td>\n",
       "      <td>NORMAL</td>\n",
       "      <td>A1-A6</td>\n",
       "      <td>0</td>\n",
       "      <td>CURRENT</td>\n",
       "    </tr>\n",
       "    <tr>\n",
       "      <th>18195</th>\n",
       "      <td>100763.0</td>\n",
       "      <td>FEMALE</td>\n",
       "      <td>30</td>\n",
       "      <td>0.0</td>\n",
       "      <td>SELF-EMPLOYED</td>\n",
       "      <td>BUILDING &amp; CONSTRUCTION</td>\n",
       "      <td>SINGLE</td>\n",
       "      <td>694.0</td>\n",
       "      <td>DD</td>\n",
       "      <td>A5</td>\n",
       "      <td>KES</td>\n",
       "      <td>261190.00</td>\n",
       "      <td>5000.0</td>\n",
       "      <td>1,721.71</td>\n",
       "      <td>0.0</td>\n",
       "      <td>NORMAL</td>\n",
       "      <td>A1-A6</td>\n",
       "      <td>0</td>\n",
       "      <td>CURRENT</td>\n",
       "    </tr>\n",
       "  </tbody>\n",
       "</table>\n",
       "</div>"
      ],
      "text/plain": [
       "             ID  GENDER AGE  NO_DEFAULT_LOAN EMPLOYMENT_STATUS  \\\n",
       "18191  194938.0  FEMALE  37              0.0          EMPLOYED   \n",
       "18192  128816.0  FEMALE  25              1.0     SELF-EMPLOYED   \n",
       "18193  320610.0  FEMALE  38              1.0          EMPLOYED   \n",
       "18194  252431.0  FEMALE  29              2.0          EMPLOYED   \n",
       "18195  100763.0  FEMALE  30              0.0     SELF-EMPLOYED   \n",
       "\n",
       "                           SECTOR MARITAL_STATUS  CREDIT_SCORE SCOREGRADE CRR  \\\n",
       "18191                 INDIVIDUALS              0         757.0         AA  A3   \n",
       "18192  MANUFACTURING & PROCESSING         SINGLE         585.0         II  A5   \n",
       "18193  MANUFACTURING & PROCESSING        MARRIED         704.0         DD  A5   \n",
       "18194     NON PROFIT INSTITUTIONS        MARRIED         607.0         II  A5   \n",
       "18195     BUILDING & CONSTRUCTION         SINGLE         694.0         DD  A5   \n",
       "\n",
       "      CURRENCY  NET INCOME  PRINCIPAL_AMOUNT       EMI  OD_DAYS  \\\n",
       "18191      KES   674717.91           60000.0  5,545.94      0.0   \n",
       "18192      KES   299212.00            5000.0  1,721.71      0.0   \n",
       "18193      KES   320832.00            8000.0  2,754.73      0.0   \n",
       "18194      KES   693087.00           13000.0  4,476.44      0.0   \n",
       "18195      KES   261190.00            5000.0  1,721.71      0.0   \n",
       "\n",
       "      PRUDENTIAL_CLASSIFICATION RISK_GRADE AREARS LOAN_STATUS  \n",
       "18191                    NORMAL      A1-A6      0     CURRENT  \n",
       "18192                    NORMAL      A1-A6      0     CURRENT  \n",
       "18193                    NORMAL      A1-A6      0     CURRENT  \n",
       "18194                    NORMAL      A1-A6      0     CURRENT  \n",
       "18195                    NORMAL      A1-A6      0     CURRENT  "
      ]
     },
     "execution_count": 83,
     "metadata": {},
     "output_type": "execute_result"
    }
   ],
   "source": [
    "\n",
    "df_1.tail()"
   ]
  },
  {
   "cell_type": "code",
   "execution_count": 84,
   "metadata": {},
   "outputs": [
    {
     "data": {
      "text/plain": [
       "(18196, 19)"
      ]
     },
     "execution_count": 84,
     "metadata": {},
     "output_type": "execute_result"
    }
   ],
   "source": [
    "df_1.shape"
   ]
  },
  {
   "cell_type": "code",
   "execution_count": 85,
   "metadata": {},
   "outputs": [
    {
     "data": {
      "text/plain": [
       "ID                           float64\n",
       "GENDER                        object\n",
       "AGE                           object\n",
       "NO_DEFAULT_LOAN              float64\n",
       "EMPLOYMENT_STATUS             object\n",
       "SECTOR                        object\n",
       "MARITAL_STATUS                object\n",
       "CREDIT_SCORE                 float64\n",
       "SCOREGRADE                    object\n",
       "CRR                           object\n",
       "CURRENCY                      object\n",
       "NET INCOME                   float64\n",
       "PRINCIPAL_AMOUNT             float64\n",
       "EMI                           object\n",
       "OD_DAYS                      float64\n",
       "PRUDENTIAL_CLASSIFICATION     object\n",
       "RISK_GRADE                    object\n",
       "AREARS                        object\n",
       "LOAN_STATUS                   object\n",
       "dtype: object"
      ]
     },
     "execution_count": 85,
     "metadata": {},
     "output_type": "execute_result"
    }
   ],
   "source": [
    "# Show the data types of all columns\n",
    "df_1.dtypes "
   ]
  },
  {
   "cell_type": "markdown",
   "metadata": {},
   "source": [
    "\n",
    "Looking at the column data types, it seems that there are several columns with mixed data types. Specifically:\n",
    "\n",
    "AGE, PRINCIPAL_AMOUNT, EMI, AREARS are of type object, but they seem like they should be numeric (such as integer or float).\n",
    "\n",
    "CRR, SCOREGRADE, MARITAL_STATUS, SECTOR, EMPLOYMENT_STATUS, and RISK_GRADE are object type, which seems appropriate for categorical variables.\n",
    "\n",
    "NO_DEFAULT_LOAN, CREDIT_SCORE, NET_INCOME, OD_DAYS are float64, which seems correct for numeric columns.\n",
    "\n",
    "Steps to address the mixed data types and clean the dataset:\n",
    "\n",
    "Fix the AGE, PRINCIPAL_AMOUNT, EMI, and AREARS Columns: These columns should likely be numeric. Some entries might have non-numeric values (such as strings, missing values, or special characters), which causes pandas to infer the column as object. You can clean and convert them to numeric data types.\n",
    "You can try the following code to convert these columns:\n",
    "\n",
    "The errors='coerce' argument will turn any invalid values (like strings or symbols) into NaN values.\n",
    "\n",
    "Handle Missing Values (NaN): After converting, you will likely have NaN values in the columns where there were non-numeric values. You can decide how to handle these NaN values:\n",
    "Fill with a placeholder value (e.g., 0 or the column mean). Drop rows with NaN values in those columns. Example to fill NaN with the mean of the column:\n",
    "\n",
    "Inspect and Clean Categorical Columns: Ensure that categorical columns such as GENDER, MARITAL_STATUS, SECTOR, etc., do not contain any unexpected characters or missing values. If needed, you can clean these columns by standardizing the values or converting them into appropriate categories.\n",
    "For example, for the GENDER column:\n",
    "\n",
    "This code strips extra spaces and replaces shorthand values (M and F) with full values (Male, Female).\n",
    "\n",
    "Double-check Data Types: After cleaning, you can verify the data types to make sure the columns are in the expected format:"
   ]
  },
  {
   "cell_type": "code",
   "execution_count": 86,
   "metadata": {},
   "outputs": [],
   "source": [
    "# convert age and principal amount to numerics \n",
    "#df_1[\"AGE\"] = pd.to_numeric(df_1[\"AGE\"], errors='coerce')\n",
    "#df_1[\"PRINCIPAL_AMOUNT\"] = pd.to_numeric(df[\"PRINCIPAL_AMOUNT\"], errors='coerce')"
   ]
  },
  {
   "cell_type": "code",
   "execution_count": 87,
   "metadata": {},
   "outputs": [],
   "source": [
    "df_1.loc[:, 'AGE'] = pd.to_numeric(df_1['AGE'], errors='coerce')\n",
    "df_1.loc[:, 'PRINCIPAL_AMOUNT'] = pd.to_numeric(df_1['PRINCIPAL_AMOUNT'], errors='coerce')"
   ]
  },
  {
   "cell_type": "code",
   "execution_count": 88,
   "metadata": {},
   "outputs": [
    {
     "data": {
      "text/plain": [
       "ID                           float64\n",
       "GENDER                        object\n",
       "AGE                           object\n",
       "NO_DEFAULT_LOAN              float64\n",
       "EMPLOYMENT_STATUS             object\n",
       "SECTOR                        object\n",
       "MARITAL_STATUS                object\n",
       "CREDIT_SCORE                 float64\n",
       "SCOREGRADE                    object\n",
       "CRR                           object\n",
       "CURRENCY                      object\n",
       "NET INCOME                   float64\n",
       "PRINCIPAL_AMOUNT             float64\n",
       "EMI                           object\n",
       "OD_DAYS                      float64\n",
       "PRUDENTIAL_CLASSIFICATION     object\n",
       "RISK_GRADE                    object\n",
       "AREARS                        object\n",
       "LOAN_STATUS                   object\n",
       "dtype: object"
      ]
     },
     "execution_count": 88,
     "metadata": {},
     "output_type": "execute_result"
    }
   ],
   "source": [
    "df_1.dtypes "
   ]
  },
  {
   "cell_type": "code",
   "execution_count": 89,
   "metadata": {},
   "outputs": [
    {
     "name": "stdout",
     "output_type": "stream",
     "text": [
      "0        59,826.37\n",
      "1         6,149.03\n",
      "2         7,439.02\n",
      "3        16,062.90\n",
      "4        28,098.61\n",
      "           ...    \n",
      "18191     5,545.94\n",
      "18192     1,721.71\n",
      "18193     2,754.73\n",
      "18194     4,476.44\n",
      "18195     1,721.71\n",
      "Name: EMI, Length: 18196, dtype: object\n"
     ]
    }
   ],
   "source": [
    "print(df_1[\"EMI\"])"
   ]
  },
  {
   "cell_type": "code",
   "execution_count": 90,
   "metadata": {},
   "outputs": [
    {
     "name": "stdout",
     "output_type": "stream",
     "text": [
      "0        453,208.12\n",
      "1         68,917.29\n",
      "2              4.84\n",
      "3        195,045.53\n",
      "4            247.18\n",
      "            ...    \n",
      "18191             0\n",
      "18192             0\n",
      "18193             0\n",
      "18194             0\n",
      "18195             0\n",
      "Name: AREARS, Length: 18196, dtype: object\n"
     ]
    }
   ],
   "source": [
    "print(df_1[\"AREARS\"])"
   ]
  },
  {
   "cell_type": "code",
   "execution_count": 91,
   "metadata": {},
   "outputs": [],
   "source": [
    "# remove commas from EMI and AREARS and convert to numerics \n",
    "df_1[\"EMI\"] = df_1[\"EMI\"].str.replace(\",\", \"\").astype(float)\n",
    "df_1[\"AREARS\"] = df_1[\"AREARS\"].str.replace(\",\", \"\").astype(float)"
   ]
  },
  {
   "cell_type": "markdown",
   "metadata": {},
   "source": [
    "Drop NAN from CREDIT_SCORE,NET INCOME,GENDER and SECTOR features since filling them would misrepresente the data."
   ]
  },
  {
   "cell_type": "code",
   "execution_count": 92,
   "metadata": {},
   "outputs": [],
   "source": [
    "df_1.dropna(subset=[\"CREDIT_SCORE\", \"NET INCOME\", \"GENDER\", \"SECTOR\"], inplace=True)"
   ]
  },
  {
   "cell_type": "code",
   "execution_count": 93,
   "metadata": {},
   "outputs": [
    {
     "data": {
      "text/plain": [
       "ID                            0\n",
       "GENDER                        0\n",
       "AGE                          40\n",
       "NO_DEFAULT_LOAN               0\n",
       "EMPLOYMENT_STATUS             0\n",
       "SECTOR                        0\n",
       "MARITAL_STATUS                0\n",
       "CREDIT_SCORE                  0\n",
       "SCOREGRADE                    0\n",
       "CRR                           0\n",
       "CURRENCY                      0\n",
       "NET INCOME                    0\n",
       "PRINCIPAL_AMOUNT              0\n",
       "EMI                           0\n",
       "OD_DAYS                       0\n",
       "PRUDENTIAL_CLASSIFICATION     0\n",
       "RISK_GRADE                    0\n",
       "AREARS                        0\n",
       "LOAN_STATUS                   0\n",
       "dtype: int64"
      ]
     },
     "execution_count": 93,
     "metadata": {},
     "output_type": "execute_result"
    }
   ],
   "source": [
    "\n",
    "df_1.isna().sum()"
   ]
  },
  {
   "cell_type": "code",
   "execution_count": 94,
   "metadata": {},
   "outputs": [],
   "source": [
    "# Handle missing values by filling with column mean (or you could drop rows)\n",
    "df_1['AGE'].fillna(df_1['AGE'].mean(), inplace=True)"
   ]
  },
  {
   "cell_type": "code",
   "execution_count": 95,
   "metadata": {},
   "outputs": [
    {
     "data": {
      "text/plain": [
       "ID                           0\n",
       "GENDER                       0\n",
       "AGE                          0\n",
       "NO_DEFAULT_LOAN              0\n",
       "EMPLOYMENT_STATUS            0\n",
       "SECTOR                       0\n",
       "MARITAL_STATUS               0\n",
       "CREDIT_SCORE                 0\n",
       "SCOREGRADE                   0\n",
       "CRR                          0\n",
       "CURRENCY                     0\n",
       "NET INCOME                   0\n",
       "PRINCIPAL_AMOUNT             0\n",
       "EMI                          0\n",
       "OD_DAYS                      0\n",
       "PRUDENTIAL_CLASSIFICATION    0\n",
       "RISK_GRADE                   0\n",
       "AREARS                       0\n",
       "LOAN_STATUS                  0\n",
       "dtype: int64"
      ]
     },
     "execution_count": 95,
     "metadata": {},
     "output_type": "execute_result"
    }
   ],
   "source": [
    "df_1.isna().sum()"
   ]
  },
  {
   "cell_type": "code",
   "execution_count": 99,
   "metadata": {},
   "outputs": [
    {
     "data": {
      "text/plain": [
       "(17374, 19)"
      ]
     },
     "execution_count": 99,
     "metadata": {},
     "output_type": "execute_result"
    }
   ],
   "source": [
    "df_1.shape"
   ]
  },
  {
   "cell_type": "markdown",
   "metadata": {},
   "source": [
    "After cleaning we finally remain with 17374 rows and 19 columns. We will further clean removing columns that add litle or no value to our project object. Columns to dropped are gender , SECTOR, CRR, MARITAL_STATUS, CURRENCY, PRUDENTIAL CLASSIFICATION. "
   ]
  },
  {
   "cell_type": "code",
   "execution_count": 101,
   "metadata": {},
   "outputs": [
    {
     "data": {
      "text/html": [
       "<div>\n",
       "<style scoped>\n",
       "    .dataframe tbody tr th:only-of-type {\n",
       "        vertical-align: middle;\n",
       "    }\n",
       "\n",
       "    .dataframe tbody tr th {\n",
       "        vertical-align: top;\n",
       "    }\n",
       "\n",
       "    .dataframe thead th {\n",
       "        text-align: right;\n",
       "    }\n",
       "</style>\n",
       "<table border=\"1\" class=\"dataframe\">\n",
       "  <thead>\n",
       "    <tr style=\"text-align: right;\">\n",
       "      <th></th>\n",
       "      <th>ID</th>\n",
       "      <th>AGE</th>\n",
       "      <th>NO_DEFAULT_LOAN</th>\n",
       "      <th>EMPLOYMENT_STATUS</th>\n",
       "      <th>CREDIT_SCORE</th>\n",
       "      <th>SCOREGRADE</th>\n",
       "      <th>NET INCOME</th>\n",
       "      <th>PRINCIPAL_AMOUNT</th>\n",
       "      <th>EMI</th>\n",
       "      <th>OD_DAYS</th>\n",
       "      <th>RISK_GRADE</th>\n",
       "      <th>AREARS</th>\n",
       "      <th>LOAN_STATUS</th>\n",
       "    </tr>\n",
       "  </thead>\n",
       "  <tbody>\n",
       "    <tr>\n",
       "      <th>0</th>\n",
       "      <td>209801.0</td>\n",
       "      <td>37.0</td>\n",
       "      <td>7.0</td>\n",
       "      <td>EMPLOYED</td>\n",
       "      <td>615.0</td>\n",
       "      <td>II</td>\n",
       "      <td>5000.00</td>\n",
       "      <td>642000.00</td>\n",
       "      <td>59826.37</td>\n",
       "      <td>204.0</td>\n",
       "      <td>B9</td>\n",
       "      <td>453208.12</td>\n",
       "      <td>CURRENT</td>\n",
       "    </tr>\n",
       "    <tr>\n",
       "      <th>2</th>\n",
       "      <td>145878.0</td>\n",
       "      <td>36.0</td>\n",
       "      <td>6.0</td>\n",
       "      <td>EMPLOYED</td>\n",
       "      <td>665.0</td>\n",
       "      <td>FF</td>\n",
       "      <td>1294783.78</td>\n",
       "      <td>80000.00</td>\n",
       "      <td>7439.02</td>\n",
       "      <td>0.0</td>\n",
       "      <td>A1-A6</td>\n",
       "      <td>4.84</td>\n",
       "      <td>CURRENT</td>\n",
       "    </tr>\n",
       "    <tr>\n",
       "      <th>4</th>\n",
       "      <td>493960.0</td>\n",
       "      <td>41.0</td>\n",
       "      <td>1.0</td>\n",
       "      <td>EMPLOYED</td>\n",
       "      <td>696.0</td>\n",
       "      <td>DD</td>\n",
       "      <td>4210957.00</td>\n",
       "      <td>300502.44</td>\n",
       "      <td>28098.61</td>\n",
       "      <td>0.0</td>\n",
       "      <td>A1-A6</td>\n",
       "      <td>247.18</td>\n",
       "      <td>CURRENT</td>\n",
       "    </tr>\n",
       "    <tr>\n",
       "      <th>6</th>\n",
       "      <td>280570.0</td>\n",
       "      <td>38.0</td>\n",
       "      <td>0.0</td>\n",
       "      <td>EMPLOYED</td>\n",
       "      <td>632.0</td>\n",
       "      <td>HH</td>\n",
       "      <td>44280.00</td>\n",
       "      <td>82000.72</td>\n",
       "      <td>6802.81</td>\n",
       "      <td>111.0</td>\n",
       "      <td>B8</td>\n",
       "      <td>26582.90</td>\n",
       "      <td>CURRENT</td>\n",
       "    </tr>\n",
       "    <tr>\n",
       "      <th>7</th>\n",
       "      <td>45325.0</td>\n",
       "      <td>32.0</td>\n",
       "      <td>0.0</td>\n",
       "      <td>EMPLOYED</td>\n",
       "      <td>622.0</td>\n",
       "      <td>HH</td>\n",
       "      <td>1000139.59</td>\n",
       "      <td>339584.95</td>\n",
       "      <td>15279.32</td>\n",
       "      <td>19.0</td>\n",
       "      <td>A1-A6</td>\n",
       "      <td>15519.98</td>\n",
       "      <td>CURRENT</td>\n",
       "    </tr>\n",
       "    <tr>\n",
       "      <th>...</th>\n",
       "      <td>...</td>\n",
       "      <td>...</td>\n",
       "      <td>...</td>\n",
       "      <td>...</td>\n",
       "      <td>...</td>\n",
       "      <td>...</td>\n",
       "      <td>...</td>\n",
       "      <td>...</td>\n",
       "      <td>...</td>\n",
       "      <td>...</td>\n",
       "      <td>...</td>\n",
       "      <td>...</td>\n",
       "      <td>...</td>\n",
       "    </tr>\n",
       "    <tr>\n",
       "      <th>18191</th>\n",
       "      <td>194938.0</td>\n",
       "      <td>37.0</td>\n",
       "      <td>0.0</td>\n",
       "      <td>EMPLOYED</td>\n",
       "      <td>757.0</td>\n",
       "      <td>AA</td>\n",
       "      <td>674717.91</td>\n",
       "      <td>60000.00</td>\n",
       "      <td>5545.94</td>\n",
       "      <td>0.0</td>\n",
       "      <td>A1-A6</td>\n",
       "      <td>0.00</td>\n",
       "      <td>CURRENT</td>\n",
       "    </tr>\n",
       "    <tr>\n",
       "      <th>18192</th>\n",
       "      <td>128816.0</td>\n",
       "      <td>25.0</td>\n",
       "      <td>1.0</td>\n",
       "      <td>SELF-EMPLOYED</td>\n",
       "      <td>585.0</td>\n",
       "      <td>II</td>\n",
       "      <td>299212.00</td>\n",
       "      <td>5000.00</td>\n",
       "      <td>1721.71</td>\n",
       "      <td>0.0</td>\n",
       "      <td>A1-A6</td>\n",
       "      <td>0.00</td>\n",
       "      <td>CURRENT</td>\n",
       "    </tr>\n",
       "    <tr>\n",
       "      <th>18193</th>\n",
       "      <td>320610.0</td>\n",
       "      <td>38.0</td>\n",
       "      <td>1.0</td>\n",
       "      <td>EMPLOYED</td>\n",
       "      <td>704.0</td>\n",
       "      <td>DD</td>\n",
       "      <td>320832.00</td>\n",
       "      <td>8000.00</td>\n",
       "      <td>2754.73</td>\n",
       "      <td>0.0</td>\n",
       "      <td>A1-A6</td>\n",
       "      <td>0.00</td>\n",
       "      <td>CURRENT</td>\n",
       "    </tr>\n",
       "    <tr>\n",
       "      <th>18194</th>\n",
       "      <td>252431.0</td>\n",
       "      <td>29.0</td>\n",
       "      <td>2.0</td>\n",
       "      <td>EMPLOYED</td>\n",
       "      <td>607.0</td>\n",
       "      <td>II</td>\n",
       "      <td>693087.00</td>\n",
       "      <td>13000.00</td>\n",
       "      <td>4476.44</td>\n",
       "      <td>0.0</td>\n",
       "      <td>A1-A6</td>\n",
       "      <td>0.00</td>\n",
       "      <td>CURRENT</td>\n",
       "    </tr>\n",
       "    <tr>\n",
       "      <th>18195</th>\n",
       "      <td>100763.0</td>\n",
       "      <td>30.0</td>\n",
       "      <td>0.0</td>\n",
       "      <td>SELF-EMPLOYED</td>\n",
       "      <td>694.0</td>\n",
       "      <td>DD</td>\n",
       "      <td>261190.00</td>\n",
       "      <td>5000.00</td>\n",
       "      <td>1721.71</td>\n",
       "      <td>0.0</td>\n",
       "      <td>A1-A6</td>\n",
       "      <td>0.00</td>\n",
       "      <td>CURRENT</td>\n",
       "    </tr>\n",
       "  </tbody>\n",
       "</table>\n",
       "<p>17374 rows × 13 columns</p>\n",
       "</div>"
      ],
      "text/plain": [
       "             ID   AGE  NO_DEFAULT_LOAN EMPLOYMENT_STATUS  CREDIT_SCORE  \\\n",
       "0      209801.0  37.0              7.0          EMPLOYED         615.0   \n",
       "2      145878.0  36.0              6.0          EMPLOYED         665.0   \n",
       "4      493960.0  41.0              1.0          EMPLOYED         696.0   \n",
       "6      280570.0  38.0              0.0          EMPLOYED         632.0   \n",
       "7       45325.0  32.0              0.0          EMPLOYED         622.0   \n",
       "...         ...   ...              ...               ...           ...   \n",
       "18191  194938.0  37.0              0.0          EMPLOYED         757.0   \n",
       "18192  128816.0  25.0              1.0     SELF-EMPLOYED         585.0   \n",
       "18193  320610.0  38.0              1.0          EMPLOYED         704.0   \n",
       "18194  252431.0  29.0              2.0          EMPLOYED         607.0   \n",
       "18195  100763.0  30.0              0.0     SELF-EMPLOYED         694.0   \n",
       "\n",
       "      SCOREGRADE  NET INCOME  PRINCIPAL_AMOUNT       EMI  OD_DAYS RISK_GRADE  \\\n",
       "0             II     5000.00         642000.00  59826.37    204.0         B9   \n",
       "2             FF  1294783.78          80000.00   7439.02      0.0      A1-A6   \n",
       "4             DD  4210957.00         300502.44  28098.61      0.0      A1-A6   \n",
       "6             HH    44280.00          82000.72   6802.81    111.0         B8   \n",
       "7             HH  1000139.59         339584.95  15279.32     19.0      A1-A6   \n",
       "...          ...         ...               ...       ...      ...        ...   \n",
       "18191         AA   674717.91          60000.00   5545.94      0.0      A1-A6   \n",
       "18192         II   299212.00           5000.00   1721.71      0.0      A1-A6   \n",
       "18193         DD   320832.00           8000.00   2754.73      0.0      A1-A6   \n",
       "18194         II   693087.00          13000.00   4476.44      0.0      A1-A6   \n",
       "18195         DD   261190.00           5000.00   1721.71      0.0      A1-A6   \n",
       "\n",
       "          AREARS LOAN_STATUS  \n",
       "0      453208.12     CURRENT  \n",
       "2           4.84     CURRENT  \n",
       "4         247.18     CURRENT  \n",
       "6       26582.90     CURRENT  \n",
       "7       15519.98     CURRENT  \n",
       "...          ...         ...  \n",
       "18191       0.00     CURRENT  \n",
       "18192       0.00     CURRENT  \n",
       "18193       0.00     CURRENT  \n",
       "18194       0.00     CURRENT  \n",
       "18195       0.00     CURRENT  \n",
       "\n",
       "[17374 rows x 13 columns]"
      ]
     },
     "execution_count": 101,
     "metadata": {},
     "output_type": "execute_result"
    }
   ],
   "source": [
    "# drop columns \n",
    "df_1.drop(columns=[\"MARITAL_STATUS\", \"GENDER\", \"CURRENCY\", \"SECTOR\", \"PRUDENTIAL_CLASSIFICATION\", \"CRR\"])"
   ]
  },
  {
   "cell_type": "markdown",
   "metadata": {},
   "source": [
    "After dropping specific columns weremain with 13. "
   ]
  },
  {
   "cell_type": "markdown",
   "metadata": {},
   "source": [
    "## Feature Engineering For Target \n",
    "Since we do not have our target, we will generate it by feature engineering based visible and direct correlation of available variables. Our traget variable is **DEFAULT_RISK** which is a classification variable. Variables such as EMI, NET INCOME, AREARS, CREDIT_SCORE AND OD_DAYS have a direct impact on our target unlike other variables whose patterns are hidden. "
   ]
  },
  {
   "cell_type": "code",
   "execution_count": 107,
   "metadata": {},
   "outputs": [],
   "source": [
    "# write a function that can generate the dafault risk variable\n",
    "# the classes will be representeb by binary classes of 1 and 0 where 1 means high risk while 0 is low risk  \n",
    "def default_risk_calc(row):\n",
    "    if row[\"CREDIT_SCORE\"]<600:\n",
    "        return 1\n",
    "    elif row[\"EMI\"]> row[\"NET INCOME\"]*0.25:\n",
    "        return 1\n",
    "    elif row[\"AREARS\"]>10000:\n",
    "        return 1\n",
    "    elif row[\"OD_DAYS\"]>90:\n",
    "        return 1\n",
    "    else:\n",
    "        return 0"
   ]
  },
  {
   "cell_type": "code",
   "execution_count": 108,
   "metadata": {},
   "outputs": [],
   "source": [
    "# apply the function on the dataset to generate the target. \n",
    "df_1[\"DEFAULT_RISK\"] = df_1.apply(default_risk_calc, axis =1)"
   ]
  },
  {
   "cell_type": "code",
   "execution_count": 109,
   "metadata": {},
   "outputs": [
    {
     "name": "stdout",
     "output_type": "stream",
     "text": [
      "0        1\n",
      "2        0\n",
      "4        0\n",
      "6        1\n",
      "7        1\n",
      "        ..\n",
      "18191    0\n",
      "18192    1\n",
      "18193    0\n",
      "18194    0\n",
      "18195    0\n",
      "Name: DEFAULT_RISK, Length: 17374, dtype: int64\n"
     ]
    }
   ],
   "source": [
    "# check the target \n",
    "print(df_1[\"DEFAULT_RISK\"])"
   ]
  },
  {
   "cell_type": "code",
   "execution_count": 136,
   "metadata": {},
   "outputs": [
    {
     "data": {
      "text/plain": [
       "DEFAULT_RISK\n",
       "0    12757\n",
       "1     4617\n",
       "Name: count, dtype: int64"
      ]
     },
     "execution_count": 136,
     "metadata": {},
     "output_type": "execute_result"
    }
   ],
   "source": [
    "df_1[\"DEFAULT_RISK\"].value_counts()"
   ]
  },
  {
   "cell_type": "markdown",
   "metadata": {},
   "source": [
    "## Outliers \n",
    "Outliers are data points that differ significantly with other data points in the datset. Determine and visualize the presence of ooutliers in the dataset. We will use quartile formula to check and visualize. "
   ]
  },
  {
   "cell_type": "code",
   "execution_count": 113,
   "metadata": {},
   "outputs": [
    {
     "data": {
      "text/plain": [
       "Index(['ID', 'AGE', 'NO_DEFAULT_LOAN', 'CREDIT_SCORE', 'NET INCOME',\n",
       "       'PRINCIPAL_AMOUNT', 'EMI', 'OD_DAYS', 'AREARS', 'DEFAULT_RISK'],\n",
       "      dtype='object')"
      ]
     },
     "execution_count": 113,
     "metadata": {},
     "output_type": "execute_result"
    }
   ],
   "source": [
    "# define Q1, Q3, IQR,lower and upper bounds. \n",
    "# But before that we first declare the numeric variables in our datset\n",
    "numeric_cols = df_1.select_dtypes(include=['float64', 'int64']).columns\n",
    "numeric_cols"
   ]
  },
  {
   "cell_type": "code",
   "execution_count": 134,
   "metadata": {},
   "outputs": [
    {
     "data": {
      "image/png": "[encoded data removed]",
      "text/plain": [
       "<Figure size 500x500 with 1 Axes>"
      ]
     },
     "metadata": {},
     "output_type": "display_data"
    },
    {
     "data": {
      "image/png": "[encoded data removed]",
      "text/plain": [
       "<Figure size 500x500 with 1 Axes>"
      ]
     },
     "metadata": {},
     "output_type": "display_data"
    },
    {
     "data": {
      "image/png": "[encoded data removed]",
      "text/plain": [
       "<Figure size 500x500 with 1 Axes>"
      ]
     },
     "metadata": {},
     "output_type": "display_data"
    },
    {
     "data": {
      "image/png": "[encoded data removed]",
      "text/plain": [
       "<Figure size 500x500 with 1 Axes>"
      ]
     },
     "metadata": {},
     "output_type": "display_data"
    },
    {
     "data": {
      "image/png": "[encoded data removed]",
      "text/plain": [
       "<Figure size 500x500 with 1 Axes>"
      ]
     },
     "metadata": {},
     "output_type": "display_data"
    },
    {
     "data": {
      "image/png": "[encoded data removed]",
      "text/plain": [
       "<Figure size 500x500 with 1 Axes>"
      ]
     },
     "metadata": {},
     "output_type": "display_data"
    },
    {
     "data": {
      "image/png": "[encoded data removed]",
      "text/plain": [
       "<Figure size 500x500 with 1 Axes>"
      ]
     },
     "metadata": {},
     "output_type": "display_data"
    },
    {
     "data": {
      "image/png": "[encoded data removed]",
      "text/plain": [
       "<Figure size 500x500 with 1 Axes>"
      ]
     },
     "metadata": {},
     "output_type": "display_data"
    },
    {
     "data": {
      "image/png": "[encoded data removed]",
      "text/plain": [
       "<Figure size 500x500 with 1 Axes>"
      ]
     },
     "metadata": {},
     "output_type": "display_data"
    },
    {
     "data": {
      "image/png": "[encoded data removed]",
      "text/plain": [
       "<Figure size 500x500 with 1 Axes>"
      ]
     },
     "metadata": {},
     "output_type": "display_data"
    }
   ],
   "source": [
    "# visualize using boxplot\n",
    "for i, col in enumerate(numeric_cols, 1):\n",
    "    plt.figure(figsize=(5,5))\n",
    "    sns.boxplot(x=df_1[col])\n",
    "    plt.title(\"Outlier Boxplot\")\n",
    "    plt.tight_layout()\n",
    "    plt.show()"
   ]
  }
 ],
 "metadata": {
  "kernelspec": {
   "display_name": "base",
   "language": "python",
   "name": "python3"
  },
  "language_info": {
   "codemirror_mode": {
    "name": "ipython",
    "version": 3
   },
   "file_extension": ".py",
   "mimetype": "text/x-python",
   "name": "python",
   "nbconvert_exporter": "python",
   "pygments_lexer": "ipython3",
   "version": "3.11.7"
  }
 },
 "nbformat": 4,
 "nbformat_minor": 2
}
