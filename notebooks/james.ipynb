{
 "cells": [
  {
   "cell_type": "markdown",
   "metadata": {},
   "source": [
    "## Data Description "
   ]
  },
  {
   "cell_type": "markdown",
   "metadata": {},
   "source": [
    "**ID:** This is a unique identifier for each individual and has no predictive value for loan default.\n",
    "\n",
    "**CURRENCY:** This represents the currency in which the loan was issued.\n",
    "\n",
    "**GENDER:** This represents the gender of each client and not likely to have a direct impact on loan default.\n",
    "\n",
    "**MARITAL_STATUS:** Marital status could affect loan default rates, as it might influence financial stability and obligations.\n",
    "\n",
    "**EMPLOYMENT_STATUS:** Employment status is an important feature, as unemployed individuals might have a higher likelihood of defaulting on loans.\n",
    "\n",
    "**CREDIT_SCORE:** Credit score is a strong predictor of loan default since it reflects a person's creditworthiness.\n",
    "\n",
    "**SCORE_GRADE:** This might be related to the credit score and can indicate the overall risk level associated with the loan applicant.\n",
    "\n",
    "**NO_DEFAULT_LOAN:** If this column refers to the number of loans the individual has defaulted on in the past, it could be a key indicator.\n",
    "\n",
    "**RISK_GRADE:** A risk grade is likely a predefined classification that could give insights into the risk of default.\n",
    "\n",
    "**PRODUCT:** The type of loan or product might have different default rates (e.g., mortgage vs personal loan).\n",
    "\n",
    "**CURRENCY:** Currency might be relevant if you're working in a multi-currency environment or if certain currencies are more prone to economic instability.\n",
    "\n",
    "**NET_INCOME:** Higher net income may reduce the likelihood of loan default, as it reflects financial capacity.\n",
    "\n",
    "**PRINCIPAL_DISBURSED:** The amount of the loan could impact the likelihood of default — higher loans could be more risky.\n",
    "\n",
    "**EMI:** Equated Monthly Installments (EMI) are critical in determining whether someone is able to afford their loan payments.\n",
    "\n",
    "**OD_AMOUNT:** Overdraft amount (if applicable) could provide insights into an individual’s financial instability.\n",
    "\n",
    "**OD_DAYS:** The number of days an individual has been overdrawn or overdue could indicate potential risk of default\n",
    "\n",
    "**LOAN_STATUS:** This column already indicated the outcome of the loan. It could as well be directly used as the target variable.\n"
   ]
  },
  {
   "cell_type": "code",
   "execution_count": 67,
   "metadata": {},
   "outputs": [],
   "source": [
    "#Import libraries\n",
    "#import neccessary libraries\n",
    "import pandas as pd\n",
    "import numpy as np\n",
    "import matplotlib.pyplot as plt\n",
    "import seaborn as sns\n",
    "\n",
    "\n",
    "from sklearn.model_selection import train_test_split\n",
    "from sklearn.linear_model import LogisticRegression\n",
    "from sklearn.tree import DecisionTreeClassifier\n",
    "from sklearn.metrics import accuracy_score, classification_report, confusion_matrix\n",
    "from sklearn.feature_selection import RFE\n",
    "from sklearn.metrics import roc_curve, auc\n",
    "from sklearn.preprocessing import label_binarize\n",
    "from sklearn.multiclass import OneVsRestClassifier\n",
    "from sklearn.model_selection import train_test_split\n",
    "from sklearn.linear_model import LogisticRegression\n",
    "from sklearn.metrics import roc_auc_score"
   ]
  },
  {
   "cell_type": "code",
   "execution_count": 68,
   "metadata": {},
   "outputs": [],
   "source": [
    "# load the data \n",
    "df =pd.read_csv(\"../Data/Final_dataset_Final.csv\", low_memory=False)\n"
   ]
  },
  {
   "cell_type": "code",
   "execution_count": 69,
   "metadata": {},
   "outputs": [
    {
     "data": {
      "text/html": [
       "<div>\n",
       "<style scoped>\n",
       "    .dataframe tbody tr th:only-of-type {\n",
       "        vertical-align: middle;\n",
       "    }\n",
       "\n",
       "    .dataframe tbody tr th {\n",
       "        vertical-align: top;\n",
       "    }\n",
       "\n",
       "    .dataframe thead th {\n",
       "        text-align: right;\n",
       "    }\n",
       "</style>\n",
       "<table border=\"1\" class=\"dataframe\">\n",
       "  <thead>\n",
       "    <tr style=\"text-align: right;\">\n",
       "      <th></th>\n",
       "      <th>ID</th>\n",
       "      <th>GENDER</th>\n",
       "      <th>AGE</th>\n",
       "      <th>MARITAL_STATUS</th>\n",
       "      <th>EMPLOYMENT_STATUS</th>\n",
       "      <th>CREDIT_SCORE</th>\n",
       "      <th>SCORE_GRADE</th>\n",
       "      <th>NO_DEFAULT_LOAN</th>\n",
       "      <th>RISK_GRADE</th>\n",
       "      <th>PRODUCT</th>\n",
       "      <th>CURRENCY</th>\n",
       "      <th>NET INCOME</th>\n",
       "      <th>PRINCIPAL_DISBURSED</th>\n",
       "      <th>EMI</th>\n",
       "      <th>OD_DAYS</th>\n",
       "      <th>PRUDENTIAL_CLASSIFICATION</th>\n",
       "      <th>OD_AMOUNT</th>\n",
       "      <th>LOAN_STATUS</th>\n",
       "    </tr>\n",
       "  </thead>\n",
       "  <tbody>\n",
       "    <tr>\n",
       "      <th>0</th>\n",
       "      <td>104465</td>\n",
       "      <td>MALE</td>\n",
       "      <td>NaN</td>\n",
       "      <td>NaN</td>\n",
       "      <td>NaN</td>\n",
       "      <td>480.0</td>\n",
       "      <td>JJ</td>\n",
       "      <td>1.0</td>\n",
       "      <td>B20</td>\n",
       "      <td>Premium Finance - Consumer</td>\n",
       "      <td>KES</td>\n",
       "      <td>0.0</td>\n",
       "      <td>235,203.00</td>\n",
       "      <td>40,637.03</td>\n",
       "      <td>2995</td>\n",
       "      <td>LOSS</td>\n",
       "      <td>45,011.10</td>\n",
       "      <td>EXPIRED</td>\n",
       "    </tr>\n",
       "    <tr>\n",
       "      <th>1</th>\n",
       "      <td>138046</td>\n",
       "      <td>MALE</td>\n",
       "      <td>55.0</td>\n",
       "      <td>NaN</td>\n",
       "      <td>NaN</td>\n",
       "      <td>537.0</td>\n",
       "      <td>JJ</td>\n",
       "      <td>2.0</td>\n",
       "      <td>B20</td>\n",
       "      <td>Consumer Unsecured Loan</td>\n",
       "      <td>KES</td>\n",
       "      <td>0.0</td>\n",
       "      <td>215,000.00</td>\n",
       "      <td>7,186.79</td>\n",
       "      <td>2582</td>\n",
       "      <td>LOSS</td>\n",
       "      <td>115,674.06</td>\n",
       "      <td>EXPIRED</td>\n",
       "    </tr>\n",
       "    <tr>\n",
       "      <th>2</th>\n",
       "      <td>173501</td>\n",
       "      <td>MALE</td>\n",
       "      <td>NaN</td>\n",
       "      <td>NaN</td>\n",
       "      <td>NaN</td>\n",
       "      <td>545.0</td>\n",
       "      <td>JJ</td>\n",
       "      <td>1.0</td>\n",
       "      <td>B20</td>\n",
       "      <td>Consumer Unsecured Loan</td>\n",
       "      <td>KES</td>\n",
       "      <td>0.0</td>\n",
       "      <td>155,000.00</td>\n",
       "      <td>4,258.42</td>\n",
       "      <td>2667</td>\n",
       "      <td>LOSS</td>\n",
       "      <td>65,541.89</td>\n",
       "      <td>EXPIRED</td>\n",
       "    </tr>\n",
       "    <tr>\n",
       "      <th>3</th>\n",
       "      <td>141836</td>\n",
       "      <td>MALE</td>\n",
       "      <td>NaN</td>\n",
       "      <td>NaN</td>\n",
       "      <td>NaN</td>\n",
       "      <td>626.0</td>\n",
       "      <td>HH</td>\n",
       "      <td>3.0</td>\n",
       "      <td>B20</td>\n",
       "      <td>Consumer Unsecured Loan</td>\n",
       "      <td>KES</td>\n",
       "      <td>0.0</td>\n",
       "      <td>335,000.00</td>\n",
       "      <td>7,158.92</td>\n",
       "      <td>2810</td>\n",
       "      <td>LOSS</td>\n",
       "      <td>297,407.57</td>\n",
       "      <td>EXPIRED</td>\n",
       "    </tr>\n",
       "    <tr>\n",
       "      <th>4</th>\n",
       "      <td>65973</td>\n",
       "      <td>MALE</td>\n",
       "      <td>63.0</td>\n",
       "      <td>MARRIED</td>\n",
       "      <td>EMPLOYED</td>\n",
       "      <td>524.0</td>\n",
       "      <td>JJ</td>\n",
       "      <td>2.0</td>\n",
       "      <td>B20</td>\n",
       "      <td>Consumer Unsecured Loan</td>\n",
       "      <td>KES</td>\n",
       "      <td>0.0</td>\n",
       "      <td>105,000.00</td>\n",
       "      <td>2,136.29</td>\n",
       "      <td>2879</td>\n",
       "      <td>LOSS</td>\n",
       "      <td>117,969.24</td>\n",
       "      <td>EXPIRED</td>\n",
       "    </tr>\n",
       "  </tbody>\n",
       "</table>\n",
       "</div>"
      ],
      "text/plain": [
       "       ID GENDER   AGE MARITAL_STATUS EMPLOYMENT_STATUS  CREDIT_SCORE  \\\n",
       "0  104465   MALE   NaN            NaN               NaN         480.0   \n",
       "1  138046   MALE  55.0            NaN               NaN         537.0   \n",
       "2  173501   MALE   NaN            NaN               NaN         545.0   \n",
       "3  141836   MALE   NaN            NaN               NaN         626.0   \n",
       "4   65973   MALE  63.0        MARRIED          EMPLOYED         524.0   \n",
       "\n",
       "  SCORE_GRADE  NO_DEFAULT_LOAN RISK_GRADE                     PRODUCT  \\\n",
       "0          JJ              1.0        B20  Premium Finance - Consumer   \n",
       "1          JJ              2.0        B20     Consumer Unsecured Loan   \n",
       "2          JJ              1.0        B20     Consumer Unsecured Loan   \n",
       "3          HH              3.0        B20     Consumer Unsecured Loan   \n",
       "4          JJ              2.0        B20     Consumer Unsecured Loan   \n",
       "\n",
       "  CURRENCY  NET INCOME PRINCIPAL_DISBURSED        EMI  OD_DAYS  \\\n",
       "0      KES         0.0          235,203.00  40,637.03     2995   \n",
       "1      KES         0.0          215,000.00   7,186.79     2582   \n",
       "2      KES         0.0          155,000.00   4,258.42     2667   \n",
       "3      KES         0.0          335,000.00   7,158.92     2810   \n",
       "4      KES         0.0          105,000.00   2,136.29     2879   \n",
       "\n",
       "  PRUDENTIAL_CLASSIFICATION   OD_AMOUNT LOAN_STATUS  \n",
       "0                      LOSS   45,011.10     EXPIRED  \n",
       "1                      LOSS  115,674.06     EXPIRED  \n",
       "2                      LOSS   65,541.89     EXPIRED  \n",
       "3                      LOSS  297,407.57     EXPIRED  \n",
       "4                      LOSS  117,969.24     EXPIRED  "
      ]
     },
     "execution_count": 69,
     "metadata": {},
     "output_type": "execute_result"
    }
   ],
   "source": [
    "# inspect the first fews rows \n",
    "df.head()"
   ]
  },
  {
   "cell_type": "code",
   "execution_count": 70,
   "metadata": {},
   "outputs": [
    {
     "name": "stdout",
     "output_type": "stream",
     "text": [
      "there are 115893 rows and 18 columns before cleaning\n"
     ]
    }
   ],
   "source": [
    "# check the number of columns and rows \n",
    "print(f'there are {df.shape[0]} rows and {df.shape[1]} columns before cleaning')"
   ]
  },
  {
   "cell_type": "code",
   "execution_count": 71,
   "metadata": {},
   "outputs": [
    {
     "data": {
      "text/html": [
       "<div>\n",
       "<style scoped>\n",
       "    .dataframe tbody tr th:only-of-type {\n",
       "        vertical-align: middle;\n",
       "    }\n",
       "\n",
       "    .dataframe tbody tr th {\n",
       "        vertical-align: top;\n",
       "    }\n",
       "\n",
       "    .dataframe thead th {\n",
       "        text-align: right;\n",
       "    }\n",
       "</style>\n",
       "<table border=\"1\" class=\"dataframe\">\n",
       "  <thead>\n",
       "    <tr style=\"text-align: right;\">\n",
       "      <th></th>\n",
       "      <th>ID</th>\n",
       "      <th>AGE</th>\n",
       "      <th>CREDIT_SCORE</th>\n",
       "      <th>NO_DEFAULT_LOAN</th>\n",
       "      <th>NET INCOME</th>\n",
       "      <th>OD_DAYS</th>\n",
       "    </tr>\n",
       "  </thead>\n",
       "  <tbody>\n",
       "    <tr>\n",
       "      <th>count</th>\n",
       "      <td>115893.000000</td>\n",
       "      <td>98437.000000</td>\n",
       "      <td>94881.000000</td>\n",
       "      <td>94571.000000</td>\n",
       "      <td>1.158930e+05</td>\n",
       "      <td>115893.000000</td>\n",
       "    </tr>\n",
       "    <tr>\n",
       "      <th>mean</th>\n",
       "      <td>125044.802154</td>\n",
       "      <td>39.544368</td>\n",
       "      <td>651.381130</td>\n",
       "      <td>1.390775</td>\n",
       "      <td>1.443014e+06</td>\n",
       "      <td>236.655398</td>\n",
       "    </tr>\n",
       "    <tr>\n",
       "      <th>std</th>\n",
       "      <td>43349.212378</td>\n",
       "      <td>13.383122</td>\n",
       "      <td>80.207887</td>\n",
       "      <td>1.958711</td>\n",
       "      <td>4.520676e+06</td>\n",
       "      <td>664.039323</td>\n",
       "    </tr>\n",
       "    <tr>\n",
       "      <th>min</th>\n",
       "      <td>50001.000000</td>\n",
       "      <td>-1799.000000</td>\n",
       "      <td>0.000000</td>\n",
       "      <td>0.000000</td>\n",
       "      <td>0.000000e+00</td>\n",
       "      <td>0.000000</td>\n",
       "    </tr>\n",
       "    <tr>\n",
       "      <th>25%</th>\n",
       "      <td>87557.000000</td>\n",
       "      <td>33.000000</td>\n",
       "      <td>597.000000</td>\n",
       "      <td>0.000000</td>\n",
       "      <td>0.000000e+00</td>\n",
       "      <td>0.000000</td>\n",
       "    </tr>\n",
       "    <tr>\n",
       "      <th>50%</th>\n",
       "      <td>124829.000000</td>\n",
       "      <td>38.000000</td>\n",
       "      <td>647.000000</td>\n",
       "      <td>1.000000</td>\n",
       "      <td>2.055950e+05</td>\n",
       "      <td>0.000000</td>\n",
       "    </tr>\n",
       "    <tr>\n",
       "      <th>75%</th>\n",
       "      <td>162685.000000</td>\n",
       "      <td>45.000000</td>\n",
       "      <td>710.000000</td>\n",
       "      <td>2.000000</td>\n",
       "      <td>1.173422e+06</td>\n",
       "      <td>21.000000</td>\n",
       "    </tr>\n",
       "    <tr>\n",
       "      <th>max</th>\n",
       "      <td>199999.000000</td>\n",
       "      <td>122.000000</td>\n",
       "      <td>830.000000</td>\n",
       "      <td>84.000000</td>\n",
       "      <td>4.096672e+08</td>\n",
       "      <td>8176.000000</td>\n",
       "    </tr>\n",
       "  </tbody>\n",
       "</table>\n",
       "</div>"
      ],
      "text/plain": [
       "                  ID           AGE  CREDIT_SCORE  NO_DEFAULT_LOAN  \\\n",
       "count  115893.000000  98437.000000  94881.000000     94571.000000   \n",
       "mean   125044.802154     39.544368    651.381130         1.390775   \n",
       "std     43349.212378     13.383122     80.207887         1.958711   \n",
       "min     50001.000000  -1799.000000      0.000000         0.000000   \n",
       "25%     87557.000000     33.000000    597.000000         0.000000   \n",
       "50%    124829.000000     38.000000    647.000000         1.000000   \n",
       "75%    162685.000000     45.000000    710.000000         2.000000   \n",
       "max    199999.000000    122.000000    830.000000        84.000000   \n",
       "\n",
       "         NET INCOME        OD_DAYS  \n",
       "count  1.158930e+05  115893.000000  \n",
       "mean   1.443014e+06     236.655398  \n",
       "std    4.520676e+06     664.039323  \n",
       "min    0.000000e+00       0.000000  \n",
       "25%    0.000000e+00       0.000000  \n",
       "50%    2.055950e+05       0.000000  \n",
       "75%    1.173422e+06      21.000000  \n",
       "max    4.096672e+08    8176.000000  "
      ]
     },
     "execution_count": 71,
     "metadata": {},
     "output_type": "execute_result"
    }
   ],
   "source": [
    "# summary statistics \n",
    "df.describe()"
   ]
  },
  {
   "cell_type": "code",
   "execution_count": 72,
   "metadata": {},
   "outputs": [
    {
     "name": "stdout",
     "output_type": "stream",
     "text": [
      "<class 'pandas.core.frame.DataFrame'>\n",
      "RangeIndex: 115893 entries, 0 to 115892\n",
      "Data columns (total 18 columns):\n",
      " #   Column                     Non-Null Count   Dtype  \n",
      "---  ------                     --------------   -----  \n",
      " 0   ID                         115893 non-null  int64  \n",
      " 1   GENDER                     100117 non-null  object \n",
      " 2   AGE                        98437 non-null   float64\n",
      " 3   MARITAL_STATUS             70425 non-null   object \n",
      " 4   EMPLOYMENT_STATUS          84133 non-null   object \n",
      " 5   CREDIT_SCORE               94881 non-null   float64\n",
      " 6   SCORE_GRADE                94571 non-null   object \n",
      " 7   NO_DEFAULT_LOAN            94571 non-null   float64\n",
      " 8   RISK_GRADE                 115893 non-null  object \n",
      " 9   PRODUCT                    115892 non-null  object \n",
      " 10  CURRENCY                   115893 non-null  object \n",
      " 11  NET INCOME                 115893 non-null  float64\n",
      " 12  PRINCIPAL_DISBURSED        115893 non-null  object \n",
      " 13  EMI                        115893 non-null  object \n",
      " 14  OD_DAYS                    115893 non-null  int64  \n",
      " 15  PRUDENTIAL_CLASSIFICATION  115893 non-null  object \n",
      " 16  OD_AMOUNT                  115893 non-null  object \n",
      " 17  LOAN_STATUS                115893 non-null  object \n",
      "dtypes: float64(4), int64(2), object(12)\n",
      "memory usage: 15.9+ MB\n"
     ]
    }
   ],
   "source": [
    "# Data types and missing values \n",
    "df.info()"
   ]
  },
  {
   "cell_type": "markdown",
   "metadata": {},
   "source": [
    "# Data Cleaning"
   ]
  },
  {
   "cell_type": "markdown",
   "metadata": {},
   "source": [
    "### Null/NaN values "
   ]
  },
  {
   "cell_type": "code",
   "execution_count": 73,
   "metadata": {},
   "outputs": [
    {
     "data": {
      "text/plain": [
       "ID                               0\n",
       "GENDER                       15776\n",
       "AGE                          17456\n",
       "MARITAL_STATUS               45468\n",
       "EMPLOYMENT_STATUS            31760\n",
       "CREDIT_SCORE                 21012\n",
       "SCORE_GRADE                  21322\n",
       "NO_DEFAULT_LOAN              21322\n",
       "RISK_GRADE                       0\n",
       "PRODUCT                          1\n",
       "CURRENCY                         0\n",
       "NET INCOME                       0\n",
       "PRINCIPAL_DISBURSED              0\n",
       "EMI                              0\n",
       "OD_DAYS                          0\n",
       "PRUDENTIAL_CLASSIFICATION        0\n",
       "OD_AMOUNT                        0\n",
       "LOAN_STATUS                      0\n",
       "dtype: int64"
      ]
     },
     "execution_count": 73,
     "metadata": {},
     "output_type": "execute_result"
    }
   ],
   "source": [
    "# check for null values \n",
    "df.isna().sum()"
   ]
  },
  {
   "cell_type": "markdown",
   "metadata": {},
   "source": [
    "GENDER, AGE, MARITAL STATUS, EMPLOYMENT STATUS, CREDIT SCORE, SCORE GRADE, Number of loans defaulted and products have missing/NaN values. \n",
    "\n",
    "Dropped NAN for the CREDIT_SCORE,GENDER, AGE, EMPLOYMENT STATUS and SCORE GRADE as filling them would have misrepresented the data."
   ]
  },
  {
   "cell_type": "code",
   "execution_count": 74,
   "metadata": {},
   "outputs": [],
   "source": [
    "# drop null/missing values \n",
    "df.dropna(subset=[\"CREDIT_SCORE\", \"SCORE_GRADE\", \"GENDER\",\"AGE\",\"EMPLOYMENT_STATUS\"], inplace=True)"
   ]
  },
  {
   "cell_type": "markdown",
   "metadata": {},
   "source": [
    "For MARITAL STATUS we fill NAN with \"OTHER\" to represent cases where the marital status is either unknown, unspecified, or falls outside the predefined categories. This ensures consistency in the dataset and helps handle missing data appropriately for analysis purposes."
   ]
  },
  {
   "cell_type": "code",
   "execution_count": 75,
   "metadata": {},
   "outputs": [],
   "source": [
    "df[\"MARITAL_STATUS\"] = df[\"MARITAL_STATUS\"].fillna(\"OTHER\")"
   ]
  },
  {
   "cell_type": "code",
   "execution_count": 76,
   "metadata": {},
   "outputs": [
    {
     "data": {
      "text/plain": [
       "0"
      ]
     },
     "execution_count": 76,
     "metadata": {},
     "output_type": "execute_result"
    }
   ],
   "source": [
    "df[\"MARITAL_STATUS\"].isna().sum()"
   ]
  },
  {
   "cell_type": "markdown",
   "metadata": {},
   "source": [
    "### Remove special characters and white spaces \n"
   ]
  },
  {
   "cell_type": "markdown",
   "metadata": {},
   "source": [
    "Some features like EMI, OD-AMOUNT, and PRINCIPAL-DISBURSED ought to be numerics however they have mixed data types and are categorized as objects. They also have special characters and must be removed and converted to floats. "
   ]
  },
  {
   "cell_type": "code",
   "execution_count": 77,
   "metadata": {},
   "outputs": [
    {
     "data": {
      "text/html": [
       "<div>\n",
       "<style scoped>\n",
       "    .dataframe tbody tr th:only-of-type {\n",
       "        vertical-align: middle;\n",
       "    }\n",
       "\n",
       "    .dataframe tbody tr th {\n",
       "        vertical-align: top;\n",
       "    }\n",
       "\n",
       "    .dataframe thead th {\n",
       "        text-align: right;\n",
       "    }\n",
       "</style>\n",
       "<table border=\"1\" class=\"dataframe\">\n",
       "  <thead>\n",
       "    <tr style=\"text-align: right;\">\n",
       "      <th></th>\n",
       "      <th>EMI</th>\n",
       "      <th>OD_AMOUNT</th>\n",
       "      <th>PRINCIPAL_DISBURSED</th>\n",
       "    </tr>\n",
       "  </thead>\n",
       "  <tbody>\n",
       "    <tr>\n",
       "      <th>4</th>\n",
       "      <td>2,136.29</td>\n",
       "      <td>117,969.24</td>\n",
       "      <td>105,000.00</td>\n",
       "    </tr>\n",
       "    <tr>\n",
       "      <th>9</th>\n",
       "      <td>40,346.25</td>\n",
       "      <td>0</td>\n",
       "      <td>5,189,721.55</td>\n",
       "    </tr>\n",
       "    <tr>\n",
       "      <th>14</th>\n",
       "      <td>14,996.64</td>\n",
       "      <td>857,627.23</td>\n",
       "      <td>680,000.00</td>\n",
       "    </tr>\n",
       "    <tr>\n",
       "      <th>18</th>\n",
       "      <td>61,804.69</td>\n",
       "      <td>0</td>\n",
       "      <td>2,489,731.41</td>\n",
       "    </tr>\n",
       "    <tr>\n",
       "      <th>21</th>\n",
       "      <td>115,661.85</td>\n",
       "      <td>3,725,529.80</td>\n",
       "      <td>4,772,722.00</td>\n",
       "    </tr>\n",
       "    <tr>\n",
       "      <th>...</th>\n",
       "      <td>...</td>\n",
       "      <td>...</td>\n",
       "      <td>...</td>\n",
       "    </tr>\n",
       "    <tr>\n",
       "      <th>115888</th>\n",
       "      <td>34,398.05</td>\n",
       "      <td>0</td>\n",
       "      <td>100,000.00</td>\n",
       "    </tr>\n",
       "    <tr>\n",
       "      <th>115889</th>\n",
       "      <td>21,088.53</td>\n",
       "      <td>0</td>\n",
       "      <td>20,746.00</td>\n",
       "    </tr>\n",
       "    <tr>\n",
       "      <th>115890</th>\n",
       "      <td>12,909.69</td>\n",
       "      <td>0</td>\n",
       "      <td>12,700.00</td>\n",
       "    </tr>\n",
       "    <tr>\n",
       "      <th>115891</th>\n",
       "      <td>13,214.64</td>\n",
       "      <td>0</td>\n",
       "      <td>13,000.00</td>\n",
       "    </tr>\n",
       "    <tr>\n",
       "      <th>115892</th>\n",
       "      <td>2,923.48</td>\n",
       "      <td>0</td>\n",
       "      <td>2,876.00</td>\n",
       "    </tr>\n",
       "  </tbody>\n",
       "</table>\n",
       "<p>79271 rows × 3 columns</p>\n",
       "</div>"
      ],
      "text/plain": [
       "               EMI     OD_AMOUNT PRINCIPAL_DISBURSED\n",
       "4         2,136.29    117,969.24          105,000.00\n",
       "9        40,346.25             0        5,189,721.55\n",
       "14       14,996.64    857,627.23          680,000.00\n",
       "18       61,804.69             0        2,489,731.41\n",
       "21      115,661.85  3,725,529.80        4,772,722.00\n",
       "...            ...           ...                 ...\n",
       "115888   34,398.05             0          100,000.00\n",
       "115889   21,088.53             0           20,746.00\n",
       "115890   12,909.69             0           12,700.00\n",
       "115891   13,214.64             0           13,000.00\n",
       "115892    2,923.48             0            2,876.00\n",
       "\n",
       "[79271 rows x 3 columns]"
      ]
     },
     "execution_count": 77,
     "metadata": {},
     "output_type": "execute_result"
    }
   ],
   "source": [
    "# slice the columns \n",
    "df.loc[:, [\"EMI\", \"OD_AMOUNT\", \"PRINCIPAL_DISBURSED\"]]"
   ]
  },
  {
   "cell_type": "markdown",
   "metadata": {},
   "source": [
    "Use lambda function to convert the columns to strings, remove commas, and then convert them back to floats."
   ]
  },
  {
   "cell_type": "code",
   "execution_count": 78,
   "metadata": {},
   "outputs": [],
   "source": [
    "# instantiate lambda function\n",
    "lambda_x = lambda x: x.astype(str).str.replace(\",\", \"\").astype(float)\n",
    "# apply the function on the sliced columns \n",
    "df[[\"EMI\", \"OD_AMOUNT\", \"PRINCIPAL_DISBURSED\"]] = df[[\"EMI\", \"OD_AMOUNT\", \"PRINCIPAL_DISBURSED\"]].apply(lambda_x)"
   ]
  },
  {
   "cell_type": "code",
   "execution_count": 79,
   "metadata": {},
   "outputs": [
    {
     "data": {
      "text/plain": [
       "EMI                    float64\n",
       "OD_AMOUNT              float64\n",
       "PRINCIPAL_DISBURSED    float64\n",
       "dtype: object"
      ]
     },
     "execution_count": 79,
     "metadata": {},
     "output_type": "execute_result"
    }
   ],
   "source": [
    "# check the resulting columns \n",
    "df.loc[:, [\"EMI\", \"OD_AMOUNT\", \"PRINCIPAL_DISBURSED\"]].dtypes"
   ]
  },
  {
   "cell_type": "code",
   "execution_count": 80,
   "metadata": {},
   "outputs": [
    {
     "name": "stdout",
     "output_type": "stream",
     "text": [
      "<class 'pandas.core.frame.DataFrame'>\n",
      "Index: 79271 entries, 4 to 115892\n",
      "Data columns (total 18 columns):\n",
      " #   Column                     Non-Null Count  Dtype  \n",
      "---  ------                     --------------  -----  \n",
      " 0   ID                         79271 non-null  int64  \n",
      " 1   GENDER                     79271 non-null  object \n",
      " 2   AGE                        79271 non-null  float64\n",
      " 3   MARITAL_STATUS             79271 non-null  object \n",
      " 4   EMPLOYMENT_STATUS          79271 non-null  object \n",
      " 5   CREDIT_SCORE               79271 non-null  float64\n",
      " 6   SCORE_GRADE                79271 non-null  object \n",
      " 7   NO_DEFAULT_LOAN            79271 non-null  float64\n",
      " 8   RISK_GRADE                 79271 non-null  object \n",
      " 9   PRODUCT                    79271 non-null  object \n",
      " 10  CURRENCY                   79271 non-null  object \n",
      " 11  NET INCOME                 79271 non-null  float64\n",
      " 12  PRINCIPAL_DISBURSED        79271 non-null  float64\n",
      " 13  EMI                        79271 non-null  float64\n",
      " 14  OD_DAYS                    79271 non-null  int64  \n",
      " 15  PRUDENTIAL_CLASSIFICATION  79271 non-null  object \n",
      " 16  OD_AMOUNT                  79271 non-null  float64\n",
      " 17  LOAN_STATUS                79271 non-null  object \n",
      "dtypes: float64(7), int64(2), object(9)\n",
      "memory usage: 11.5+ MB\n"
     ]
    }
   ],
   "source": [
    "# Inpect the data types and missing values once again \n",
    "df.info()"
   ]
  },
  {
   "cell_type": "code",
   "execution_count": 81,
   "metadata": {},
   "outputs": [
    {
     "name": "stdout",
     "output_type": "stream",
     "text": [
      "Total rows after cleaning NAN: 79271\n"
     ]
    }
   ],
   "source": [
    "print(\"Total rows after cleaning NAN:\", df.shape[0])"
   ]
  },
  {
   "cell_type": "markdown",
   "metadata": {},
   "source": [
    "The dataset is now adjusted and cleaned accordingly "
   ]
  },
  {
   "cell_type": "markdown",
   "metadata": {},
   "source": [
    "# Target "
   ]
  },
  {
   "cell_type": "markdown",
   "metadata": {},
   "source": [
    "Since we do not have the target, we will engineer using prudential classification feature. Our target will be labled DEFAULT STATUS "
   ]
  },
  {
   "cell_type": "code",
   "execution_count": 82,
   "metadata": {},
   "outputs": [
    {
     "data": {
      "text/plain": [
       "PRUDENTIAL_CLASSIFICATION\n",
       "NORMAL         60963\n",
       "LOSS            9700\n",
       "DOUBTFUL        3308\n",
       "WATCH           3042\n",
       "SUBSTANDARD     2258\n",
       "Name: count, dtype: int64"
      ]
     },
     "execution_count": 82,
     "metadata": {},
     "output_type": "execute_result"
    }
   ],
   "source": [
    "# check unique values and counts in prudential classification \n",
    "df[\"PRUDENTIAL_CLASSIFICATION\"].value_counts()"
   ]
  },
  {
   "cell_type": "markdown",
   "metadata": {},
   "source": [
    "There are 5 distinct classes in prudential classification. These classes will be the basis for engineering the target variable. Use a lmbda function to generate the target using the combination of the classes. "
   ]
  },
  {
   "cell_type": "code",
   "execution_count": 83,
   "metadata": {},
   "outputs": [],
   "source": [
    "# instantiate the function\n",
    "lambdax = lambda x: 'DEFAULT' if x in ['SUBSTANDARD', 'DOUBTFUL', 'LOSS'] else 'NON-DEFAULT'\n",
    "\n",
    "# use the lambda function to engineer target variable \n",
    "df['DEFAULT_STATUS'] = df['PRUDENTIAL_CLASSIFICATION'].apply(lambdax)"
   ]
  },
  {
   "cell_type": "code",
   "execution_count": 84,
   "metadata": {},
   "outputs": [
    {
     "data": {
      "text/plain": [
       "DEFAULT_STATUS\n",
       "NON-DEFAULT    64005\n",
       "DEFAULT        15266\n",
       "Name: count, dtype: int64"
      ]
     },
     "execution_count": 84,
     "metadata": {},
     "output_type": "execute_result"
    }
   ],
   "source": [
    "# check the target if it has been intergrated \n",
    "df[\"DEFAULT_STATUS\"].value_counts()"
   ]
  },
  {
   "cell_type": "markdown",
   "metadata": {},
   "source": [
    "## Feature Engineering"
   ]
  },
  {
   "cell_type": "markdown",
   "metadata": {},
   "source": [
    "### Features to consider for dropping \n",
    "Some features have little or no relationship with our target and hence they were removed. ID, CURRENCY, GENDER AND LOAN STATUS were removed. \n",
    "\n",
    "**ID:** This is a unique identifier for each individual and has no predictive value for loan default.\n",
    "\n",
    "**CURRENCY:** This was not useful since we are working with loans of single currency.\n",
    "\n",
    "**GENDER:** Gender was not likely to have a direct impact on loan default rates and was considered irrelevant.\n",
    "\n",
    "**LOAN_STATUS:** This column already indicated the outcome of the loan. It could as well be directly used as the target variable."
   ]
  },
  {
   "cell_type": "code",
   "execution_count": 85,
   "metadata": {},
   "outputs": [],
   "source": [
    "# drop the above columns \n",
    "df.drop(columns=[\"ID\", \"CURRENCY\", \"GENDER\", \"LOAN_STATUS\"], inplace=True)"
   ]
  },
  {
   "cell_type": "code",
   "execution_count": 86,
   "metadata": {},
   "outputs": [
    {
     "data": {
      "text/plain": [
       "Index(['AGE', 'MARITAL_STATUS', 'EMPLOYMENT_STATUS', 'CREDIT_SCORE',\n",
       "       'SCORE_GRADE', 'NO_DEFAULT_LOAN', 'RISK_GRADE', 'PRODUCT', 'NET INCOME',\n",
       "       'PRINCIPAL_DISBURSED', 'EMI', 'OD_DAYS', 'PRUDENTIAL_CLASSIFICATION',\n",
       "       'OD_AMOUNT', 'DEFAULT_STATUS'],\n",
       "      dtype='object')"
      ]
     },
     "execution_count": 86,
     "metadata": {},
     "output_type": "execute_result"
    }
   ],
   "source": [
    "# check columns remaining \n",
    "df.columns"
   ]
  },
  {
   "cell_type": "code",
   "execution_count": 87,
   "metadata": {},
   "outputs": [
    {
     "name": "stdout",
     "output_type": "stream",
     "text": [
      " There are 79271 rows and 15 columns after cleaning\n"
     ]
    }
   ],
   "source": [
    "# prent the number of rows and columns after cleaning \n",
    "print(f' There are {df.shape[0]} rows and {df.shape[1]} columns after cleaning')"
   ]
  },
  {
   "cell_type": "code",
   "execution_count": 91,
   "metadata": {},
   "outputs": [],
   "source": [
    "# save the cleaned dataset back to local storage \n",
    "df.to_csv(\"../Data/Cleaned_dataset.csv\", index=False)"
   ]
  },
  {
   "cell_type": "markdown",
   "metadata": {},
   "source": [
    "# Exploratory Data Analysis (EDA)"
   ]
  },
  {
   "cell_type": "markdown",
   "metadata": {},
   "source": [
    "EDA helps us to understand the data better, find patterns, identify anomalies, check assumptions, and uncover relationships. "
   ]
  },
  {
   "cell_type": "code",
   "execution_count": 92,
   "metadata": {},
   "outputs": [],
   "source": [
    "# load the cleaned dataset\n",
    "df_loan = pd.read_csv(\"../Data/Cleaned_dataset.csv\")"
   ]
  },
  {
   "cell_type": "code",
   "execution_count": 93,
   "metadata": {},
   "outputs": [
    {
     "data": {
      "text/html": [
       "<div>\n",
       "<style scoped>\n",
       "    .dataframe tbody tr th:only-of-type {\n",
       "        vertical-align: middle;\n",
       "    }\n",
       "\n",
       "    .dataframe tbody tr th {\n",
       "        vertical-align: top;\n",
       "    }\n",
       "\n",
       "    .dataframe thead th {\n",
       "        text-align: right;\n",
       "    }\n",
       "</style>\n",
       "<table border=\"1\" class=\"dataframe\">\n",
       "  <thead>\n",
       "    <tr style=\"text-align: right;\">\n",
       "      <th></th>\n",
       "      <th>AGE</th>\n",
       "      <th>MARITAL_STATUS</th>\n",
       "      <th>EMPLOYMENT_STATUS</th>\n",
       "      <th>CREDIT_SCORE</th>\n",
       "      <th>SCORE_GRADE</th>\n",
       "      <th>NO_DEFAULT_LOAN</th>\n",
       "      <th>RISK_GRADE</th>\n",
       "      <th>PRODUCT</th>\n",
       "      <th>NET INCOME</th>\n",
       "      <th>PRINCIPAL_DISBURSED</th>\n",
       "      <th>EMI</th>\n",
       "      <th>OD_DAYS</th>\n",
       "      <th>PRUDENTIAL_CLASSIFICATION</th>\n",
       "      <th>OD_AMOUNT</th>\n",
       "      <th>DEFAULT_STATUS</th>\n",
       "    </tr>\n",
       "  </thead>\n",
       "  <tbody>\n",
       "    <tr>\n",
       "      <th>0</th>\n",
       "      <td>63.0</td>\n",
       "      <td>MARRIED</td>\n",
       "      <td>EMPLOYED</td>\n",
       "      <td>524.0</td>\n",
       "      <td>JJ</td>\n",
       "      <td>2.0</td>\n",
       "      <td>B20</td>\n",
       "      <td>Consumer Unsecured Loan</td>\n",
       "      <td>0.00</td>\n",
       "      <td>105000.00</td>\n",
       "      <td>2136.29</td>\n",
       "      <td>2879</td>\n",
       "      <td>LOSS</td>\n",
       "      <td>117969.24</td>\n",
       "      <td>DEFAULT</td>\n",
       "    </tr>\n",
       "    <tr>\n",
       "      <th>1</th>\n",
       "      <td>43.0</td>\n",
       "      <td>MARRIED</td>\n",
       "      <td>OTHER</td>\n",
       "      <td>713.0</td>\n",
       "      <td>CC</td>\n",
       "      <td>0.0</td>\n",
       "      <td>A5</td>\n",
       "      <td>Mortgage Loan</td>\n",
       "      <td>6082350.54</td>\n",
       "      <td>5189721.55</td>\n",
       "      <td>40346.25</td>\n",
       "      <td>0</td>\n",
       "      <td>NORMAL</td>\n",
       "      <td>0.00</td>\n",
       "      <td>NON-DEFAULT</td>\n",
       "    </tr>\n",
       "    <tr>\n",
       "      <th>2</th>\n",
       "      <td>45.0</td>\n",
       "      <td>MARRIED</td>\n",
       "      <td>EMPLOYED</td>\n",
       "      <td>610.0</td>\n",
       "      <td>II</td>\n",
       "      <td>1.0</td>\n",
       "      <td>B20</td>\n",
       "      <td>Consumer Unsecured Loan</td>\n",
       "      <td>0.00</td>\n",
       "      <td>680000.00</td>\n",
       "      <td>14996.64</td>\n",
       "      <td>3763</td>\n",
       "      <td>LOSS</td>\n",
       "      <td>857627.23</td>\n",
       "      <td>DEFAULT</td>\n",
       "    </tr>\n",
       "    <tr>\n",
       "      <th>3</th>\n",
       "      <td>50.0</td>\n",
       "      <td>MARRIED</td>\n",
       "      <td>SELF-EMPLOYED</td>\n",
       "      <td>625.0</td>\n",
       "      <td>HH</td>\n",
       "      <td>1.0</td>\n",
       "      <td>A5</td>\n",
       "      <td>Motor Vehicle Loan</td>\n",
       "      <td>1916500.00</td>\n",
       "      <td>2489731.41</td>\n",
       "      <td>61804.69</td>\n",
       "      <td>0</td>\n",
       "      <td>NORMAL</td>\n",
       "      <td>0.00</td>\n",
       "      <td>NON-DEFAULT</td>\n",
       "    </tr>\n",
       "    <tr>\n",
       "      <th>4</th>\n",
       "      <td>35.0</td>\n",
       "      <td>MARRIED</td>\n",
       "      <td>EMPLOYED</td>\n",
       "      <td>657.0</td>\n",
       "      <td>GG</td>\n",
       "      <td>3.0</td>\n",
       "      <td>B11</td>\n",
       "      <td>Motor Vehicle Loan</td>\n",
       "      <td>0.00</td>\n",
       "      <td>4772722.00</td>\n",
       "      <td>115661.85</td>\n",
       "      <td>754</td>\n",
       "      <td>LOSS</td>\n",
       "      <td>3725529.80</td>\n",
       "      <td>DEFAULT</td>\n",
       "    </tr>\n",
       "  </tbody>\n",
       "</table>\n",
       "</div>"
      ],
      "text/plain": [
       "    AGE MARITAL_STATUS EMPLOYMENT_STATUS  CREDIT_SCORE SCORE_GRADE  \\\n",
       "0  63.0        MARRIED          EMPLOYED         524.0          JJ   \n",
       "1  43.0        MARRIED             OTHER         713.0          CC   \n",
       "2  45.0        MARRIED          EMPLOYED         610.0          II   \n",
       "3  50.0        MARRIED     SELF-EMPLOYED         625.0          HH   \n",
       "4  35.0        MARRIED          EMPLOYED         657.0          GG   \n",
       "\n",
       "   NO_DEFAULT_LOAN RISK_GRADE                  PRODUCT  NET INCOME  \\\n",
       "0              2.0        B20  Consumer Unsecured Loan        0.00   \n",
       "1              0.0         A5            Mortgage Loan  6082350.54   \n",
       "2              1.0        B20  Consumer Unsecured Loan        0.00   \n",
       "3              1.0         A5       Motor Vehicle Loan  1916500.00   \n",
       "4              3.0        B11       Motor Vehicle Loan        0.00   \n",
       "\n",
       "   PRINCIPAL_DISBURSED        EMI  OD_DAYS PRUDENTIAL_CLASSIFICATION  \\\n",
       "0            105000.00    2136.29     2879                      LOSS   \n",
       "1           5189721.55   40346.25        0                    NORMAL   \n",
       "2            680000.00   14996.64     3763                      LOSS   \n",
       "3           2489731.41   61804.69        0                    NORMAL   \n",
       "4           4772722.00  115661.85      754                      LOSS   \n",
       "\n",
       "    OD_AMOUNT DEFAULT_STATUS  \n",
       "0   117969.24        DEFAULT  \n",
       "1        0.00    NON-DEFAULT  \n",
       "2   857627.23        DEFAULT  \n",
       "3        0.00    NON-DEFAULT  \n",
       "4  3725529.80        DEFAULT  "
      ]
     },
     "execution_count": 93,
     "metadata": {},
     "output_type": "execute_result"
    }
   ],
   "source": [
    "# First few rows\n",
    "df_loan.head()"
   ]
  },
  {
   "cell_type": "code",
   "execution_count": 94,
   "metadata": {},
   "outputs": [
    {
     "data": {
      "text/html": [
       "<div>\n",
       "<style scoped>\n",
       "    .dataframe tbody tr th:only-of-type {\n",
       "        vertical-align: middle;\n",
       "    }\n",
       "\n",
       "    .dataframe tbody tr th {\n",
       "        vertical-align: top;\n",
       "    }\n",
       "\n",
       "    .dataframe thead th {\n",
       "        text-align: right;\n",
       "    }\n",
       "</style>\n",
       "<table border=\"1\" class=\"dataframe\">\n",
       "  <thead>\n",
       "    <tr style=\"text-align: right;\">\n",
       "      <th></th>\n",
       "      <th>AGE</th>\n",
       "      <th>MARITAL_STATUS</th>\n",
       "      <th>EMPLOYMENT_STATUS</th>\n",
       "      <th>CREDIT_SCORE</th>\n",
       "      <th>SCORE_GRADE</th>\n",
       "      <th>NO_DEFAULT_LOAN</th>\n",
       "      <th>RISK_GRADE</th>\n",
       "      <th>PRODUCT</th>\n",
       "      <th>NET INCOME</th>\n",
       "      <th>PRINCIPAL_DISBURSED</th>\n",
       "      <th>EMI</th>\n",
       "      <th>OD_DAYS</th>\n",
       "      <th>PRUDENTIAL_CLASSIFICATION</th>\n",
       "      <th>OD_AMOUNT</th>\n",
       "      <th>DEFAULT_STATUS</th>\n",
       "    </tr>\n",
       "  </thead>\n",
       "  <tbody>\n",
       "    <tr>\n",
       "      <th>79266</th>\n",
       "      <td>38.0</td>\n",
       "      <td>MARRIED</td>\n",
       "      <td>SELF-EMPLOYED</td>\n",
       "      <td>624.0</td>\n",
       "      <td>HH</td>\n",
       "      <td>4.0</td>\n",
       "      <td>A5</td>\n",
       "      <td>Digital Personal Loan</td>\n",
       "      <td>3090724.25</td>\n",
       "      <td>100000.0</td>\n",
       "      <td>34398.05</td>\n",
       "      <td>0</td>\n",
       "      <td>NORMAL</td>\n",
       "      <td>0.0</td>\n",
       "      <td>NON-DEFAULT</td>\n",
       "    </tr>\n",
       "    <tr>\n",
       "      <th>79267</th>\n",
       "      <td>43.0</td>\n",
       "      <td>MARRIED</td>\n",
       "      <td>EMPLOYED</td>\n",
       "      <td>579.0</td>\n",
       "      <td>JJ</td>\n",
       "      <td>1.0</td>\n",
       "      <td>A5</td>\n",
       "      <td>Mobile Loan</td>\n",
       "      <td>819280.00</td>\n",
       "      <td>20746.0</td>\n",
       "      <td>21088.53</td>\n",
       "      <td>0</td>\n",
       "      <td>NORMAL</td>\n",
       "      <td>0.0</td>\n",
       "      <td>NON-DEFAULT</td>\n",
       "    </tr>\n",
       "    <tr>\n",
       "      <th>79268</th>\n",
       "      <td>27.0</td>\n",
       "      <td>SINGLE</td>\n",
       "      <td>EMPLOYED</td>\n",
       "      <td>636.0</td>\n",
       "      <td>HH</td>\n",
       "      <td>0.0</td>\n",
       "      <td>A5</td>\n",
       "      <td>Mobile Loan</td>\n",
       "      <td>529145.61</td>\n",
       "      <td>12700.0</td>\n",
       "      <td>12909.69</td>\n",
       "      <td>0</td>\n",
       "      <td>NORMAL</td>\n",
       "      <td>0.0</td>\n",
       "      <td>NON-DEFAULT</td>\n",
       "    </tr>\n",
       "    <tr>\n",
       "      <th>79269</th>\n",
       "      <td>42.0</td>\n",
       "      <td>OTHER</td>\n",
       "      <td>OTHER</td>\n",
       "      <td>667.0</td>\n",
       "      <td>FF</td>\n",
       "      <td>0.0</td>\n",
       "      <td>A5</td>\n",
       "      <td>Mobile Loan</td>\n",
       "      <td>4129210.00</td>\n",
       "      <td>13000.0</td>\n",
       "      <td>13214.64</td>\n",
       "      <td>0</td>\n",
       "      <td>NORMAL</td>\n",
       "      <td>0.0</td>\n",
       "      <td>NON-DEFAULT</td>\n",
       "    </tr>\n",
       "    <tr>\n",
       "      <th>79270</th>\n",
       "      <td>26.0</td>\n",
       "      <td>SINGLE</td>\n",
       "      <td>SELF-EMPLOYED</td>\n",
       "      <td>577.0</td>\n",
       "      <td>JJ</td>\n",
       "      <td>3.0</td>\n",
       "      <td>A5</td>\n",
       "      <td>Mobile Loan</td>\n",
       "      <td>228155.78</td>\n",
       "      <td>2876.0</td>\n",
       "      <td>2923.48</td>\n",
       "      <td>0</td>\n",
       "      <td>NORMAL</td>\n",
       "      <td>0.0</td>\n",
       "      <td>NON-DEFAULT</td>\n",
       "    </tr>\n",
       "  </tbody>\n",
       "</table>\n",
       "</div>"
      ],
      "text/plain": [
       "        AGE MARITAL_STATUS EMPLOYMENT_STATUS  CREDIT_SCORE SCORE_GRADE  \\\n",
       "79266  38.0        MARRIED     SELF-EMPLOYED         624.0          HH   \n",
       "79267  43.0        MARRIED          EMPLOYED         579.0          JJ   \n",
       "79268  27.0         SINGLE          EMPLOYED         636.0          HH   \n",
       "79269  42.0          OTHER             OTHER         667.0          FF   \n",
       "79270  26.0         SINGLE     SELF-EMPLOYED         577.0          JJ   \n",
       "\n",
       "       NO_DEFAULT_LOAN RISK_GRADE                PRODUCT  NET INCOME  \\\n",
       "79266              4.0         A5  Digital Personal Loan  3090724.25   \n",
       "79267              1.0         A5            Mobile Loan   819280.00   \n",
       "79268              0.0         A5            Mobile Loan   529145.61   \n",
       "79269              0.0         A5            Mobile Loan  4129210.00   \n",
       "79270              3.0         A5            Mobile Loan   228155.78   \n",
       "\n",
       "       PRINCIPAL_DISBURSED       EMI  OD_DAYS PRUDENTIAL_CLASSIFICATION  \\\n",
       "79266             100000.0  34398.05        0                    NORMAL   \n",
       "79267              20746.0  21088.53        0                    NORMAL   \n",
       "79268              12700.0  12909.69        0                    NORMAL   \n",
       "79269              13000.0  13214.64        0                    NORMAL   \n",
       "79270               2876.0   2923.48        0                    NORMAL   \n",
       "\n",
       "       OD_AMOUNT DEFAULT_STATUS  \n",
       "79266        0.0    NON-DEFAULT  \n",
       "79267        0.0    NON-DEFAULT  \n",
       "79268        0.0    NON-DEFAULT  \n",
       "79269        0.0    NON-DEFAULT  \n",
       "79270        0.0    NON-DEFAULT  "
      ]
     },
     "execution_count": 94,
     "metadata": {},
     "output_type": "execute_result"
    }
   ],
   "source": [
    "# Last few rows\n",
    "df_loan.tail()"
   ]
  },
  {
   "cell_type": "code",
   "execution_count": 95,
   "metadata": {},
   "outputs": [
    {
     "name": "stdout",
     "output_type": "stream",
     "text": [
      "<class 'pandas.core.frame.DataFrame'>\n",
      "RangeIndex: 79271 entries, 0 to 79270\n",
      "Data columns (total 15 columns):\n",
      " #   Column                     Non-Null Count  Dtype  \n",
      "---  ------                     --------------  -----  \n",
      " 0   AGE                        79271 non-null  float64\n",
      " 1   MARITAL_STATUS             79271 non-null  object \n",
      " 2   EMPLOYMENT_STATUS          79271 non-null  object \n",
      " 3   CREDIT_SCORE               79271 non-null  float64\n",
      " 4   SCORE_GRADE                79271 non-null  object \n",
      " 5   NO_DEFAULT_LOAN            79271 non-null  float64\n",
      " 6   RISK_GRADE                 79271 non-null  object \n",
      " 7   PRODUCT                    79271 non-null  object \n",
      " 8   NET INCOME                 79271 non-null  float64\n",
      " 9   PRINCIPAL_DISBURSED        79271 non-null  float64\n",
      " 10  EMI                        79271 non-null  float64\n",
      " 11  OD_DAYS                    79271 non-null  int64  \n",
      " 12  PRUDENTIAL_CLASSIFICATION  79271 non-null  object \n",
      " 13  OD_AMOUNT                  79271 non-null  float64\n",
      " 14  DEFAULT_STATUS             79271 non-null  object \n",
      "dtypes: float64(7), int64(1), object(7)\n",
      "memory usage: 9.1+ MB\n"
     ]
    }
   ],
   "source": [
    "# Data types and non-null counts\n",
    "df_loan.info()"
   ]
  },
  {
   "cell_type": "code",
   "execution_count": 96,
   "metadata": {},
   "outputs": [
    {
     "data": {
      "text/plain": [
       "AGE                          0\n",
       "MARITAL_STATUS               0\n",
       "EMPLOYMENT_STATUS            0\n",
       "CREDIT_SCORE                 0\n",
       "SCORE_GRADE                  0\n",
       "NO_DEFAULT_LOAN              0\n",
       "RISK_GRADE                   0\n",
       "PRODUCT                      0\n",
       "NET INCOME                   0\n",
       "PRINCIPAL_DISBURSED          0\n",
       "EMI                          0\n",
       "OD_DAYS                      0\n",
       "PRUDENTIAL_CLASSIFICATION    0\n",
       "OD_AMOUNT                    0\n",
       "DEFAULT_STATUS               0\n",
       "dtype: int64"
      ]
     },
     "execution_count": 96,
     "metadata": {},
     "output_type": "execute_result"
    }
   ],
   "source": [
    "# Check missing values\n",
    "df.isnull().sum()"
   ]
  },
  {
   "cell_type": "code",
   "execution_count": 97,
   "metadata": {},
   "outputs": [
    {
     "data": {
      "text/html": [
       "<div>\n",
       "<style scoped>\n",
       "    .dataframe tbody tr th:only-of-type {\n",
       "        vertical-align: middle;\n",
       "    }\n",
       "\n",
       "    .dataframe tbody tr th {\n",
       "        vertical-align: top;\n",
       "    }\n",
       "\n",
       "    .dataframe thead th {\n",
       "        text-align: right;\n",
       "    }\n",
       "</style>\n",
       "<table border=\"1\" class=\"dataframe\">\n",
       "  <thead>\n",
       "    <tr style=\"text-align: right;\">\n",
       "      <th></th>\n",
       "      <th>AGE</th>\n",
       "      <th>CREDIT_SCORE</th>\n",
       "      <th>NO_DEFAULT_LOAN</th>\n",
       "      <th>NET INCOME</th>\n",
       "      <th>PRINCIPAL_DISBURSED</th>\n",
       "      <th>EMI</th>\n",
       "      <th>OD_DAYS</th>\n",
       "      <th>OD_AMOUNT</th>\n",
       "    </tr>\n",
       "  </thead>\n",
       "  <tbody>\n",
       "    <tr>\n",
       "      <th>count</th>\n",
       "      <td>79271.000000</td>\n",
       "      <td>79271.000000</td>\n",
       "      <td>79271.000000</td>\n",
       "      <td>7.927100e+04</td>\n",
       "      <td>7.927100e+04</td>\n",
       "      <td>7.927100e+04</td>\n",
       "      <td>79271.000000</td>\n",
       "      <td>7.927100e+04</td>\n",
       "    </tr>\n",
       "    <tr>\n",
       "      <th>mean</th>\n",
       "      <td>38.589396</td>\n",
       "      <td>648.149210</td>\n",
       "      <td>1.395807</td>\n",
       "      <td>1.626253e+06</td>\n",
       "      <td>7.369712e+05</td>\n",
       "      <td>3.349274e+04</td>\n",
       "      <td>179.934137</td>\n",
       "      <td>8.124814e+04</td>\n",
       "    </tr>\n",
       "    <tr>\n",
       "      <th>std</th>\n",
       "      <td>14.017264</td>\n",
       "      <td>80.520443</td>\n",
       "      <td>1.951161</td>\n",
       "      <td>4.676518e+06</td>\n",
       "      <td>1.901389e+06</td>\n",
       "      <td>1.555300e+05</td>\n",
       "      <td>530.773909</td>\n",
       "      <td>4.860208e+05</td>\n",
       "    </tr>\n",
       "    <tr>\n",
       "      <th>min</th>\n",
       "      <td>-1799.000000</td>\n",
       "      <td>0.000000</td>\n",
       "      <td>0.000000</td>\n",
       "      <td>0.000000e+00</td>\n",
       "      <td>0.000000e+00</td>\n",
       "      <td>0.000000e+00</td>\n",
       "      <td>0.000000</td>\n",
       "      <td>0.000000e+00</td>\n",
       "    </tr>\n",
       "    <tr>\n",
       "      <th>25%</th>\n",
       "      <td>32.000000</td>\n",
       "      <td>595.000000</td>\n",
       "      <td>0.000000</td>\n",
       "      <td>0.000000e+00</td>\n",
       "      <td>8.000000e+03</td>\n",
       "      <td>5.577775e+03</td>\n",
       "      <td>0.000000</td>\n",
       "      <td>0.000000e+00</td>\n",
       "    </tr>\n",
       "    <tr>\n",
       "      <th>50%</th>\n",
       "      <td>37.000000</td>\n",
       "      <td>645.000000</td>\n",
       "      <td>1.000000</td>\n",
       "      <td>4.050300e+05</td>\n",
       "      <td>5.300000e+04</td>\n",
       "      <td>1.696420e+04</td>\n",
       "      <td>0.000000</td>\n",
       "      <td>0.000000e+00</td>\n",
       "    </tr>\n",
       "    <tr>\n",
       "      <th>75%</th>\n",
       "      <td>44.000000</td>\n",
       "      <td>706.000000</td>\n",
       "      <td>2.000000</td>\n",
       "      <td>1.433186e+06</td>\n",
       "      <td>6.247175e+05</td>\n",
       "      <td>4.275432e+04</td>\n",
       "      <td>20.000000</td>\n",
       "      <td>5.872070e+03</td>\n",
       "    </tr>\n",
       "    <tr>\n",
       "      <th>max</th>\n",
       "      <td>94.000000</td>\n",
       "      <td>830.000000</td>\n",
       "      <td>84.000000</td>\n",
       "      <td>4.096672e+08</td>\n",
       "      <td>1.276698e+08</td>\n",
       "      <td>2.603850e+07</td>\n",
       "      <td>7358.000000</td>\n",
       "      <td>3.819982e+07</td>\n",
       "    </tr>\n",
       "  </tbody>\n",
       "</table>\n",
       "</div>"
      ],
      "text/plain": [
       "                AGE  CREDIT_SCORE  NO_DEFAULT_LOAN    NET INCOME  \\\n",
       "count  79271.000000  79271.000000     79271.000000  7.927100e+04   \n",
       "mean      38.589396    648.149210         1.395807  1.626253e+06   \n",
       "std       14.017264     80.520443         1.951161  4.676518e+06   \n",
       "min    -1799.000000      0.000000         0.000000  0.000000e+00   \n",
       "25%       32.000000    595.000000         0.000000  0.000000e+00   \n",
       "50%       37.000000    645.000000         1.000000  4.050300e+05   \n",
       "75%       44.000000    706.000000         2.000000  1.433186e+06   \n",
       "max       94.000000    830.000000        84.000000  4.096672e+08   \n",
       "\n",
       "       PRINCIPAL_DISBURSED           EMI       OD_DAYS     OD_AMOUNT  \n",
       "count         7.927100e+04  7.927100e+04  79271.000000  7.927100e+04  \n",
       "mean          7.369712e+05  3.349274e+04    179.934137  8.124814e+04  \n",
       "std           1.901389e+06  1.555300e+05    530.773909  4.860208e+05  \n",
       "min           0.000000e+00  0.000000e+00      0.000000  0.000000e+00  \n",
       "25%           8.000000e+03  5.577775e+03      0.000000  0.000000e+00  \n",
       "50%           5.300000e+04  1.696420e+04      0.000000  0.000000e+00  \n",
       "75%           6.247175e+05  4.275432e+04     20.000000  5.872070e+03  \n",
       "max           1.276698e+08  2.603850e+07   7358.000000  3.819982e+07  "
      ]
     },
     "execution_count": 97,
     "metadata": {},
     "output_type": "execute_result"
    }
   ],
   "source": [
    "# examine summary statistics such as mean, median, standard deviation, min, and max values for numerical columns.\n",
    "df_loan.describe()"
   ]
  },
  {
   "cell_type": "markdown",
   "metadata": {},
   "source": [
    "The minimum value of age is a negative pointing to a possibility of outliers or errors during capture of the data "
   ]
  },
  {
   "cell_type": "markdown",
   "metadata": {},
   "source": [
    "### Correlation \n",
    "To check the relationships among the features "
   ]
  },
  {
   "cell_type": "code",
   "execution_count": 98,
   "metadata": {},
   "outputs": [
    {
     "data": {
      "text/plain": [
       "Index(['AGE', 'CREDIT_SCORE', 'NO_DEFAULT_LOAN', 'NET INCOME',\n",
       "       'PRINCIPAL_DISBURSED', 'EMI', 'OD_DAYS', 'OD_AMOUNT'],\n",
       "      dtype='object')"
      ]
     },
     "execution_count": 98,
     "metadata": {},
     "output_type": "execute_result"
    }
   ],
   "source": [
    "# define numerical columns \n",
    "numerical_cols = df_loan.select_dtypes(include=['number']).columns\n",
    "numerical_cols"
   ]
  },
  {
   "cell_type": "code",
   "execution_count": 99,
   "metadata": {},
   "outputs": [],
   "source": [
    "# instantiate correlation for numerical features \n",
    "correlation = df_loan[numerical_cols].corr()"
   ]
  },
  {
   "cell_type": "code",
   "execution_count": 100,
   "metadata": {},
   "outputs": [
    {
     "data": {
      "image/png": "[encoded data removed]",
      "text/plain": [
       "<Figure size 1000x800 with 2 Axes>"
      ]
     },
     "metadata": {},
     "output_type": "display_data"
    }
   ],
   "source": [
    "# plot a correlation matrix to visualize correlations \n",
    "plt.figure(figsize=(10,8))\n",
    "sns.heatmap(correlation, linewidths=0.5, fmt='.2f', cmap=\"coolwarm\", annot=True)\n",
    "plt.title(\"Correlation Matrix\", fontsize=16)\n",
    "plt.show()"
   ]
  },
  {
   "cell_type": "markdown",
   "metadata": {},
   "source": [
    "#### Observation \n",
    "The values in the correlation matrix represent the strength and direction of relationships between features. A value close to 1 indicates a strong positive correlation, meaning the two features tend to increase together. Conversely, a value near -1 signifies a strong negative correlation, where one feature increases as the other decreases.\n",
    "\n",
    "Values close to 0 suggest little to no correlation, indicating that the features are largely independent. Moderate correlations are observed around 0.5 (positive) or -0.5 (negative), implying a moderate linear relationship.\n",
    "\n",
    "From the matrix, we can observe that the features in our dataset exhibit minimal correlation, suggesting that they are relatively independent of one another. "
   ]
  },
  {
   "cell_type": "markdown",
   "metadata": {},
   "source": [
    "### Data Distribution \n",
    "To analyze the spread of values in the numerical columns, we examine their distribution. This helps identify patterns, potential outliers, and skewness in the dataset. Visualizing these distributions provides insights into the underlying data structure and informs preprocessing decisions."
   ]
  },
  {
   "cell_type": "markdown",
   "metadata": {},
   "source": [
    "#### Histogram "
   ]
  },
  {
   "cell_type": "code",
   "execution_count": 101,
   "metadata": {},
   "outputs": [
    {
     "data": {
      "image/png": "[encoded data removed]",
      "text/plain": [
       "<Figure size 1000x500 with 8 Axes>"
      ]
     },
     "metadata": {},
     "output_type": "display_data"
    }
   ],
   "source": [
    "# plot the histogram to show the distribution in numeric columns \n",
    "plt.figure(figsize=(10,5))\n",
    "for i, col in enumerate (df_loan[numerical_cols].columns):\n",
    "  plt.subplot(2, 4, i+1) # create a subplot of 2 rows and 3 columns\n",
    "  sns.histplot(df_loan[col], kde=True, color='blue', stat='density', bins =20)\n",
    "  plt.title(f'Distribution of {col}', fontsize= 10)\n",
    "plt.tight_layout() # Adjust subplots to fit nicely\n",
    "plt.show()"
   ]
  },
  {
   "cell_type": "markdown",
   "metadata": {},
   "source": [
    "#### Observation \n",
    "The histogram above illustrates the distribution of data points across numerical columns. We observe the presence of outliers in all numerical features, which may impact analysis. Additionally, several distributions appear skewed, with a majority of values concentrated toward the lower or upper ends of the range. This skewness suggests potential data transformations or scaling may be necessary for improved model performance and interpretation."
   ]
  }
 ],
 "metadata": {
  "kernelspec": {
   "display_name": "base",
   "language": "python",
   "name": "python3"
  },
  "language_info": {
   "codemirror_mode": {
    "name": "ipython",
    "version": 3
   },
   "file_extension": ".py",
   "mimetype": "text/x-python",
   "name": "python",
   "nbconvert_exporter": "python",
   "pygments_lexer": "ipython3",
   "version": "3.11.7"
  }
 },
 "nbformat": 4,
 "nbformat_minor": 2
}
