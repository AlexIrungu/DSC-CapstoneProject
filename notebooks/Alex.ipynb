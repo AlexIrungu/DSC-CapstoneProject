{
 "cells": [
  {
   "cell_type": "markdown",
   "metadata": {},
   "source": [
    "# Loan Default Prediction Analysis"
   ]
  },
  {
   "cell_type": "markdown",
   "metadata": {},
   "source": [
    "## 1. Introduction"
   ]
  },
  {
   "cell_type": "markdown",
   "metadata": {},
   "source": [
    "# Business Understanding\n",
    "\n",
    "## Problem Statement\n",
    "This project analyzes loan data to predict loan defaults and assess loan performance. Loan defaults represent a significant challenge for financial institutions, leading to financial losses and increased risk. By identifying patterns and factors that contribute to defaults, stakeholders can make informed decisions to mitigate risks.\n",
    "\n",
    "## Stakeholders\n",
    "1. **Financial Institutions**: Banks and lending organizations can use this analysis to improve their credit risk assessment processes.\n",
    "2. **Loan Officers**: They can use the insights to make better lending decisions.\n",
    "3. **Regulatory Bodies**: They can monitor and enforce compliance with lending regulations.\n",
    "\n",
    "## Project Value\n",
    "This project provides actionable insights into loan performance and default prediction, enabling stakeholders to:\n",
    "- Identify high-risk loans early.\n",
    "- Optimize lending strategies.\n",
    "- Reduce financial losses due to defaults."
   ]
  },
  {
   "cell_type": "markdown",
   "metadata": {},
   "source": [
    "# 2. Data Understanding\n",
    "\n",
    "## Data Source\n",
    "The dataset used in this analysis is `Final_Loans_dataset.csv`, which contains loan-related information such as borrower demographics, credit scores, loan amounts, and repayment status. The data is sourced from a financial institution and includes both performing and non-performing loans.\n",
    "\n",
    "## Dataset Properties\n",
    "- **Size**: 1,048,575 rows and 19 columns.\n",
    "- **Features**: Includes borrower information (e.g., age, gender, employment status), loan details (e.g., principal amount, EMI), and performance metrics (e.g., arrears, loan status).\n",
    "- **Target Variable**: `LOAN_STATUS` (e.g., CURRENT, EXPIRED, AUTH) and `PRUDENTIAL_CLASSIFICATION` (e.g., NORMAL, DOUBTFUL).\n",
    "\n",
    "## Relevance to the Problem\n",
    "The dataset is suitable for this project because:\n",
    "- It contains historical loan data, which is essential for predicting defaults.\n",
    "- It includes features that are known to influence loan performance, such as credit scores and income levels.\n",
    "- The target variables (`LOAN_STATUS` and `PRUDENTIAL_CLASSIFICATION`) align with the problem of identifying loan defaults.\n",
    "\n",
    "## Limitations\n",
    "- **Missing Values**: Many columns have a high percentage of missing values, which may require imputation or removal.\n",
    "- **Data Quality**: Some columns (e.g., `AGE`, `EMI`) contain inconsistent or unrealistic values that need cleaning."
   ]
  },
  {
   "cell_type": "markdown",
   "metadata": {},
   "source": [
    "# Import Libraries"
   ]
  },
  {
   "cell_type": "code",
   "execution_count": 29,
   "metadata": {},
   "outputs": [],
   "source": [
    "#Import libraries\n",
    "#import neccessary libraries\n",
    "import pandas as pd\n",
    "import numpy as np\n",
    "import matplotlib.pyplot as plt\n",
    "import seaborn as sns\n",
    "import warnings\n",
    "warnings.filterwarnings('ignore')\n",
    "\n",
    "# For model building\n",
    "from sklearn.model_selection import train_test_split\n",
    "from sklearn.linear_model import LogisticRegression\n",
    "from sklearn.tree import DecisionTreeClassifier\n",
    "from sklearn.ensemble import RandomForestClassifier, GradientBoostingClassifier\n",
    "from sklearn.metrics import accuracy_score, classification_report, confusion_matrix, roc_curve, auc, precision_recall_curve\n",
    "from sklearn.preprocessing import StandardScaler, OneHotEncoder\n",
    "from sklearn.impute import SimpleImputer\n",
    "from sklearn.pipeline import Pipeline\n",
    "from sklearn.compose import ColumnTransformer\n",
    "\n",
    "# Set visualization style\n",
    "plt.style.use('seaborn-v0_8-whitegrid')\n",
    "# sns.set_palette(\"Set2\")\n",
    "\n",
    "# Display settings for better readability\n",
    "pd.set_option('display.max_columns', None)\n",
    "pd.set_option('display.width', 1000)"
   ]
  },
  {
   "cell_type": "markdown",
   "metadata": {},
   "source": [
    "## Load the dataset"
   ]
  },
  {
   "cell_type": "markdown",
   "metadata": {},
   "source": []
  },
  {
   "cell_type": "code",
   "execution_count": 30,
   "metadata": {},
   "outputs": [
    {
     "name": "stdout",
     "output_type": "stream",
     "text": [
      "Dataset dimensions: (1048575, 19)\n"
     ]
    }
   ],
   "source": [
    "#  reload the CSV with the low_memory=False parameter to properly handle the mixed data types:\n",
    "df = pd.read_csv('../Data/Final_Loans_dataset.csv', low_memory=False)\n",
    "print(f\"Dataset dimensions: {df.shape}\")"
   ]
  },
  {
   "cell_type": "code",
   "execution_count": 8,
   "metadata": {},
   "outputs": [
    {
     "name": "stdout",
     "output_type": "stream",
     "text": [
      "<class 'pandas.core.frame.DataFrame'>\n",
      "RangeIndex: 1048575 entries, 0 to 1048574\n",
      "Data columns (total 19 columns):\n",
      " #   Column                     Non-Null Count    Dtype  \n",
      "---  ------                     --------------    -----  \n",
      " 0   ID                         18197 non-null    float64\n",
      " 1   GENDER                     17749 non-null    object \n",
      " 2   AGE                        1045120 non-null  object \n",
      " 3   NO_DEFAULT_LOAN            17922 non-null    float64\n",
      " 4   EMPLOYMENT_STATUS          18197 non-null    object \n",
      " 5   SECTOR                     18070 non-null    object \n",
      " 6   MARITAL_STATUS             18197 non-null    object \n",
      " 7   CREDIT_SCORE               17922 non-null    float64\n",
      " 8   SCOREGRADE                 17922 non-null    object \n",
      " 9   CRR                        18197 non-null    object \n",
      " 10  CURRENCY                   18197 non-null    object \n",
      " 11  NET INCOME                 17763 non-null    float64\n",
      " 12  PRINCIPAL_AMOUNT           18197 non-null    float64\n",
      " 13  EMI                        18197 non-null    object \n",
      " 14  OD_DAYS                    18197 non-null    float64\n",
      " 15  PRUDENTIAL_CLASSIFICATION  18197 non-null    object \n",
      " 16  RISK_GRADE                 18197 non-null    object \n",
      " 17  AREARS                     18197 non-null    object \n",
      " 18  LOAN_STATUS                18197 non-null    object \n",
      "dtypes: float64(6), object(13)\n",
      "memory usage: 152.0+ MB\n"
     ]
    }
   ],
   "source": [
    "# Check basic information about the dataframe\n",
    "df.info()"
   ]
  },
  {
   "cell_type": "code",
   "execution_count": 9,
   "metadata": {},
   "outputs": [
    {
     "name": "stdout",
     "output_type": "stream",
     "text": [
      "         ID  GENDER AGE  NO_DEFAULT_LOAN EMPLOYMENT_STATUS                     SECTOR MARITAL_STATUS  CREDIT_SCORE SCOREGRADE  CRR CURRENCY  NET INCOME  PRINCIPAL_AMOUNT        EMI  OD_DAYS PRUDENTIAL_CLASSIFICATION RISK_GRADE      AREARS LOAN_STATUS\n",
      "0  209801.0  FEMALE  37              7.0          EMPLOYED        FINANCE & INSURANCE        MARRIED         615.0         II  B10      KES     5000.00         642000.00  59,826.37    204.0                  DOUBTFUL         B9  453,208.12     CURRENT\n",
      "1  315048.0    MALE  41              3.0     SELF-EMPLOYED                        NaN        MARRIED         529.0         JJ  B20      KES        0.00          78000.00   6,149.03    295.0                  DOUBTFUL         B9   68,917.29     EXPIRED\n",
      "2  145878.0    MALE  36              6.0          EMPLOYED  TRANSPORT & COMMUNICATION        MARRIED         665.0         FF   A5      KES  1294783.78          80000.00   7,439.02      0.0                    NORMAL      A1-A6        4.84     CURRENT\n",
      "3  295535.0    MALE  41              5.0          EMPLOYED                        NaN              0         618.0         HH  B20      KES   347554.00         172000.00  16,062.90    323.0                  DOUBTFUL         B9  195,045.53     EXPIRED\n",
      "4  493960.0    MALE  41              1.0          EMPLOYED        FINANCE & INSURANCE         SINGLE         696.0         DD   A5      KES  4210957.00         300502.44  28,098.61      0.0                    NORMAL      A1-A6      247.18     CURRENT\n"
     ]
    }
   ],
   "source": [
    "# Check the first few rows with more readable output\n",
    "print(df.head().to_string())"
   ]
  },
  {
   "cell_type": "code",
   "execution_count": 10,
   "metadata": {},
   "outputs": [
    {
     "data": {
      "text/html": [
       "<div>\n",
       "<style scoped>\n",
       "    .dataframe tbody tr th:only-of-type {\n",
       "        vertical-align: middle;\n",
       "    }\n",
       "\n",
       "    .dataframe tbody tr th {\n",
       "        vertical-align: top;\n",
       "    }\n",
       "\n",
       "    .dataframe thead th {\n",
       "        text-align: right;\n",
       "    }\n",
       "</style>\n",
       "<table border=\"1\" class=\"dataframe\">\n",
       "  <thead>\n",
       "    <tr style=\"text-align: right;\">\n",
       "      <th></th>\n",
       "      <th>ID</th>\n",
       "      <th>GENDER</th>\n",
       "      <th>AGE</th>\n",
       "      <th>NO_DEFAULT_LOAN</th>\n",
       "      <th>EMPLOYMENT_STATUS</th>\n",
       "      <th>SECTOR</th>\n",
       "      <th>MARITAL_STATUS</th>\n",
       "      <th>CREDIT_SCORE</th>\n",
       "      <th>SCOREGRADE</th>\n",
       "      <th>CRR</th>\n",
       "      <th>CURRENCY</th>\n",
       "      <th>NET INCOME</th>\n",
       "      <th>PRINCIPAL_AMOUNT</th>\n",
       "      <th>EMI</th>\n",
       "      <th>OD_DAYS</th>\n",
       "      <th>PRUDENTIAL_CLASSIFICATION</th>\n",
       "      <th>RISK_GRADE</th>\n",
       "      <th>AREARS</th>\n",
       "      <th>LOAN_STATUS</th>\n",
       "    </tr>\n",
       "  </thead>\n",
       "  <tbody>\n",
       "    <tr>\n",
       "      <th>count</th>\n",
       "      <td>18197.000000</td>\n",
       "      <td>17749</td>\n",
       "      <td>1045120</td>\n",
       "      <td>17922.000000</td>\n",
       "      <td>18197</td>\n",
       "      <td>18070</td>\n",
       "      <td>18197</td>\n",
       "      <td>17922.000000</td>\n",
       "      <td>17922</td>\n",
       "      <td>18197</td>\n",
       "      <td>18197</td>\n",
       "      <td>1.776300e+04</td>\n",
       "      <td>1.819700e+04</td>\n",
       "      <td>18197</td>\n",
       "      <td>18197.000000</td>\n",
       "      <td>18197</td>\n",
       "      <td>18197</td>\n",
       "      <td>18197</td>\n",
       "      <td>18197</td>\n",
       "    </tr>\n",
       "    <tr>\n",
       "      <th>unique</th>\n",
       "      <td>NaN</td>\n",
       "      <td>3</td>\n",
       "      <td>69</td>\n",
       "      <td>NaN</td>\n",
       "      <td>7</td>\n",
       "      <td>21</td>\n",
       "      <td>8</td>\n",
       "      <td>NaN</td>\n",
       "      <td>11</td>\n",
       "      <td>10</td>\n",
       "      <td>1</td>\n",
       "      <td>NaN</td>\n",
       "      <td>NaN</td>\n",
       "      <td>11618</td>\n",
       "      <td>NaN</td>\n",
       "      <td>4</td>\n",
       "      <td>4</td>\n",
       "      <td>3920</td>\n",
       "      <td>3</td>\n",
       "    </tr>\n",
       "    <tr>\n",
       "      <th>top</th>\n",
       "      <td>NaN</td>\n",
       "      <td>FEMALE</td>\n",
       "      <td>0</td>\n",
       "      <td>NaN</td>\n",
       "      <td>EMPLOYED</td>\n",
       "      <td>BUSINESS SERVICES</td>\n",
       "      <td>MARRIED</td>\n",
       "      <td>NaN</td>\n",
       "      <td>AA</td>\n",
       "      <td>A5</td>\n",
       "      <td>KES</td>\n",
       "      <td>NaN</td>\n",
       "      <td>NaN</td>\n",
       "      <td>7,101.24</td>\n",
       "      <td>NaN</td>\n",
       "      <td>NORMAL</td>\n",
       "      <td>A1-A6</td>\n",
       "      <td>0</td>\n",
       "      <td>CURRENT</td>\n",
       "    </tr>\n",
       "    <tr>\n",
       "      <th>freq</th>\n",
       "      <td>NaN</td>\n",
       "      <td>6779</td>\n",
       "      <td>1026923</td>\n",
       "      <td>NaN</td>\n",
       "      <td>9415</td>\n",
       "      <td>3272</td>\n",
       "      <td>8296</td>\n",
       "      <td>NaN</td>\n",
       "      <td>2656</td>\n",
       "      <td>16508</td>\n",
       "      <td>18197</td>\n",
       "      <td>NaN</td>\n",
       "      <td>NaN</td>\n",
       "      <td>141</td>\n",
       "      <td>NaN</td>\n",
       "      <td>17033</td>\n",
       "      <td>17033</td>\n",
       "      <td>14202</td>\n",
       "      <td>17562</td>\n",
       "    </tr>\n",
       "    <tr>\n",
       "      <th>mean</th>\n",
       "      <td>253786.591251</td>\n",
       "      <td>NaN</td>\n",
       "      <td>NaN</td>\n",
       "      <td>1.045140</td>\n",
       "      <td>NaN</td>\n",
       "      <td>NaN</td>\n",
       "      <td>NaN</td>\n",
       "      <td>668.168173</td>\n",
       "      <td>NaN</td>\n",
       "      <td>NaN</td>\n",
       "      <td>NaN</td>\n",
       "      <td>2.770398e+06</td>\n",
       "      <td>1.985260e+05</td>\n",
       "      <td>NaN</td>\n",
       "      <td>9.487113</td>\n",
       "      <td>NaN</td>\n",
       "      <td>NaN</td>\n",
       "      <td>NaN</td>\n",
       "      <td>NaN</td>\n",
       "    </tr>\n",
       "    <tr>\n",
       "      <th>std</th>\n",
       "      <td>142327.521201</td>\n",
       "      <td>NaN</td>\n",
       "      <td>NaN</td>\n",
       "      <td>1.593513</td>\n",
       "      <td>NaN</td>\n",
       "      <td>NaN</td>\n",
       "      <td>NaN</td>\n",
       "      <td>73.684555</td>\n",
       "      <td>NaN</td>\n",
       "      <td>NaN</td>\n",
       "      <td>NaN</td>\n",
       "      <td>5.592659e+06</td>\n",
       "      <td>2.508231e+05</td>\n",
       "      <td>NaN</td>\n",
       "      <td>38.744496</td>\n",
       "      <td>NaN</td>\n",
       "      <td>NaN</td>\n",
       "      <td>NaN</td>\n",
       "      <td>NaN</td>\n",
       "    </tr>\n",
       "    <tr>\n",
       "      <th>min</th>\n",
       "      <td>10010.000000</td>\n",
       "      <td>NaN</td>\n",
       "      <td>NaN</td>\n",
       "      <td>0.000000</td>\n",
       "      <td>NaN</td>\n",
       "      <td>NaN</td>\n",
       "      <td>NaN</td>\n",
       "      <td>0.000000</td>\n",
       "      <td>NaN</td>\n",
       "      <td>NaN</td>\n",
       "      <td>NaN</td>\n",
       "      <td>0.000000e+00</td>\n",
       "      <td>1.000000e+03</td>\n",
       "      <td>NaN</td>\n",
       "      <td>0.000000</td>\n",
       "      <td>NaN</td>\n",
       "      <td>NaN</td>\n",
       "      <td>NaN</td>\n",
       "      <td>NaN</td>\n",
       "    </tr>\n",
       "    <tr>\n",
       "      <th>25%</th>\n",
       "      <td>128681.000000</td>\n",
       "      <td>NaN</td>\n",
       "      <td>NaN</td>\n",
       "      <td>0.000000</td>\n",
       "      <td>NaN</td>\n",
       "      <td>NaN</td>\n",
       "      <td>NaN</td>\n",
       "      <td>618.000000</td>\n",
       "      <td>NaN</td>\n",
       "      <td>NaN</td>\n",
       "      <td>NaN</td>\n",
       "      <td>4.262711e+05</td>\n",
       "      <td>1.800000e+04</td>\n",
       "      <td>NaN</td>\n",
       "      <td>0.000000</td>\n",
       "      <td>NaN</td>\n",
       "      <td>NaN</td>\n",
       "      <td>NaN</td>\n",
       "      <td>NaN</td>\n",
       "    </tr>\n",
       "    <tr>\n",
       "      <th>50%</th>\n",
       "      <td>253214.000000</td>\n",
       "      <td>NaN</td>\n",
       "      <td>NaN</td>\n",
       "      <td>0.000000</td>\n",
       "      <td>NaN</td>\n",
       "      <td>NaN</td>\n",
       "      <td>NaN</td>\n",
       "      <td>665.000000</td>\n",
       "      <td>NaN</td>\n",
       "      <td>NaN</td>\n",
       "      <td>NaN</td>\n",
       "      <td>1.123325e+06</td>\n",
       "      <td>1.000000e+05</td>\n",
       "      <td>NaN</td>\n",
       "      <td>0.000000</td>\n",
       "      <td>NaN</td>\n",
       "      <td>NaN</td>\n",
       "      <td>NaN</td>\n",
       "      <td>NaN</td>\n",
       "    </tr>\n",
       "    <tr>\n",
       "      <th>75%</th>\n",
       "      <td>376726.000000</td>\n",
       "      <td>NaN</td>\n",
       "      <td>NaN</td>\n",
       "      <td>2.000000</td>\n",
       "      <td>NaN</td>\n",
       "      <td>NaN</td>\n",
       "      <td>NaN</td>\n",
       "      <td>720.000000</td>\n",
       "      <td>NaN</td>\n",
       "      <td>NaN</td>\n",
       "      <td>NaN</td>\n",
       "      <td>2.820720e+06</td>\n",
       "      <td>2.805131e+05</td>\n",
       "      <td>NaN</td>\n",
       "      <td>0.000000</td>\n",
       "      <td>NaN</td>\n",
       "      <td>NaN</td>\n",
       "      <td>NaN</td>\n",
       "      <td>NaN</td>\n",
       "    </tr>\n",
       "    <tr>\n",
       "      <th>max</th>\n",
       "      <td>499999.000000</td>\n",
       "      <td>NaN</td>\n",
       "      <td>NaN</td>\n",
       "      <td>15.000000</td>\n",
       "      <td>NaN</td>\n",
       "      <td>NaN</td>\n",
       "      <td>NaN</td>\n",
       "      <td>830.000000</td>\n",
       "      <td>NaN</td>\n",
       "      <td>NaN</td>\n",
       "      <td>NaN</td>\n",
       "      <td>1.338524e+08</td>\n",
       "      <td>1.445752e+06</td>\n",
       "      <td>NaN</td>\n",
       "      <td>323.000000</td>\n",
       "      <td>NaN</td>\n",
       "      <td>NaN</td>\n",
       "      <td>NaN</td>\n",
       "      <td>NaN</td>\n",
       "    </tr>\n",
       "  </tbody>\n",
       "</table>\n",
       "</div>"
      ],
      "text/plain": [
       "                   ID  GENDER      AGE  NO_DEFAULT_LOAN EMPLOYMENT_STATUS  \\\n",
       "count    18197.000000   17749  1045120     17922.000000             18197   \n",
       "unique            NaN       3       69              NaN                 7   \n",
       "top               NaN  FEMALE        0              NaN          EMPLOYED   \n",
       "freq              NaN    6779  1026923              NaN              9415   \n",
       "mean    253786.591251     NaN      NaN         1.045140               NaN   \n",
       "std     142327.521201     NaN      NaN         1.593513               NaN   \n",
       "min      10010.000000     NaN      NaN         0.000000               NaN   \n",
       "25%     128681.000000     NaN      NaN         0.000000               NaN   \n",
       "50%     253214.000000     NaN      NaN         0.000000               NaN   \n",
       "75%     376726.000000     NaN      NaN         2.000000               NaN   \n",
       "max     499999.000000     NaN      NaN        15.000000               NaN   \n",
       "\n",
       "                   SECTOR MARITAL_STATUS  CREDIT_SCORE SCOREGRADE    CRR  \\\n",
       "count               18070          18197  17922.000000      17922  18197   \n",
       "unique                 21              8           NaN         11     10   \n",
       "top     BUSINESS SERVICES        MARRIED           NaN         AA     A5   \n",
       "freq                 3272           8296           NaN       2656  16508   \n",
       "mean                  NaN            NaN    668.168173        NaN    NaN   \n",
       "std                   NaN            NaN     73.684555        NaN    NaN   \n",
       "min                   NaN            NaN      0.000000        NaN    NaN   \n",
       "25%                   NaN            NaN    618.000000        NaN    NaN   \n",
       "50%                   NaN            NaN    665.000000        NaN    NaN   \n",
       "75%                   NaN            NaN    720.000000        NaN    NaN   \n",
       "max                   NaN            NaN    830.000000        NaN    NaN   \n",
       "\n",
       "       CURRENCY    NET INCOME  PRINCIPAL_AMOUNT       EMI       OD_DAYS  \\\n",
       "count     18197  1.776300e+04      1.819700e+04     18197  18197.000000   \n",
       "unique        1           NaN               NaN     11618           NaN   \n",
       "top         KES           NaN               NaN  7,101.24           NaN   \n",
       "freq      18197           NaN               NaN       141           NaN   \n",
       "mean        NaN  2.770398e+06      1.985260e+05       NaN      9.487113   \n",
       "std         NaN  5.592659e+06      2.508231e+05       NaN     38.744496   \n",
       "min         NaN  0.000000e+00      1.000000e+03       NaN      0.000000   \n",
       "25%         NaN  4.262711e+05      1.800000e+04       NaN      0.000000   \n",
       "50%         NaN  1.123325e+06      1.000000e+05       NaN      0.000000   \n",
       "75%         NaN  2.820720e+06      2.805131e+05       NaN      0.000000   \n",
       "max         NaN  1.338524e+08      1.445752e+06       NaN    323.000000   \n",
       "\n",
       "       PRUDENTIAL_CLASSIFICATION RISK_GRADE AREARS LOAN_STATUS  \n",
       "count                      18197      18197  18197       18197  \n",
       "unique                         4          4   3920           3  \n",
       "top                       NORMAL      A1-A6      0     CURRENT  \n",
       "freq                       17033      17033  14202       17562  \n",
       "mean                         NaN        NaN    NaN         NaN  \n",
       "std                          NaN        NaN    NaN         NaN  \n",
       "min                          NaN        NaN    NaN         NaN  \n",
       "25%                          NaN        NaN    NaN         NaN  \n",
       "50%                          NaN        NaN    NaN         NaN  \n",
       "75%                          NaN        NaN    NaN         NaN  \n",
       "max                          NaN        NaN    NaN         NaN  "
      ]
     },
     "execution_count": 10,
     "metadata": {},
     "output_type": "execute_result"
    }
   ],
   "source": [
    "# Get descriptive statistics\n",
    "df.describe(include='all')"
   ]
  },
  {
   "cell_type": "markdown",
   "metadata": {},
   "source": [
    "# 3. Data Preparation\n",
    "\n",
    "## Handling Missing Values\n",
    "- Rows with fewer than 5 non-null values were dropped to ensure data quality.\n",
    "- Missing values in categorical columns (e.g., `GENDER`, `EMPLOYMENT_STATUS`) were replaced with `NaN` for consistency.\n",
    "\n",
    "## Cleaning Data\n",
    "- **EMI and AREARS**: Converted from string to float by removing commas.\n",
    "- **AGE**: Converted to numeric and replaced unrealistic values (e.g., 0) with `NaN`.\n",
    "- **Categorical Columns**: Converted to uppercase for consistency.\n",
    "\n",
    "## Feature Engineering\n",
    "- **Debt-to-Income Ratio**: Created a new feature (`DEBT_TO_INCOME`) to measure the borrower's ability to repay loans.\n",
    "- **Age Groups**: Categorized borrowers into age groups (e.g., 18-25, 26-35) for better analysis.\n",
    "- **Loan Performance**: Created a new feature (`LOAN_PERFORMANCE`) to classify loans as PERFORMING, LATE, DELINQUENT, or DEFAULT based on overdue days (`OD_DAYS`).\n",
    "\n",
    "## Justification\n",
    "- **Handling Missing Values**: Ensures the dataset is clean and suitable for analysis.\n",
    "- **Feature Engineering**: Adds meaningful features that are relevant to loan performance and default prediction."
   ]
  },
  {
   "cell_type": "code",
   "execution_count": 31,
   "metadata": {},
   "outputs": [
    {
     "name": "stdout",
     "output_type": "stream",
     "text": [
      "Missing values per column:\n",
      "ID                           1030378\n",
      "GENDER                       1030826\n",
      "AGE                             3455\n",
      "NO_DEFAULT_LOAN              1030653\n",
      "EMPLOYMENT_STATUS            1030378\n",
      "SECTOR                       1030505\n",
      "MARITAL_STATUS               1030378\n",
      "CREDIT_SCORE                 1030653\n",
      "SCOREGRADE                   1030653\n",
      "CRR                          1030378\n",
      "CURRENCY                     1030378\n",
      "NET INCOME                   1030812\n",
      "PRINCIPAL_AMOUNT             1030378\n",
      "EMI                          1030378\n",
      "OD_DAYS                      1030378\n",
      "PRUDENTIAL_CLASSIFICATION    1030378\n",
      "RISK_GRADE                   1030378\n",
      "AREARS                       1030378\n",
      "LOAN_STATUS                  1030378\n",
      "dtype: int64\n"
     ]
    }
   ],
   "source": [
    "# Count missing values in each column\n",
    "missing_values = df.isnull().sum()\n",
    "print(\"Missing values per column:\")\n",
    "print(missing_values)"
   ]
  },
  {
   "cell_type": "code",
   "execution_count": 32,
   "metadata": {},
   "outputs": [
    {
     "name": "stdout",
     "output_type": "stream",
     "text": [
      "\n",
      "Percentage of missing values per column:\n",
      "ID                           98.264597\n",
      "GENDER                       98.307322\n",
      "AGE                           0.329495\n",
      "NO_DEFAULT_LOAN              98.290823\n",
      "EMPLOYMENT_STATUS            98.264597\n",
      "SECTOR                       98.276709\n",
      "MARITAL_STATUS               98.264597\n",
      "CREDIT_SCORE                 98.290823\n",
      "SCOREGRADE                   98.290823\n",
      "CRR                          98.264597\n",
      "CURRENCY                     98.264597\n",
      "NET INCOME                   98.305987\n",
      "PRINCIPAL_AMOUNT             98.264597\n",
      "EMI                          98.264597\n",
      "OD_DAYS                      98.264597\n",
      "PRUDENTIAL_CLASSIFICATION    98.264597\n",
      "RISK_GRADE                   98.264597\n",
      "AREARS                       98.264597\n",
      "LOAN_STATUS                  98.264597\n",
      "dtype: float64\n"
     ]
    }
   ],
   "source": [
    "# calculate percentage of missing values\n",
    "missing_percentage = (missing_values / len(df)) * 100\n",
    "print(\"\\nPercentage of missing values per column:\")\n",
    "print(missing_percentage)"
   ]
  },
  {
   "cell_type": "code",
   "execution_count": 33,
   "metadata": {},
   "outputs": [
    {
     "data": {
      "image/png": "[encoded data removed]",
      "text/plain": [
       "<Figure size 864x432 with 1 Axes>"
      ]
     },
     "metadata": {
      "needs_background": "light"
     },
     "output_type": "display_data"
    }
   ],
   "source": [
    "# Plot missing values \n",
    "plt.figure(figsize=(12, 6))\n",
    "missing_percentage.plot(kind='bar')\n",
    "plt.title('Percentage of Missing Values by Column')\n",
    "plt.xlabel('Columns')\n",
    "plt.ylabel('Missing Values (%)')\n",
    "plt.xticks(rotation=90)\n",
    "plt.tight_layout()\n",
    "plt.show()"
   ]
  },
  {
   "cell_type": "code",
   "execution_count": 34,
   "metadata": {},
   "outputs": [
    {
     "name": "stdout",
     "output_type": "stream",
     "text": [
      "Original shape: (1048575, 19), New shape: (18197, 19)\n"
     ]
    }
   ],
   "source": [
    "# Remove rows where all or most columns are NaN\n",
    "df_clean = df.dropna(thresh=5)  # Keep rows with at least 5 non-null values\n",
    "print(f\"Original shape: {df.shape}, New shape: {df_clean.shape}\")"
   ]
  },
  {
   "cell_type": "markdown",
   "metadata": {},
   "source": [
    "## Data Cleaning"
   ]
  },
  {
   "cell_type": "code",
   "execution_count": 35,
   "metadata": {},
   "outputs": [],
   "source": [
    "# Convert EMI and AREARS columns from string to float (removing commas)\n",
    "df_clean.loc[:, 'EMI'] = df_clean['EMI'].str.replace(',', '').astype(float)\n",
    "df_clean.loc[:, 'AREARS'] = df_clean['AREARS'].str.replace(',', '').astype(float)"
   ]
  },
  {
   "cell_type": "code",
   "execution_count": 36,
   "metadata": {},
   "outputs": [],
   "source": [
    "# Replace \"0\" with NaN in categorical columns where \"0\" is not a valid category\n",
    "categorical_cols = ['GENDER', 'EMPLOYMENT_STATUS', 'MARITAL_STATUS']\n",
    "for col in categorical_cols:\n",
    "    df_clean.loc[:, col] = df_clean[col].replace(\"0\", np.nan)"
   ]
  },
  {
   "cell_type": "code",
   "execution_count": 37,
   "metadata": {},
   "outputs": [],
   "source": [
    "# Convert AGE to numeric and replace unrealistic values (like 0) with NaN\n",
    "df_clean.loc[:, 'AGE'] = pd.to_numeric(df_clean['AGE'], errors='coerce')\n",
    "df_clean.loc[:, 'AGE'] = df_clean['AGE'].apply(lambda x: np.nan if x == 0 or x < 18 or x > 100 else x)"
   ]
  },
  {
   "cell_type": "code",
   "execution_count": 41,
   "metadata": {},
   "outputs": [],
   "source": [
    "# Convert text columns to uppercase for consistency\n",
    "for col in df_clean.select_dtypes(include=['object']).columns:\n",
    "    df_clean.loc[:, col] = df_clean[col].str.upper() if hasattr(df_clean[col], 'str') else df_clean[col]"
   ]
  },
  {
   "cell_type": "code",
   "execution_count": 39,
   "metadata": {},
   "outputs": [
    {
     "name": "stdout",
     "output_type": "stream",
     "text": [
      "\n",
      "Unique values in GENDER:\n",
      "GENDER\n",
      "FEMALE    6779\n",
      "MALE      5854\n",
      "Name: count, dtype: int64\n",
      "\n",
      "Unique values in EMPLOYMENT_STATUS:\n",
      "EMPLOYMENT_STATUS\n",
      "EMPLOYED         9415\n",
      "SELF-EMPLOYED    5930\n",
      "OTHER             275\n",
      "STUDENT            42\n",
      "RETIRED            14\n",
      "UNEMPLOYED         13\n",
      "Name: count, dtype: int64\n",
      "\n",
      "Unique values in SECTOR:\n",
      "SECTOR\n",
      "BUSINESS SERVICES                      3272\n",
      "INDIVIDUALS                            2520\n",
      "SOCIAL, COMMUNITY & PERSONAL SERVIC    2285\n",
      "WHOLESALE AND RETAIL TRADE             1935\n",
      "TRANSPORT & COMMUNICATION              1816\n",
      "MANUFACTURING & PROCESSING             1553\n",
      "FINANCE & INSURANCE                     764\n",
      "AGRICULTURE                             731\n",
      "TOURISM & HOSPITALITY                   653\n",
      "BUILDING & CONSTRUCTION                 600\n",
      "NON PROFIT INSTITUTIONS                 520\n",
      "GOVERNMENT                              326\n",
      "PROFESSIONAL SERVICES                   267\n",
      "REAL ESTATE                             256\n",
      "PETROLEUM & NATURAL GAS                 156\n",
      "ELECTRICITY & WATER                     146\n",
      "HUNTING LIVESTOCK AND FISHING           136\n",
      "CONSUMER DURABLES                        56\n",
      "FOREIGN TRADE                            53\n",
      "MINING & QUARRYING                       13\n",
      "FORESTRY                                 12\n",
      "Name: count, dtype: int64\n",
      "\n",
      "Unique values in MARITAL_STATUS:\n",
      "MARITAL_STATUS\n",
      "MARRIED     8296\n",
      "SINGLE      5331\n",
      "OTHER        286\n",
      "WIDOWED       36\n",
      "ENGAGED       27\n",
      "DIVORCED      18\n",
      "PARTNER        8\n",
      "Name: count, dtype: int64\n",
      "\n",
      "Unique values in SCOREGRADE:\n",
      "SCOREGRADE\n",
      "AA    2656\n",
      "II    2503\n",
      "HH    2100\n",
      "GG    2032\n",
      "JJ    1769\n",
      "FF    1590\n",
      "DD    1358\n",
      "EE    1325\n",
      "BB    1299\n",
      "CC    1253\n",
      "YY      37\n",
      "Name: count, dtype: int64\n",
      "\n",
      "Unique values in CRR:\n",
      "CRR\n",
      "A5     16508\n",
      "A3       770\n",
      "B9       322\n",
      "B10      264\n",
      "B11      185\n",
      "B20      104\n",
      "A6        20\n",
      "A2        12\n",
      "A4        11\n",
      "B12        1\n",
      "Name: count, dtype: int64\n",
      "\n",
      "Unique values in PRUDENTIAL_CLASSIFICATION:\n",
      "PRUDENTIAL_CLASSIFICATION\n",
      "NORMAL         17033\n",
      "WATCH            544\n",
      "DOUBTFUL         331\n",
      "SUBSTANDARD      289\n",
      "Name: count, dtype: int64\n",
      "\n",
      "Unique values in RISK_GRADE:\n",
      "RISK_GRADE\n",
      "A1-A6    17033\n",
      "B7         544\n",
      "B9         331\n",
      "B8         289\n",
      "Name: count, dtype: int64\n",
      "\n",
      "Unique values in LOAN_STATUS:\n",
      "LOAN_STATUS\n",
      "CURRENT    17562\n",
      "AUTH         398\n",
      "EXPIRED      237\n",
      "Name: count, dtype: int64\n"
     ]
    }
   ],
   "source": [
    "# Check unique values in categorical columns\n",
    "for col in ['GENDER', 'EMPLOYMENT_STATUS', 'SECTOR', 'MARITAL_STATUS', 'SCOREGRADE', 'CRR', 'PRUDENTIAL_CLASSIFICATION', 'RISK_GRADE', 'LOAN_STATUS']:\n",
    "    print(f\"\\nUnique values in {col}:\")\n",
    "    print(df_clean[col].value_counts())"
   ]
  },
  {
   "cell_type": "markdown",
   "metadata": {},
   "source": [
    "## Feature Engineering"
   ]
  },
  {
   "cell_type": "code",
   "execution_count": 43,
   "metadata": {},
   "outputs": [],
   "source": [
    "# Replace zero or NaN values in 'NET INCOME' with NaN to avoid division by zero\n",
    "df_clean.loc[:, 'DEBT_TO_INCOME'] = df_clean['EMI'] / df_clean['NET INCOME'].replace(0, np.nan)\n"
   ]
  },
  {
   "cell_type": "code",
   "execution_count": 44,
   "metadata": {},
   "outputs": [],
   "source": [
    "# Handle infinite values in DEBT_TO_INCOME\n",
    "df_clean.loc[:, 'DEBT_TO_INCOME'] = df_clean['DEBT_TO_INCOME'].replace([np.inf, -np.inf], np.nan)"
   ]
  },
  {
   "cell_type": "code",
   "execution_count": 45,
   "metadata": {},
   "outputs": [],
   "source": [
    "# Create age groups\n",
    "bins = [18, 25, 35, 45, 55, 65, 100]\n",
    "labels = ['18-25', '26-35', '36-45', '46-55', '56-65', '65+']\n",
    "df_clean.loc[:, 'AGE_GROUP'] = pd.cut(df_clean['AGE'], bins=bins, labels=labels)"
   ]
  },
  {
   "cell_type": "code",
   "execution_count": 46,
   "metadata": {},
   "outputs": [],
   "source": [
    "# Create binary default indicator\n",
    "df_clean.loc[:, 'DEFAULT'] = df_clean['PRUDENTIAL_CLASSIFICATION'].apply(lambda x: 0 if x == 'NORMAL' else 1)"
   ]
  },
  {
   "cell_type": "code",
   "execution_count": 47,
   "metadata": {},
   "outputs": [],
   "source": [
    "# Create loan performance categories\n",
    "conditions = [\n",
    "    (df_clean['OD_DAYS'] == 0),\n",
    "    (df_clean['OD_DAYS'] > 0) & (df_clean['OD_DAYS'] <= 30),\n",
    "    (df_clean['OD_DAYS'] > 30) & (df_clean['OD_DAYS'] <= 90),\n",
    "    (df_clean['OD_DAYS'] > 90)\n",
    "]\n",
    "choices = ['PERFORMING', 'LATE', 'DELINQUENT', 'DEFAULT']\n",
    "df_clean.loc[:, 'LOAN_PERFORMANCE'] = np.select(conditions, choices, default='UNKNOWN')"
   ]
  },
  {
   "cell_type": "code",
   "execution_count": 48,
   "metadata": {},
   "outputs": [],
   "source": [
    "# Create Principal-to-Income ratio\n",
    "df_clean.loc[:, 'PRINCIPAL_TO_INCOME'] = df_clean['PRINCIPAL_AMOUNT'] / df_clean['NET INCOME']\n",
    "df_clean.loc[:, 'PRINCIPAL_TO_INCOME'] = df_clean['PRINCIPAL_TO_INCOME'].replace([np.inf, -np.inf], np.nan)"
   ]
  },
  {
   "cell_type": "code",
   "execution_count": 49,
   "metadata": {},
   "outputs": [],
   "source": [
    "# Calculate loan-to-value ratio proxy (assuming CREDIT_SCORE as a proxy for collateral quality)\n",
    "df_clean.loc[:, 'LOAN_TO_VALUE_PROXY'] = df_clean['PRINCIPAL_AMOUNT'] / (df_clean['CREDIT_SCORE'] * 100)"
   ]
  },
  {
   "cell_type": "code",
   "execution_count": 50,
   "metadata": {},
   "outputs": [
    {
     "name": "stdout",
     "output_type": "stream",
     "text": [
      "Number of outliers in NET INCOME: 1848\n",
      "Number of outliers in PRINCIPAL_AMOUNT: 1425\n"
     ]
    }
   ],
   "source": [
    "# Check for outliers in NET INCOME\n",
    "Q1_income = df_clean['NET INCOME'].quantile(0.25)\n",
    "Q3_income = df_clean['NET INCOME'].quantile(0.75)\n",
    "IQR_income = Q3_income - Q1_income\n",
    "lower_bound_income = Q1_income - 1.5 * IQR_income\n",
    "upper_bound_income = Q3_income + 1.5 * IQR_income\n",
    "\n",
    "income_outliers = df_clean[(df_clean['NET INCOME'] < lower_bound_income) | (df_clean['NET INCOME'] > upper_bound_income)]\n",
    "print(f\"Number of outliers in NET INCOME: {len(income_outliers)}\")\n",
    "\n",
    "# Check for outliers in PRINCIPAL_AMOUNT\n",
    "Q1_principal = df_clean['PRINCIPAL_AMOUNT'].quantile(0.25)\n",
    "Q3_principal = df_clean['PRINCIPAL_AMOUNT'].quantile(0.75)\n",
    "IQR_principal = Q3_principal - Q1_principal\n",
    "lower_bound_principal = Q1_principal - 1.5 * IQR_principal\n",
    "upper_bound_principal = Q3_principal + 1.5 * IQR_principal\n",
    "\n",
    "principal_outliers = df_clean[(df_clean['PRINCIPAL_AMOUNT'] < lower_bound_principal) | (df_clean['PRINCIPAL_AMOUNT'] > upper_bound_principal)]\n",
    "print(f\"Number of outliers in PRINCIPAL_AMOUNT: {len(principal_outliers)}\")\n"
   ]
  },
  {
   "cell_type": "markdown",
   "metadata": {},
   "source": []
  },
  {
   "cell_type": "code",
   "execution_count": null,
   "metadata": {},
   "outputs": [],
   "source": []
  }
 ],
 "metadata": {
  "kernelspec": {
   "display_name": "Python 3",
   "language": "python",
   "name": "python3"
  },
  "language_info": {
   "codemirror_mode": {
    "name": "ipython",
    "version": 3
   },
   "file_extension": ".py",
   "mimetype": "text/x-python",
   "name": "python",
   "nbconvert_exporter": "python",
   "pygments_lexer": "ipython3",
   "version": "3.8.5"
  }
 },
 "nbformat": 4,
 "nbformat_minor": 2
}
